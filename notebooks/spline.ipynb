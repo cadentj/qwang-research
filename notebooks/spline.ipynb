{
 "cells": [
  {
   "cell_type": "code",
   "execution_count": 1,
   "metadata": {},
   "outputs": [],
   "source": [
    "import pandas as pd\n",
    "import numpy as np"
   ]
  },
  {
   "cell_type": "code",
   "execution_count": 2,
   "metadata": {},
   "outputs": [
    {
     "data": {
      "text/html": [
       "<div>\n",
       "<style scoped>\n",
       "    .dataframe tbody tr th:only-of-type {\n",
       "        vertical-align: middle;\n",
       "    }\n",
       "\n",
       "    .dataframe tbody tr th {\n",
       "        vertical-align: top;\n",
       "    }\n",
       "\n",
       "    .dataframe thead th {\n",
       "        text-align: right;\n",
       "    }\n",
       "</style>\n",
       "<table border=\"1\" class=\"dataframe\">\n",
       "  <thead>\n",
       "    <tr style=\"text-align: right;\">\n",
       "      <th></th>\n",
       "      <th>Sensor</th>\n",
       "      <th>Temperature</th>\n",
       "      <th>Latitude</th>\n",
       "      <th>Longitude</th>\n",
       "    </tr>\n",
       "  </thead>\n",
       "  <tbody>\n",
       "    <tr>\n",
       "      <th>0</th>\n",
       "      <td>sensor_0</td>\n",
       "      <td>72.283005</td>\n",
       "      <td>41.797636</td>\n",
       "      <td>-74.44575</td>\n",
       "    </tr>\n",
       "    <tr>\n",
       "      <th>1</th>\n",
       "      <td>sensor_0</td>\n",
       "      <td>78.926256</td>\n",
       "      <td>41.797636</td>\n",
       "      <td>-74.44575</td>\n",
       "    </tr>\n",
       "    <tr>\n",
       "      <th>2</th>\n",
       "      <td>sensor_0</td>\n",
       "      <td>76.846623</td>\n",
       "      <td>41.797636</td>\n",
       "      <td>-74.44575</td>\n",
       "    </tr>\n",
       "    <tr>\n",
       "      <th>3</th>\n",
       "      <td>sensor_0</td>\n",
       "      <td>72.988022</td>\n",
       "      <td>41.797636</td>\n",
       "      <td>-74.44575</td>\n",
       "    </tr>\n",
       "    <tr>\n",
       "      <th>4</th>\n",
       "      <td>sensor_0</td>\n",
       "      <td>79.912568</td>\n",
       "      <td>41.797636</td>\n",
       "      <td>-74.44575</td>\n",
       "    </tr>\n",
       "  </tbody>\n",
       "</table>\n",
       "</div>"
      ],
      "text/plain": [
       "     Sensor  Temperature   Latitude  Longitude\n",
       "0  sensor_0    72.283005  41.797636  -74.44575\n",
       "1  sensor_0    78.926256  41.797636  -74.44575\n",
       "2  sensor_0    76.846623  41.797636  -74.44575\n",
       "3  sensor_0    72.988022  41.797636  -74.44575\n",
       "4  sensor_0    79.912568  41.797636  -74.44575"
      ]
     },
     "execution_count": 2,
     "metadata": {},
     "output_type": "execute_result"
    }
   ],
   "source": [
    "df = pd.read_pickle('../data/data.pkl')\n",
    "df.head()"
   ]
  },
  {
   "cell_type": "code",
   "execution_count": 5,
   "metadata": {},
   "outputs": [
    {
     "data": {
      "text/plain": [
       "100"
      ]
     },
     "execution_count": 5,
     "metadata": {},
     "output_type": "execute_result"
    }
   ],
   "source": [
    "loc = list(zip(df['Latitude'].unique(), df['Longitude'].unique()))\n",
    "\n",
    "for i in range(len(loc)) :\n",
    "    df.loc[(df['Latitude'] == loc[i][0]) & (df['Longitude'] == loc[i][1]), 'Location'] = i\n",
    "\n"
   ]
  }
 ],
 "metadata": {
  "kernelspec": {
   "display_name": "m3",
   "language": "python",
   "name": "python3"
  },
  "language_info": {
   "codemirror_mode": {
    "name": "ipython",
    "version": 3
   },
   "file_extension": ".py",
   "mimetype": "text/x-python",
   "name": "python",
   "nbconvert_exporter": "python",
   "pygments_lexer": "ipython3",
   "version": "3.10.9"
  },
  "orig_nbformat": 4
 },
 "nbformat": 4,
 "nbformat_minor": 2
}
