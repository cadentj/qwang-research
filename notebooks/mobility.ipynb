{
 "cells": [
  {
   "cell_type": "code",
   "execution_count": 1,
   "metadata": {},
   "outputs": [],
   "source": [
    "import pandas as pd\n",
    "import numpy as np"
   ]
  },
  {
   "cell_type": "code",
   "execution_count": 2,
   "metadata": {},
   "outputs": [],
   "source": [
    "header_df = pd.read_csv('../data/home_cbg_at_least_5_nights_0701_0820.csv')"
   ]
  },
  {
   "cell_type": "code",
   "execution_count": 3,
   "metadata": {},
   "outputs": [
    {
     "data": {
      "text/plain": [
       "Index(['device_id', 'days_n', 'n', 'lon', 'lat', 'geometry', 'index_right',\n",
       "       'CSAFP', 'CBSAFP', 'AFFGEOID_1', 'GEOID_1', 'NAME_1', 'LSAD_1',\n",
       "       'ALAND_1', 'AWATER_1', 'STATEFP', 'COUNTYFP', 'TRACTCE', 'BLKGRPCE',\n",
       "       'AFFGEOID_2', 'GEOID_2', 'NAME_2', 'LSAD_2', 'ALAND_2', 'AWATER_2'],\n",
       "      dtype='object')"
      ]
     },
     "execution_count": 3,
     "metadata": {},
     "output_type": "execute_result"
    }
   ],
   "source": [
    "header_df.columns"
   ]
  },
  {
   "cell_type": "code",
   "execution_count": 4,
   "metadata": {},
   "outputs": [
    {
     "data": {
      "text/plain": [
       "array([339, 201,  15, 167, 157,  71,  39, 291, 473])"
      ]
     },
     "execution_count": 4,
     "metadata": {},
     "output_type": "execute_result"
    }
   ],
   "source": [
    "header_df.COUNTYFP.unique()"
   ]
  },
  {
   "cell_type": "code",
   "execution_count": 5,
   "metadata": {},
   "outputs": [
    {
     "data": {
      "text/html": [
       "<div>\n",
       "<style scoped>\n",
       "    .dataframe tbody tr th:only-of-type {\n",
       "        vertical-align: middle;\n",
       "    }\n",
       "\n",
       "    .dataframe tbody tr th {\n",
       "        vertical-align: top;\n",
       "    }\n",
       "\n",
       "    .dataframe thead th {\n",
       "        text-align: right;\n",
       "    }\n",
       "</style>\n",
       "<table border=\"1\" class=\"dataframe\">\n",
       "  <thead>\n",
       "    <tr style=\"text-align: right;\">\n",
       "      <th></th>\n",
       "      <th>device_id</th>\n",
       "      <th>days_n</th>\n",
       "      <th>n</th>\n",
       "      <th>lon</th>\n",
       "      <th>lat</th>\n",
       "      <th>geometry</th>\n",
       "      <th>index_right</th>\n",
       "      <th>CSAFP</th>\n",
       "      <th>CBSAFP</th>\n",
       "      <th>AFFGEOID_1</th>\n",
       "      <th>...</th>\n",
       "      <th>STATEFP</th>\n",
       "      <th>COUNTYFP</th>\n",
       "      <th>TRACTCE</th>\n",
       "      <th>BLKGRPCE</th>\n",
       "      <th>AFFGEOID_2</th>\n",
       "      <th>GEOID_2</th>\n",
       "      <th>NAME_2</th>\n",
       "      <th>LSAD_2</th>\n",
       "      <th>ALAND_2</th>\n",
       "      <th>AWATER_2</th>\n",
       "    </tr>\n",
       "  </thead>\n",
       "  <tbody>\n",
       "    <tr>\n",
       "      <th>0</th>\n",
       "      <td>00003478e4620de94b73136f76d2683d3451c1758493eb...</td>\n",
       "      <td>14</td>\n",
       "      <td>26</td>\n",
       "      <td>-95.578226</td>\n",
       "      <td>30.209056</td>\n",
       "      <td>POINT (-95.578226 30.209056)</td>\n",
       "      <td>1524</td>\n",
       "      <td>288</td>\n",
       "      <td>26420</td>\n",
       "      <td>310M500US26420</td>\n",
       "      <td>...</td>\n",
       "      <td>48</td>\n",
       "      <td>339</td>\n",
       "      <td>690402</td>\n",
       "      <td>4</td>\n",
       "      <td>1500000US483396904024</td>\n",
       "      <td>483396904024</td>\n",
       "      <td>4</td>\n",
       "      <td>BG</td>\n",
       "      <td>33831866</td>\n",
       "      <td>613526</td>\n",
       "    </tr>\n",
       "    <tr>\n",
       "      <th>1</th>\n",
       "      <td>000f0e2cce6bc47d2205eed7d9055bbf3a51fc6f688a5e...</td>\n",
       "      <td>29</td>\n",
       "      <td>31</td>\n",
       "      <td>-95.644478</td>\n",
       "      <td>30.209734</td>\n",
       "      <td>POINT (-95.644478 30.209734)</td>\n",
       "      <td>1524</td>\n",
       "      <td>288</td>\n",
       "      <td>26420</td>\n",
       "      <td>310M500US26420</td>\n",
       "      <td>...</td>\n",
       "      <td>48</td>\n",
       "      <td>339</td>\n",
       "      <td>690402</td>\n",
       "      <td>4</td>\n",
       "      <td>1500000US483396904024</td>\n",
       "      <td>483396904024</td>\n",
       "      <td>4</td>\n",
       "      <td>BG</td>\n",
       "      <td>33831866</td>\n",
       "      <td>613526</td>\n",
       "    </tr>\n",
       "    <tr>\n",
       "      <th>2</th>\n",
       "      <td>013bf5eb811209f74c66a2e56b39e88ed55868981b16ce...</td>\n",
       "      <td>23</td>\n",
       "      <td>33</td>\n",
       "      <td>-95.634361</td>\n",
       "      <td>30.210126</td>\n",
       "      <td>POINT (-95.634361 30.210126)</td>\n",
       "      <td>1524</td>\n",
       "      <td>288</td>\n",
       "      <td>26420</td>\n",
       "      <td>310M500US26420</td>\n",
       "      <td>...</td>\n",
       "      <td>48</td>\n",
       "      <td>339</td>\n",
       "      <td>690402</td>\n",
       "      <td>4</td>\n",
       "      <td>1500000US483396904024</td>\n",
       "      <td>483396904024</td>\n",
       "      <td>4</td>\n",
       "      <td>BG</td>\n",
       "      <td>33831866</td>\n",
       "      <td>613526</td>\n",
       "    </tr>\n",
       "    <tr>\n",
       "      <th>3</th>\n",
       "      <td>018187f1e65f38dee845d95b0a9bdd780a5dea6c5c7336...</td>\n",
       "      <td>5</td>\n",
       "      <td>7</td>\n",
       "      <td>-95.571939</td>\n",
       "      <td>30.214197</td>\n",
       "      <td>POINT (-95.571939 30.214197)</td>\n",
       "      <td>1524</td>\n",
       "      <td>288</td>\n",
       "      <td>26420</td>\n",
       "      <td>310M500US26420</td>\n",
       "      <td>...</td>\n",
       "      <td>48</td>\n",
       "      <td>339</td>\n",
       "      <td>690402</td>\n",
       "      <td>4</td>\n",
       "      <td>1500000US483396904024</td>\n",
       "      <td>483396904024</td>\n",
       "      <td>4</td>\n",
       "      <td>BG</td>\n",
       "      <td>33831866</td>\n",
       "      <td>613526</td>\n",
       "    </tr>\n",
       "    <tr>\n",
       "      <th>4</th>\n",
       "      <td>01c96ef72e4c219d07eeeff32c728aedd5cbf0443e72b0...</td>\n",
       "      <td>39</td>\n",
       "      <td>68</td>\n",
       "      <td>-95.662512</td>\n",
       "      <td>30.218735</td>\n",
       "      <td>POINT (-95.662512 30.218735)</td>\n",
       "      <td>1524</td>\n",
       "      <td>288</td>\n",
       "      <td>26420</td>\n",
       "      <td>310M500US26420</td>\n",
       "      <td>...</td>\n",
       "      <td>48</td>\n",
       "      <td>339</td>\n",
       "      <td>690402</td>\n",
       "      <td>4</td>\n",
       "      <td>1500000US483396904024</td>\n",
       "      <td>483396904024</td>\n",
       "      <td>4</td>\n",
       "      <td>BG</td>\n",
       "      <td>33831866</td>\n",
       "      <td>613526</td>\n",
       "    </tr>\n",
       "  </tbody>\n",
       "</table>\n",
       "<p>5 rows × 25 columns</p>\n",
       "</div>"
      ],
      "text/plain": [
       "                                           device_id  days_n   n        lon  \\\n",
       "0  00003478e4620de94b73136f76d2683d3451c1758493eb...      14  26 -95.578226   \n",
       "1  000f0e2cce6bc47d2205eed7d9055bbf3a51fc6f688a5e...      29  31 -95.644478   \n",
       "2  013bf5eb811209f74c66a2e56b39e88ed55868981b16ce...      23  33 -95.634361   \n",
       "3  018187f1e65f38dee845d95b0a9bdd780a5dea6c5c7336...       5   7 -95.571939   \n",
       "4  01c96ef72e4c219d07eeeff32c728aedd5cbf0443e72b0...      39  68 -95.662512   \n",
       "\n",
       "         lat                      geometry  index_right  CSAFP  CBSAFP  \\\n",
       "0  30.209056  POINT (-95.578226 30.209056)         1524    288   26420   \n",
       "1  30.209734  POINT (-95.644478 30.209734)         1524    288   26420   \n",
       "2  30.210126  POINT (-95.634361 30.210126)         1524    288   26420   \n",
       "3  30.214197  POINT (-95.571939 30.214197)         1524    288   26420   \n",
       "4  30.218735  POINT (-95.662512 30.218735)         1524    288   26420   \n",
       "\n",
       "       AFFGEOID_1  ...  STATEFP COUNTYFP TRACTCE  BLKGRPCE  \\\n",
       "0  310M500US26420  ...       48      339  690402         4   \n",
       "1  310M500US26420  ...       48      339  690402         4   \n",
       "2  310M500US26420  ...       48      339  690402         4   \n",
       "3  310M500US26420  ...       48      339  690402         4   \n",
       "4  310M500US26420  ...       48      339  690402         4   \n",
       "\n",
       "              AFFGEOID_2       GEOID_2  NAME_2  LSAD_2   ALAND_2 AWATER_2  \n",
       "0  1500000US483396904024  483396904024       4      BG  33831866   613526  \n",
       "1  1500000US483396904024  483396904024       4      BG  33831866   613526  \n",
       "2  1500000US483396904024  483396904024       4      BG  33831866   613526  \n",
       "3  1500000US483396904024  483396904024       4      BG  33831866   613526  \n",
       "4  1500000US483396904024  483396904024       4      BG  33831866   613526  \n",
       "\n",
       "[5 rows x 25 columns]"
      ]
     },
     "execution_count": 5,
     "metadata": {},
     "output_type": "execute_result"
    }
   ],
   "source": [
    "header_df.head()"
   ]
  },
  {
   "cell_type": "code",
   "execution_count": 6,
   "metadata": {},
   "outputs": [],
   "source": [
    "import requests\n",
    "import json\n",
    "\n",
    "import sys\n",
    "sys.path.insert(0,'/home/caden/Programming/info')\n",
    "from Keys import Keys"
   ]
  },
  {
   "cell_type": "code",
   "execution_count": 7,
   "metadata": {},
   "outputs": [],
   "source": [
    "host = 'https://api.census.gov/data'\n",
    "year = '2021'\n",
    "dataset_acronym = 'acs/acs5'\n",
    "api_key = str(Keys.CensusAPI())\n",
    "\n",
    "var_list = \"NAME,B01001_001E\"\n",
    "state = '049'\n",
    "county = '339'"
   ]
  },
  {
   "cell_type": "code",
   "execution_count": 8,
   "metadata": {},
   "outputs": [],
   "source": [
    "state = header_df.STATEFP.unique()[0]\n",
    "counties = header_df.COUNTYFP.unique()\n",
    "county_strings = []\n",
    "\n",
    "for county in counties:\n",
    "    s = str(county)\n",
    "    l = 3 - len(s)\n",
    "    s = (l * '0') + s\n",
    "    county_strings.append(s)\n",
    "\n",
    "data = []\n"
   ]
  },
  {
   "cell_type": "code",
   "execution_count": 9,
   "metadata": {},
   "outputs": [
    {
     "data": {
      "text/plain": [
       "['339', '201', '015', '167', '157', '071', '039', '291', '473']"
      ]
     },
     "execution_count": 9,
     "metadata": {},
     "output_type": "execute_result"
    }
   ],
   "source": [
    "county_strings"
   ]
  },
  {
   "cell_type": "code",
   "execution_count": 10,
   "metadata": {},
   "outputs": [
    {
     "name": "stdout",
     "output_type": "stream",
     "text": [
      "48 071\n"
     ]
    }
   ],
   "source": [
    "for county in county_strings:\n",
    "    print(state, county)\n",
    "    query_url = f'https://api.census.gov/data/2021/acs/acs5?get={var_list}&for=block+group:*&in=state:{state}%20county:071%20tract:*&key={api_key}'\n",
    "    response = requests.get(query_url)\n",
    "    data.append(response)"
   ]
  },
  {
   "cell_type": "code",
   "execution_count": 79,
   "metadata": {},
   "outputs": [],
   "source": [
    "# Pickling data \n",
    "pd.to_pickle(data, 'mobility_census_data.pkl')"
   ]
  }
 ],
 "metadata": {
  "kernelspec": {
   "display_name": "m3",
   "language": "python",
   "name": "python3"
  },
  "language_info": {
   "codemirror_mode": {
    "name": "ipython",
    "version": 3
   },
   "file_extension": ".py",
   "mimetype": "text/x-python",
   "name": "python",
   "nbconvert_exporter": "python",
   "pygments_lexer": "ipython3",
   "version": "3.11.0"
  },
  "orig_nbformat": 4
 },
 "nbformat": 4,
 "nbformat_minor": 2
}
