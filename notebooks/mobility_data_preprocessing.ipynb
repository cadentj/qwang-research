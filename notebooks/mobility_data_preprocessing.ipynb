{
 "cells": [
  {
   "cell_type": "code",
   "execution_count": 2,
   "metadata": {},
   "outputs": [],
   "source": [
    "import pandas as pd\n",
    "import json\n",
    "df = pd.read_pickle('../data/mobility_census_data.pkl')"
   ]
  },
  {
   "cell_type": "code",
   "execution_count": 3,
   "metadata": {},
   "outputs": [],
   "source": [
    "frame_array = []\n",
    "for data in df:\n",
    "    j = data.json()\n",
    "    frame = pd.DataFrame(j[1:], columns=j[0])\n",
    "    frame_array.append(frame)\n",
    "\n",
    "df = pd.concat(frame_array)"
   ]
  },
  {
   "cell_type": "code",
   "execution_count": 4,
   "metadata": {},
   "outputs": [
    {
     "data": {
      "text/plain": [
       "Index(['device_id', 'days_n', 'n', 'lon', 'lat', 'geometry', 'index_right',\n",
       "       'CSAFP', 'CBSAFP', 'AFFGEOID_1', 'GEOID_1', 'NAME_1', 'LSAD_1',\n",
       "       'ALAND_1', 'AWATER_1', 'STATEFP', 'COUNTYFP', 'TRACTCE', 'BLKGRPCE',\n",
       "       'AFFGEOID_2', 'GEOID_2', 'NAME_2', 'LSAD_2', 'ALAND_2', 'AWATER_2'],\n",
       "      dtype='object')"
      ]
     },
     "execution_count": 4,
     "metadata": {},
     "output_type": "execute_result"
    }
   ],
   "source": [
    "header_df = pd.read_csv('../data/home_cbg_at_least_5_nights_0701_0820.csv')\n",
    "header_df.columns"
   ]
  },
  {
   "cell_type": "code",
   "execution_count": 17,
   "metadata": {},
   "outputs": [],
   "source": [
    "headers = ['userid', 'timecome','date','lat','long','count','timeleave','duration']\n",
    "stay_07 = pd.read_csv('../data/stay_points_07/2017-07-02.txt', names=headers)"
   ]
  },
  {
   "cell_type": "code",
   "execution_count": 13,
   "metadata": {},
   "outputs": [
    {
     "name": "stdout",
     "output_type": "stream",
     "text": [
      "666826\n",
      "(666826, 25)\n"
     ]
    }
   ],
   "source": [
    "print(header_df.device_id.nunique())\n",
    "print(header_df.shape)\n",
    "# Header df is a list of all unique devices. \n",
    "# Assuming that days_n is the amount of days a device was tracked\n",
    "# n is the amount of times a device was located"
   ]
  },
  {
   "cell_type": "code",
   "execution_count": 21,
   "metadata": {},
   "outputs": [
    {
     "name": "stdout",
     "output_type": "stream",
     "text": [
      "1337116\n",
      "(1642748, 8)\n"
     ]
    }
   ],
   "source": [
    "print(stay_07.lat.nunique())\n",
    "print(stay_07.shape)\n",
    "# Need to whittle down these stay locations into points of interest\n",
    "# Figure out a good range for lat/long that estimates the size of one stay point"
   ]
  },
  {
   "cell_type": "code",
   "execution_count": null,
   "metadata": {},
   "outputs": [],
   "source": []
  }
 ],
 "metadata": {
  "kernelspec": {
   "display_name": "ai",
   "language": "python",
   "name": "python3"
  },
  "language_info": {
   "codemirror_mode": {
    "name": "ipython",
    "version": 3
   },
   "file_extension": ".py",
   "mimetype": "text/x-python",
   "name": "python",
   "nbconvert_exporter": "python",
   "pygments_lexer": "ipython3",
   "version": "3.11.0"
  },
  "orig_nbformat": 4
 },
 "nbformat": 4,
 "nbformat_minor": 2
}
