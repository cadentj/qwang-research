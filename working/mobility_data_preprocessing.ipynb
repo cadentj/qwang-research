{
 "cells": [
  {
   "cell_type": "code",
   "execution_count": 1,
   "metadata": {},
   "outputs": [],
   "source": [
    "import pandas as pd\n",
    "import json"
   ]
  },
  {
   "cell_type": "code",
   "execution_count": 2,
   "metadata": {},
   "outputs": [],
   "source": [
    "headers = ['userid', 'timecome','date','lat','long','count','timeleave','duration']\n",
    "stay_07 = pd.read_csv('../data/stay_points_07/2017-07-02.txt', names=headers)"
   ]
  },
  {
   "cell_type": "code",
   "execution_count": 3,
   "metadata": {},
   "outputs": [
    {
     "name": "stderr",
     "output_type": "stream",
     "text": [
      "/tmp/ipykernel_7991/1508273154.py:2: SettingWithCopyWarning: \n",
      "A value is trying to be set on a copy of a slice from a DataFrame.\n",
      "Try using .loc[row_indexer,col_indexer] = value instead\n",
      "\n",
      "See the caveats in the documentation: https://pandas.pydata.org/pandas-docs/stable/user_guide/indexing.html#returning-a-view-versus-a-copy\n",
      "  processed_df['hour'] = pd.to_datetime(stay_07['timecome'], format='%Y-%m-%d %H:%M:%S').dt.hour\n"
     ]
    }
   ],
   "source": [
    "processed_df = stay_07[['userid','lat','long',]]\n",
    "processed_df['hour'] = pd.to_datetime(stay_07['timecome'], format='%Y-%m-%d %H:%M:%S').dt.hour"
   ]
  },
  {
   "cell_type": "code",
   "execution_count": 26,
   "metadata": {},
   "outputs": [
    {
     "data": {
      "text/plain": [
       "Index(['device_id', 'days_n', 'n', 'lon', 'lat', 'geometry', 'index_right',\n",
       "       'CSAFP', 'CBSAFP', 'AFFGEOID_1', 'GEOID_1', 'NAME_1', 'LSAD_1',\n",
       "       'ALAND_1', 'AWATER_1', 'STATEFP', 'COUNTYFP', 'TRACTCE', 'BLKGRPCE',\n",
       "       'AFFGEOID_2', 'GEOID_2', 'NAME_2', 'LSAD_2', 'ALAND_2', 'AWATER_2'],\n",
       "      dtype='object')"
      ]
     },
     "execution_count": 26,
     "metadata": {},
     "output_type": "execute_result"
    }
   ],
   "source": [
    "header_df = pd.read_csv('../data/home_cbg_at_least_5_nights_0701_0820.csv')\n",
    "header_df.columns"
   ]
  },
  {
   "cell_type": "code",
   "execution_count": 27,
   "metadata": {},
   "outputs": [],
   "source": [
    "header_df = header_df.rename(columns={'device_id' : 'userid'})"
   ]
  },
  {
   "cell_type": "code",
   "execution_count": 44,
   "metadata": {},
   "outputs": [],
   "source": [
    "blkgrp_info = header_df[['userid', 'GEOID_2']]\n",
    "blkgrp_info = blkgrp_info.set_index('userid')\n",
    "blkgrp_dict = blkgrp_info.to_dict()"
   ]
  },
  {
   "cell_type": "code",
   "execution_count": null,
   "metadata": {},
   "outputs": [],
   "source": []
  }
 ],
 "metadata": {
  "kernelspec": {
   "display_name": "ai",
   "language": "python",
   "name": "python3"
  },
  "language_info": {
   "codemirror_mode": {
    "name": "ipython",
    "version": 3
   },
   "file_extension": ".py",
   "mimetype": "text/x-python",
   "name": "python",
   "nbconvert_exporter": "python",
   "pygments_lexer": "ipython3",
   "version": "3.11.0"
  },
  "orig_nbformat": 4
 },
 "nbformat": 4,
 "nbformat_minor": 2
}
