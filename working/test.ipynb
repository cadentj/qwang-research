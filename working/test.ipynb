{
 "cells": [
  {
   "cell_type": "code",
   "execution_count": 4,
   "metadata": {},
   "outputs": [],
   "source": [
    "import pandas as pd\n",
    "import skmob\n",
    "import geopandas as gpd\n",
    "from skmob.preprocessing import filtering, compression\n",
    "from skmob.tessellation import tilers"
   ]
  },
  {
   "cell_type": "code",
   "execution_count": 2,
   "metadata": {},
   "outputs": [],
   "source": [
    "column_names = ['userid', 'timecome','date','lat','long','count','timeleave','duration']\n",
    "data = pd.read_csv('../data/raw/stay_points_07/2017-07-02.txt', names=column_names)"
   ]
  },
  {
   "cell_type": "code",
   "execution_count": 3,
   "metadata": {},
   "outputs": [
    {
     "data": {
      "text/html": [
       "<div>\n",
       "<style scoped>\n",
       "    .dataframe tbody tr th:only-of-type {\n",
       "        vertical-align: middle;\n",
       "    }\n",
       "\n",
       "    .dataframe tbody tr th {\n",
       "        vertical-align: top;\n",
       "    }\n",
       "\n",
       "    .dataframe thead th {\n",
       "        text-align: right;\n",
       "    }\n",
       "</style>\n",
       "<table border=\"1\" class=\"dataframe\">\n",
       "  <thead>\n",
       "    <tr style=\"text-align: right;\">\n",
       "      <th></th>\n",
       "      <th>userid</th>\n",
       "      <th>timecome</th>\n",
       "      <th>date</th>\n",
       "      <th>lat</th>\n",
       "      <th>long</th>\n",
       "      <th>count</th>\n",
       "      <th>timeleave</th>\n",
       "      <th>duration</th>\n",
       "    </tr>\n",
       "  </thead>\n",
       "  <tbody>\n",
       "    <tr>\n",
       "      <th>0</th>\n",
       "      <td>000070ec83acc05efcd9216ef9cf8725e2bbd41c7a9d2c...</td>\n",
       "      <td>2017-07-02 04:11:10</td>\n",
       "      <td>2017-07-02</td>\n",
       "      <td>29.137871</td>\n",
       "      <td>-95.063447</td>\n",
       "      <td>8</td>\n",
       "      <td>2017-07-02 05:52:07</td>\n",
       "      <td>100.95</td>\n",
       "    </tr>\n",
       "    <tr>\n",
       "      <th>1</th>\n",
       "      <td>00009827ea7c3bd4007e921ac8816407955a54deb76482...</td>\n",
       "      <td>2017-07-02 06:28:41</td>\n",
       "      <td>2017-07-02</td>\n",
       "      <td>29.787984</td>\n",
       "      <td>-95.592063</td>\n",
       "      <td>3</td>\n",
       "      <td>2017-07-02 12:05:23</td>\n",
       "      <td>336.70</td>\n",
       "    </tr>\n",
       "    <tr>\n",
       "      <th>2</th>\n",
       "      <td>00009827ea7c3bd4007e921ac8816407955a54deb76482...</td>\n",
       "      <td>2017-07-02 12:34:14</td>\n",
       "      <td>2017-07-02</td>\n",
       "      <td>29.788166</td>\n",
       "      <td>-95.592103</td>\n",
       "      <td>15</td>\n",
       "      <td>2017-07-03 05:58:06</td>\n",
       "      <td>1043.87</td>\n",
       "    </tr>\n",
       "    <tr>\n",
       "      <th>3</th>\n",
       "      <td>0000bd2c0530443b29fee5a4a9adc2fcc5afc891821320...</td>\n",
       "      <td>2017-07-02 10:36:48</td>\n",
       "      <td>2017-07-02</td>\n",
       "      <td>30.058383</td>\n",
       "      <td>-95.390059</td>\n",
       "      <td>15</td>\n",
       "      <td>2017-07-02 11:27:30</td>\n",
       "      <td>50.70</td>\n",
       "    </tr>\n",
       "    <tr>\n",
       "      <th>4</th>\n",
       "      <td>0000bd2c0530443b29fee5a4a9adc2fcc5afc891821320...</td>\n",
       "      <td>2017-07-02 11:56:01</td>\n",
       "      <td>2017-07-02</td>\n",
       "      <td>30.065311</td>\n",
       "      <td>-95.430054</td>\n",
       "      <td>6</td>\n",
       "      <td>2017-07-02 12:16:47</td>\n",
       "      <td>20.77</td>\n",
       "    </tr>\n",
       "  </tbody>\n",
       "</table>\n",
       "</div>"
      ],
      "text/plain": [
       "                                              userid             timecome  \\\n",
       "0  000070ec83acc05efcd9216ef9cf8725e2bbd41c7a9d2c...  2017-07-02 04:11:10   \n",
       "1  00009827ea7c3bd4007e921ac8816407955a54deb76482...  2017-07-02 06:28:41   \n",
       "2  00009827ea7c3bd4007e921ac8816407955a54deb76482...  2017-07-02 12:34:14   \n",
       "3  0000bd2c0530443b29fee5a4a9adc2fcc5afc891821320...  2017-07-02 10:36:48   \n",
       "4  0000bd2c0530443b29fee5a4a9adc2fcc5afc891821320...  2017-07-02 11:56:01   \n",
       "\n",
       "         date        lat       long  count            timeleave  duration  \n",
       "0  2017-07-02  29.137871 -95.063447      8  2017-07-02 05:52:07    100.95  \n",
       "1  2017-07-02  29.787984 -95.592063      3  2017-07-02 12:05:23    336.70  \n",
       "2  2017-07-02  29.788166 -95.592103     15  2017-07-03 05:58:06   1043.87  \n",
       "3  2017-07-02  30.058383 -95.390059     15  2017-07-02 11:27:30     50.70  \n",
       "4  2017-07-02  30.065311 -95.430054      6  2017-07-02 12:16:47     20.77  "
      ]
     },
     "execution_count": 3,
     "metadata": {},
     "output_type": "execute_result"
    }
   ],
   "source": [
    "data.head()"
   ]
  },
  {
   "cell_type": "code",
   "execution_count": 4,
   "metadata": {},
   "outputs": [],
   "source": [
    "to_tdf = data[['userid', 'lat', 'long', 'timecome']]"
   ]
  },
  {
   "cell_type": "code",
   "execution_count": 5,
   "metadata": {},
   "outputs": [
    {
     "data": {
      "text/html": [
       "<div>\n",
       "<style scoped>\n",
       "    .dataframe tbody tr th:only-of-type {\n",
       "        vertical-align: middle;\n",
       "    }\n",
       "\n",
       "    .dataframe tbody tr th {\n",
       "        vertical-align: top;\n",
       "    }\n",
       "\n",
       "    .dataframe thead th {\n",
       "        text-align: right;\n",
       "    }\n",
       "</style>\n",
       "<table border=\"1\" class=\"dataframe\">\n",
       "  <thead>\n",
       "    <tr style=\"text-align: right;\">\n",
       "      <th></th>\n",
       "      <th>uid</th>\n",
       "      <th>lat</th>\n",
       "      <th>lng</th>\n",
       "      <th>datetime</th>\n",
       "    </tr>\n",
       "  </thead>\n",
       "  <tbody>\n",
       "    <tr>\n",
       "      <th>0</th>\n",
       "      <td>000070ec83acc05efcd9216ef9cf8725e2bbd41c7a9d2c...</td>\n",
       "      <td>29.137871</td>\n",
       "      <td>-95.063447</td>\n",
       "      <td>2017-07-02 04:11:10</td>\n",
       "    </tr>\n",
       "    <tr>\n",
       "      <th>1</th>\n",
       "      <td>00009827ea7c3bd4007e921ac8816407955a54deb76482...</td>\n",
       "      <td>29.787984</td>\n",
       "      <td>-95.592063</td>\n",
       "      <td>2017-07-02 06:28:41</td>\n",
       "    </tr>\n",
       "    <tr>\n",
       "      <th>2</th>\n",
       "      <td>00009827ea7c3bd4007e921ac8816407955a54deb76482...</td>\n",
       "      <td>29.788166</td>\n",
       "      <td>-95.592103</td>\n",
       "      <td>2017-07-02 12:34:14</td>\n",
       "    </tr>\n",
       "    <tr>\n",
       "      <th>3</th>\n",
       "      <td>0000bd2c0530443b29fee5a4a9adc2fcc5afc891821320...</td>\n",
       "      <td>30.058383</td>\n",
       "      <td>-95.390059</td>\n",
       "      <td>2017-07-02 10:36:48</td>\n",
       "    </tr>\n",
       "    <tr>\n",
       "      <th>4</th>\n",
       "      <td>0000bd2c0530443b29fee5a4a9adc2fcc5afc891821320...</td>\n",
       "      <td>30.065311</td>\n",
       "      <td>-95.430054</td>\n",
       "      <td>2017-07-02 11:56:01</td>\n",
       "    </tr>\n",
       "  </tbody>\n",
       "</table>\n",
       "</div>"
      ],
      "text/plain": [
       "                                                 uid        lat        lng  \\\n",
       "0  000070ec83acc05efcd9216ef9cf8725e2bbd41c7a9d2c...  29.137871 -95.063447   \n",
       "1  00009827ea7c3bd4007e921ac8816407955a54deb76482...  29.787984 -95.592063   \n",
       "2  00009827ea7c3bd4007e921ac8816407955a54deb76482...  29.788166 -95.592103   \n",
       "3  0000bd2c0530443b29fee5a4a9adc2fcc5afc891821320...  30.058383 -95.390059   \n",
       "4  0000bd2c0530443b29fee5a4a9adc2fcc5afc891821320...  30.065311 -95.430054   \n",
       "\n",
       "             datetime  \n",
       "0 2017-07-02 04:11:10  \n",
       "1 2017-07-02 06:28:41  \n",
       "2 2017-07-02 12:34:14  \n",
       "3 2017-07-02 10:36:48  \n",
       "4 2017-07-02 11:56:01  "
      ]
     },
     "execution_count": 5,
     "metadata": {},
     "output_type": "execute_result"
    }
   ],
   "source": [
    "tdf = skmob.TrajDataFrame(to_tdf, latitude='lat', longitude='long', datetime='timecome', user_id='userid')\n",
    "tdf.head()"
   ]
  },
  {
   "cell_type": "code",
   "execution_count": 36,
   "metadata": {},
   "outputs": [],
   "source": [
    "tessellation_lg = tilers.tiler.get(\"squared\", base_shape=\"Houston, Texas\", meters=15000)\n",
    "tessellation_md = tilers.tiler.get(\"squared\", base_shape=\"Houston, Texas\", meters=7500)\n",
    "tessellation_sm = tilers.tiler.get(\"squared\", base_shape=\"Houston, Texas\", meters=3250)\n",
    "tessellation_xs = tilers.tiler.get(\"squared\", base_shape=\"Houston, Texas\", meters=500)"
   ]
  },
  {
   "cell_type": "code",
   "execution_count": 45,
   "metadata": {},
   "outputs": [
    {
     "ename": "NameError",
     "evalue": "name 'tessellation_sm' is not defined",
     "output_type": "error",
     "traceback": [
      "\u001b[0;31m---------------------------------------------------------------------------\u001b[0m",
      "\u001b[0;31mNameError\u001b[0m                                 Traceback (most recent call last)",
      "Cell \u001b[0;32mIn[45], line 1\u001b[0m\n\u001b[0;32m----> 1\u001b[0m tessellation_sm\n",
      "\u001b[0;31mNameError\u001b[0m: name 'tessellation_sm' is not defined"
     ]
    }
   ],
   "source": [
    "tessellation_sm"
   ]
  },
  {
   "cell_type": "code",
   "execution_count": 5,
   "metadata": {},
   "outputs": [
    {
     "ename": "ValueError",
     "evalue": "Not valid base_shape object. Accepted types are str, GeoDataFrame or GeoSeries.",
     "output_type": "error",
     "traceback": [
      "\u001b[0;31m---------------------------------------------------------------------------\u001b[0m",
      "\u001b[0;31mValueError\u001b[0m                                Traceback (most recent call last)",
      "Cell \u001b[0;32mIn[5], line 1\u001b[0m\n\u001b[0;32m----> 1\u001b[0m tessellation_xs \u001b[39m=\u001b[39m tilers\u001b[39m.\u001b[39;49mtiler\u001b[39m.\u001b[39;49mget(\u001b[39m\"\u001b[39;49m\u001b[39msquared\u001b[39;49m\u001b[39m\"\u001b[39;49m, base_shape\u001b[39m=\u001b[39;49m[\u001b[39m'\u001b[39;49m\u001b[39mLiberty County,  Texas\u001b[39;49m\u001b[39m'\u001b[39;49m, \u001b[39m'\u001b[39;49m\u001b[39mWaller County,  Texas\u001b[39;49m\u001b[39m'\u001b[39;49m], meters\u001b[39m=\u001b[39;49m\u001b[39m500\u001b[39;49m)\n",
      "File \u001b[0;32m~/anaconda3/envs/ai/lib/python3.11/site-packages/skmob/tessellation/tilers.py:30\u001b[0m, in \u001b[0;36mTessellationTilers.get\u001b[0;34m(self, service_id, **kwargs)\u001b[0m\n\u001b[1;32m     29\u001b[0m \u001b[39mdef\u001b[39;00m \u001b[39mget\u001b[39m(\u001b[39mself\u001b[39m, service_id, \u001b[39m*\u001b[39m\u001b[39m*\u001b[39mkwargs):\n\u001b[0;32m---> 30\u001b[0m     \u001b[39mreturn\u001b[39;00m \u001b[39mself\u001b[39;49m\u001b[39m.\u001b[39;49mcreate(service_id, \u001b[39m*\u001b[39;49m\u001b[39m*\u001b[39;49mkwargs)\n",
      "File \u001b[0;32m~/anaconda3/envs/ai/lib/python3.11/site-packages/skmob/tessellation/tilers.py:27\u001b[0m, in \u001b[0;36mTessellationTilers.create\u001b[0;34m(self, key, **kwargs)\u001b[0m\n\u001b[1;32m     24\u001b[0m \u001b[39mif\u001b[39;00m \u001b[39mnot\u001b[39;00m tiler:\n\u001b[1;32m     25\u001b[0m     \u001b[39mraise\u001b[39;00m \u001b[39mValueError\u001b[39;00m(key)\n\u001b[0;32m---> 27\u001b[0m \u001b[39mreturn\u001b[39;00m tiler(\u001b[39m*\u001b[39;49m\u001b[39m*\u001b[39;49mkwargs)\n",
      "File \u001b[0;32m~/anaconda3/envs/ai/lib/python3.11/site-packages/skmob/tessellation/tilers.py:120\u001b[0m, in \u001b[0;36mSquaredTessellationTiler.__call__\u001b[0;34m(self, base_shape, meters, which_osm_result, crs, window_size)\u001b[0m\n\u001b[1;32m    117\u001b[0m             base_shape \u001b[39m=\u001b[39m gpd\u001b[39m.\u001b[39mGeoSeries(cascaded_union(polygons), crs\u001b[39m=\u001b[39mbase_shape\u001b[39m.\u001b[39mcrs)\n\u001b[1;32m    119\u001b[0m     \u001b[39melse\u001b[39;00m:\n\u001b[0;32m--> 120\u001b[0m         \u001b[39mraise\u001b[39;00m \u001b[39mValueError\u001b[39;00m(\u001b[39m\"\u001b[39m\u001b[39mNot valid base_shape object. \u001b[39m\u001b[39m\"\u001b[39m \u001b[39m\"\u001b[39m\u001b[39mAccepted types are str, GeoDataFrame or GeoSeries.\u001b[39m\u001b[39m\"\u001b[39m)\n\u001b[1;32m    122\u001b[0m \u001b[39mreturn\u001b[39;00m \u001b[39mself\u001b[39m\u001b[39m.\u001b[39m_build(base_shape, meters, crs)\n",
      "\u001b[0;31mValueError\u001b[0m: Not valid base_shape object. Accepted types are str, GeoDataFrame or GeoSeries."
     ]
    }
   ],
   "source": [
    "tessellation_xs = tilers.tiler.get(\"squared\", base_shape=['Liberty County,  Texas', 'Waller County,  Texas'], meters=500)"
   ]
  },
  {
   "cell_type": "code",
   "execution_count": 37,
   "metadata": {},
   "outputs": [
    {
     "name": "stderr",
     "output_type": "stream",
     "text": [
      "/home/caden/anaconda3/envs/ai/lib/python3.11/site-packages/pyproj/crs/crs.py:141: FutureWarning: '+init=<authority>:<code>' syntax is deprecated. '<authority>:<code>' is the preferred initialization method. When making the change, be mindful of axis order changes: https://pyproj4.github.io/pyproj/stable/gotchas.html#axis-order-changes-in-proj-6\n",
      "  in_crs_string = _prepare_from_proj_string(in_crs_string)\n",
      "/tmp/ipykernel_34584/8815852.py:1: FutureWarning: The `op` parameter is deprecated and will be removed in a future release. Please use the `predicate` parameter instead.\n",
      "  fdf_lg = tdf.to_flowdataframe(tessellation=tessellation_lg, self_loops=True)\n",
      "/home/caden/anaconda3/envs/ai/lib/python3.11/site-packages/skmob/core/trajectorydataframe.py:322: UserWarning: CRS mismatch between the CRS of left geometries and the CRS of right geometries.\n",
      "Use `to_crs()` to reproject one of the input geometries to match the CRS of the other.\n",
      "\n",
      "Left CRS: +init=epsg:4326 +type=crs\n",
      "Right CRS: EPSG:4326\n",
      "\n",
      "  tile_ids = gpd.sjoin(gdf, tessellation, how=how, op='within')[[constants.TILE_ID]]\n"
     ]
    }
   ],
   "source": [
    "fdf_lg = tdf.to_flowdataframe(tessellation=tessellation_lg, self_loops=True)"
   ]
  },
  {
   "cell_type": "code",
   "execution_count": 38,
   "metadata": {},
   "outputs": [
    {
     "name": "stderr",
     "output_type": "stream",
     "text": [
      "/home/caden/anaconda3/envs/ai/lib/python3.11/site-packages/pyproj/crs/crs.py:141: FutureWarning: '+init=<authority>:<code>' syntax is deprecated. '<authority>:<code>' is the preferred initialization method. When making the change, be mindful of axis order changes: https://pyproj4.github.io/pyproj/stable/gotchas.html#axis-order-changes-in-proj-6\n",
      "  in_crs_string = _prepare_from_proj_string(in_crs_string)\n",
      "/tmp/ipykernel_34584/2876942715.py:1: FutureWarning: The `op` parameter is deprecated and will be removed in a future release. Please use the `predicate` parameter instead.\n",
      "  fdf_md = tdf.to_flowdataframe(tessellation=tessellation_md, self_loops=True)\n",
      "/home/caden/anaconda3/envs/ai/lib/python3.11/site-packages/skmob/core/trajectorydataframe.py:322: UserWarning: CRS mismatch between the CRS of left geometries and the CRS of right geometries.\n",
      "Use `to_crs()` to reproject one of the input geometries to match the CRS of the other.\n",
      "\n",
      "Left CRS: +init=epsg:4326 +type=crs\n",
      "Right CRS: EPSG:4326\n",
      "\n",
      "  tile_ids = gpd.sjoin(gdf, tessellation, how=how, op='within')[[constants.TILE_ID]]\n"
     ]
    }
   ],
   "source": [
    "fdf_md = tdf.to_flowdataframe(tessellation=tessellation_md, self_loops=True)"
   ]
  },
  {
   "cell_type": "code",
   "execution_count": 39,
   "metadata": {},
   "outputs": [
    {
     "name": "stderr",
     "output_type": "stream",
     "text": [
      "/home/caden/anaconda3/envs/ai/lib/python3.11/site-packages/pyproj/crs/crs.py:141: FutureWarning: '+init=<authority>:<code>' syntax is deprecated. '<authority>:<code>' is the preferred initialization method. When making the change, be mindful of axis order changes: https://pyproj4.github.io/pyproj/stable/gotchas.html#axis-order-changes-in-proj-6\n",
      "  in_crs_string = _prepare_from_proj_string(in_crs_string)\n",
      "/tmp/ipykernel_34584/2610723566.py:1: FutureWarning: The `op` parameter is deprecated and will be removed in a future release. Please use the `predicate` parameter instead.\n",
      "  fdf_sm = tdf.to_flowdataframe(tessellation=tessellation_sm, self_loops=True)\n",
      "/home/caden/anaconda3/envs/ai/lib/python3.11/site-packages/skmob/core/trajectorydataframe.py:322: UserWarning: CRS mismatch between the CRS of left geometries and the CRS of right geometries.\n",
      "Use `to_crs()` to reproject one of the input geometries to match the CRS of the other.\n",
      "\n",
      "Left CRS: +init=epsg:4326 +type=crs\n",
      "Right CRS: EPSG:4326\n",
      "\n",
      "  tile_ids = gpd.sjoin(gdf, tessellation, how=how, op='within')[[constants.TILE_ID]]\n"
     ]
    }
   ],
   "source": [
    "fdf_sm = tdf.to_flowdataframe(tessellation=tessellation_sm, self_loops=True)"
   ]
  },
  {
   "cell_type": "code",
   "execution_count": 42,
   "metadata": {},
   "outputs": [
    {
     "data": {
      "text/html": [
       "<div>\n",
       "<style scoped>\n",
       "    .dataframe tbody tr th:only-of-type {\n",
       "        vertical-align: middle;\n",
       "    }\n",
       "\n",
       "    .dataframe tbody tr th {\n",
       "        vertical-align: top;\n",
       "    }\n",
       "\n",
       "    .dataframe thead th {\n",
       "        text-align: right;\n",
       "    }\n",
       "</style>\n",
       "<table border=\"1\" class=\"dataframe\">\n",
       "  <thead>\n",
       "    <tr style=\"text-align: right;\">\n",
       "      <th></th>\n",
       "      <th>origin</th>\n",
       "      <th>destination</th>\n",
       "      <th>flow</th>\n",
       "    </tr>\n",
       "  </thead>\n",
       "  <tbody>\n",
       "    <tr>\n",
       "      <th>0</th>\n",
       "      <td>0</td>\n",
       "      <td>0</td>\n",
       "      <td>70</td>\n",
       "    </tr>\n",
       "    <tr>\n",
       "      <th>1</th>\n",
       "      <td>0</td>\n",
       "      <td>3</td>\n",
       "      <td>6</td>\n",
       "    </tr>\n",
       "    <tr>\n",
       "      <th>2</th>\n",
       "      <td>0</td>\n",
       "      <td>4</td>\n",
       "      <td>1</td>\n",
       "    </tr>\n",
       "    <tr>\n",
       "      <th>3</th>\n",
       "      <td>1</td>\n",
       "      <td>0</td>\n",
       "      <td>1</td>\n",
       "    </tr>\n",
       "    <tr>\n",
       "      <th>4</th>\n",
       "      <td>1</td>\n",
       "      <td>1</td>\n",
       "      <td>9</td>\n",
       "    </tr>\n",
       "  </tbody>\n",
       "</table>\n",
       "</div>"
      ],
      "text/plain": [
       "  origin destination  flow\n",
       "0      0           0    70\n",
       "1      0           3     6\n",
       "2      0           4     1\n",
       "3      1           0     1\n",
       "4      1           1     9"
      ]
     },
     "execution_count": 42,
     "metadata": {},
     "output_type": "execute_result"
    }
   ],
   "source": [
    "fdf_sm.head()"
   ]
  },
  {
   "cell_type": "code",
   "execution_count": 6,
   "metadata": {},
   "outputs": [],
   "source": [
    "import osmnx as ox"
   ]
  },
  {
   "cell_type": "code",
   "execution_count": 10,
   "metadata": {},
   "outputs": [
    {
     "data": {
      "text/plain": [
       "(29.8119769, -95.3741247)"
      ]
     },
     "execution_count": 10,
     "metadata": {},
     "output_type": "execute_result"
    }
   ],
   "source": [
    "test = ox.geocoder.geocode(\"Harris County, Texas\")\n",
    "test"
   ]
  },
  {
   "cell_type": "code",
   "execution_count": 27,
   "metadata": {},
   "outputs": [
    {
     "ename": "ValueError",
     "evalue": "Nominatim geocoder returned 0 results for query '483396904024'",
     "output_type": "error",
     "traceback": [
      "\u001b[0;31m---------------------------------------------------------------------------\u001b[0m",
      "\u001b[0;31mValueError\u001b[0m                                Traceback (most recent call last)",
      "Cell \u001b[0;32mIn[27], line 1\u001b[0m\n\u001b[0;32m----> 1\u001b[0m test \u001b[39m=\u001b[39m ox\u001b[39m.\u001b[39;49mgeocoder\u001b[39m.\u001b[39;49mgeocode_to_gdf(\u001b[39m\"\u001b[39;49m\u001b[39m483396904024\u001b[39;49m\u001b[39m\"\u001b[39;49m)\n",
      "File \u001b[0;32m~/anaconda3/envs/ai/lib/python3.11/site-packages/osmnx/geocoder.py:123\u001b[0m, in \u001b[0;36mgeocode_to_gdf\u001b[0;34m(query, which_result, by_osmid, buffer_dist)\u001b[0m\n\u001b[1;32m    121\u001b[0m gdf \u001b[39m=\u001b[39m gpd\u001b[39m.\u001b[39mGeoDataFrame()\n\u001b[1;32m    122\u001b[0m \u001b[39mfor\u001b[39;00m q, wr \u001b[39min\u001b[39;00m \u001b[39mzip\u001b[39m(query, which_result):\n\u001b[0;32m--> 123\u001b[0m     gdf \u001b[39m=\u001b[39m pd\u001b[39m.\u001b[39mconcat([gdf, _geocode_query_to_gdf(q, wr, by_osmid)])\n\u001b[1;32m    125\u001b[0m \u001b[39m# reset GeoDataFrame index and set its CRS\u001b[39;00m\n\u001b[1;32m    126\u001b[0m gdf \u001b[39m=\u001b[39m gdf\u001b[39m.\u001b[39mreset_index(drop\u001b[39m=\u001b[39m\u001b[39mTrue\u001b[39;00m)\n",
      "File \u001b[0;32m~/anaconda3/envs/ai/lib/python3.11/site-packages/osmnx/geocoder.py:172\u001b[0m, in \u001b[0;36m_geocode_query_to_gdf\u001b[0;34m(query, which_result, by_osmid)\u001b[0m\n\u001b[1;32m    169\u001b[0m \u001b[39m# choose the right result from the JSON response\u001b[39;00m\n\u001b[1;32m    170\u001b[0m \u001b[39mif\u001b[39;00m \u001b[39mnot\u001b[39;00m results:\n\u001b[1;32m    171\u001b[0m     \u001b[39m# if no results were returned, raise error\u001b[39;00m\n\u001b[0;32m--> 172\u001b[0m     \u001b[39mraise\u001b[39;00m \u001b[39mValueError\u001b[39;00m(\u001b[39mf\u001b[39m\u001b[39m\"\u001b[39m\u001b[39mNominatim geocoder returned 0 results for query \u001b[39m\u001b[39m{\u001b[39;00mquery\u001b[39m!r}\u001b[39;00m\u001b[39m\"\u001b[39m)\n\u001b[1;32m    174\u001b[0m \u001b[39melif\u001b[39;00m by_osmid:\n\u001b[1;32m    175\u001b[0m     \u001b[39m# if searching by OSM ID, always take the first (ie, only) result\u001b[39;00m\n\u001b[1;32m    176\u001b[0m     result \u001b[39m=\u001b[39m results[\u001b[39m0\u001b[39m]\n",
      "\u001b[0;31mValueError\u001b[0m: Nominatim geocoder returned 0 results for query '483396904024'"
     ]
    }
   ],
   "source": [
    "test = ox.geocoder.geocode_to_gdf(\"483396904024\")"
   ]
  },
  {
   "cell_type": "code",
   "execution_count": 15,
   "metadata": {},
   "outputs": [],
   "source": [
    "blocks = pd.read_csv('../data/processed/census_header.csv')"
   ]
  },
  {
   "cell_type": "code",
   "execution_count": 28,
   "metadata": {},
   "outputs": [],
   "source": [
    "codes = blocks.GEOID[0:5].tolist()"
   ]
  },
  {
   "cell_type": "code",
   "execution_count": 30,
   "metadata": {},
   "outputs": [],
   "source": [
    "codes = [str(code) for code in codes]"
   ]
  },
  {
   "cell_type": "code",
   "execution_count": 31,
   "metadata": {},
   "outputs": [
    {
     "data": {
      "text/plain": [
       "['483396904024',\n",
       " '483396904024',\n",
       " '483396904024',\n",
       " '483396904024',\n",
       " '483396904024']"
      ]
     },
     "execution_count": 31,
     "metadata": {},
     "output_type": "execute_result"
    }
   ],
   "source": [
    "codes"
   ]
  },
  {
   "cell_type": "code",
   "execution_count": 33,
   "metadata": {},
   "outputs": [],
   "source": [
    "from pygris import block_groups"
   ]
  },
  {
   "cell_type": "code",
   "execution_count": 35,
   "metadata": {},
   "outputs": [
    {
     "name": "stdout",
     "output_type": "stream",
     "text": [
      "Using the default year of 2021\n",
      "Using FIPS code '48' for input 'TX'\n"
     ]
    },
    {
     "name": "stderr",
     "output_type": "stream",
     "text": [
      "/home/caden/anaconda3/envs/ai/lib/python3.11/site-packages/pygris/internal_data.py:4: DeprecationWarning: path is deprecated. Use files() instead. Refer to https://importlib-resources.readthedocs.io/en/latest/using.html#migrating-from-legacy for migration advice.\n",
      "  with resources.path(\"pygris.internals\", \"fips_codes.csv\") as path:\n"
     ]
    },
    {
     "name": "stdout",
     "output_type": "stream",
     "text": [
      "Using FIPS code '201' for input 'Harris County'\n"
     ]
    },
    {
     "name": "stderr",
     "output_type": "stream",
     "text": [
      "/home/caden/anaconda3/envs/ai/lib/python3.11/site-packages/pygris/internal_data.py:4: DeprecationWarning: path is deprecated. Use files() instead. Refer to https://importlib-resources.readthedocs.io/en/latest/using.html#migrating-from-legacy for migration advice.\n",
      "  with resources.path(\"pygris.internals\", \"fips_codes.csv\") as path:\n"
     ]
    }
   ],
   "source": [
    "harris_bg = block_groups(state=\"TX\", county=\"Harris County\", cb=True)"
   ]
  },
  {
   "cell_type": "code",
   "execution_count": 39,
   "metadata": {},
   "outputs": [
    {
     "data": {
      "text/plain": [
       "(2830, 12)"
      ]
     },
     "execution_count": 39,
     "metadata": {},
     "output_type": "execute_result"
    }
   ],
   "source": [
    "harris_bg.shape"
   ]
  },
  {
   "cell_type": "code",
   "execution_count": 41,
   "metadata": {},
   "outputs": [
    {
     "name": "stdout",
     "output_type": "stream",
     "text": [
      "Using the default year of 2021\n",
      "Using FIPS code '48' for input 'TX'\n"
     ]
    },
    {
     "name": "stderr",
     "output_type": "stream",
     "text": [
      "/home/caden/anaconda3/envs/ai/lib/python3.11/site-packages/pygris/internal_data.py:4: DeprecationWarning: path is deprecated. Use files() instead. Refer to https://importlib-resources.readthedocs.io/en/latest/using.html#migrating-from-legacy for migration advice.\n",
      "  with resources.path(\"pygris.internals\", \"fips_codes.csv\") as path:\n",
      "/home/caden/anaconda3/envs/ai/lib/python3.11/site-packages/pygris/internal_data.py:4: DeprecationWarning: path is deprecated. Use files() instead. Refer to https://importlib-resources.readthedocs.io/en/latest/using.html#migrating-from-legacy for migration advice.\n",
      "  with resources.path(\"pygris.internals\", \"fips_codes.csv\") as path:\n",
      "/home/caden/anaconda3/envs/ai/lib/python3.11/site-packages/pygris/internal_data.py:4: DeprecationWarning: path is deprecated. Use files() instead. Refer to https://importlib-resources.readthedocs.io/en/latest/using.html#migrating-from-legacy for migration advice.\n",
      "  with resources.path(\"pygris.internals\", \"fips_codes.csv\") as path:\n"
     ]
    },
    {
     "name": "stdout",
     "output_type": "stream",
     "text": [
      "Using FIPS code '339' for input 'Montgomery County'\n",
      "Using the default year of 2021\n",
      "Using FIPS code '48' for input 'TX'\n"
     ]
    },
    {
     "name": "stderr",
     "output_type": "stream",
     "text": [
      "/home/caden/anaconda3/envs/ai/lib/python3.11/site-packages/pygris/internal_data.py:4: DeprecationWarning: path is deprecated. Use files() instead. Refer to https://importlib-resources.readthedocs.io/en/latest/using.html#migrating-from-legacy for migration advice.\n",
      "  with resources.path(\"pygris.internals\", \"fips_codes.csv\") as path:\n",
      "/home/caden/anaconda3/envs/ai/lib/python3.11/site-packages/pygris/internal_data.py:4: DeprecationWarning: path is deprecated. Use files() instead. Refer to https://importlib-resources.readthedocs.io/en/latest/using.html#migrating-from-legacy for migration advice.\n",
      "  with resources.path(\"pygris.internals\", \"fips_codes.csv\") as path:\n"
     ]
    },
    {
     "name": "stdout",
     "output_type": "stream",
     "text": [
      "Using FIPS code '201' for input 'Harris County'\n",
      "Using the default year of 2021\n",
      "Using FIPS code '48' for input 'TX'\n"
     ]
    },
    {
     "name": "stderr",
     "output_type": "stream",
     "text": [
      "/home/caden/anaconda3/envs/ai/lib/python3.11/site-packages/pygris/internal_data.py:4: DeprecationWarning: path is deprecated. Use files() instead. Refer to https://importlib-resources.readthedocs.io/en/latest/using.html#migrating-from-legacy for migration advice.\n",
      "  with resources.path(\"pygris.internals\", \"fips_codes.csv\") as path:\n",
      "/home/caden/anaconda3/envs/ai/lib/python3.11/site-packages/pygris/internal_data.py:4: DeprecationWarning: path is deprecated. Use files() instead. Refer to https://importlib-resources.readthedocs.io/en/latest/using.html#migrating-from-legacy for migration advice.\n",
      "  with resources.path(\"pygris.internals\", \"fips_codes.csv\") as path:\n"
     ]
    },
    {
     "name": "stdout",
     "output_type": "stream",
     "text": [
      "Using FIPS code '015' for input 'Austin County'\n",
      "Using the default year of 2021\n",
      "Using FIPS code '48' for input 'TX'\n"
     ]
    },
    {
     "name": "stderr",
     "output_type": "stream",
     "text": [
      "/home/caden/anaconda3/envs/ai/lib/python3.11/site-packages/pygris/internal_data.py:4: DeprecationWarning: path is deprecated. Use files() instead. Refer to https://importlib-resources.readthedocs.io/en/latest/using.html#migrating-from-legacy for migration advice.\n",
      "  with resources.path(\"pygris.internals\", \"fips_codes.csv\") as path:\n",
      "/home/caden/anaconda3/envs/ai/lib/python3.11/site-packages/pygris/internal_data.py:4: DeprecationWarning: path is deprecated. Use files() instead. Refer to https://importlib-resources.readthedocs.io/en/latest/using.html#migrating-from-legacy for migration advice.\n",
      "  with resources.path(\"pygris.internals\", \"fips_codes.csv\") as path:\n"
     ]
    },
    {
     "name": "stdout",
     "output_type": "stream",
     "text": [
      "Using FIPS code '167' for input 'Galveston County'\n",
      "Using the default year of 2021\n",
      "Using FIPS code '48' for input 'TX'\n"
     ]
    },
    {
     "name": "stderr",
     "output_type": "stream",
     "text": [
      "/home/caden/anaconda3/envs/ai/lib/python3.11/site-packages/pygris/internal_data.py:4: DeprecationWarning: path is deprecated. Use files() instead. Refer to https://importlib-resources.readthedocs.io/en/latest/using.html#migrating-from-legacy for migration advice.\n",
      "  with resources.path(\"pygris.internals\", \"fips_codes.csv\") as path:\n",
      "/home/caden/anaconda3/envs/ai/lib/python3.11/site-packages/pygris/internal_data.py:4: DeprecationWarning: path is deprecated. Use files() instead. Refer to https://importlib-resources.readthedocs.io/en/latest/using.html#migrating-from-legacy for migration advice.\n",
      "  with resources.path(\"pygris.internals\", \"fips_codes.csv\") as path:\n"
     ]
    },
    {
     "name": "stdout",
     "output_type": "stream",
     "text": [
      "Using FIPS code '157' for input 'Fort Bend County'\n",
      "Using the default year of 2021\n",
      "Using FIPS code '48' for input 'TX'\n"
     ]
    },
    {
     "name": "stderr",
     "output_type": "stream",
     "text": [
      "/home/caden/anaconda3/envs/ai/lib/python3.11/site-packages/pygris/internal_data.py:4: DeprecationWarning: path is deprecated. Use files() instead. Refer to https://importlib-resources.readthedocs.io/en/latest/using.html#migrating-from-legacy for migration advice.\n",
      "  with resources.path(\"pygris.internals\", \"fips_codes.csv\") as path:\n",
      "/home/caden/anaconda3/envs/ai/lib/python3.11/site-packages/pygris/internal_data.py:4: DeprecationWarning: path is deprecated. Use files() instead. Refer to https://importlib-resources.readthedocs.io/en/latest/using.html#migrating-from-legacy for migration advice.\n",
      "  with resources.path(\"pygris.internals\", \"fips_codes.csv\") as path:\n"
     ]
    },
    {
     "name": "stdout",
     "output_type": "stream",
     "text": [
      "Using FIPS code '071' for input 'Chambers County'\n",
      "Using the default year of 2021\n",
      "Using FIPS code '48' for input 'TX'\n"
     ]
    },
    {
     "name": "stderr",
     "output_type": "stream",
     "text": [
      "/home/caden/anaconda3/envs/ai/lib/python3.11/site-packages/pygris/internal_data.py:4: DeprecationWarning: path is deprecated. Use files() instead. Refer to https://importlib-resources.readthedocs.io/en/latest/using.html#migrating-from-legacy for migration advice.\n",
      "  with resources.path(\"pygris.internals\", \"fips_codes.csv\") as path:\n",
      "/home/caden/anaconda3/envs/ai/lib/python3.11/site-packages/pygris/internal_data.py:4: DeprecationWarning: path is deprecated. Use files() instead. Refer to https://importlib-resources.readthedocs.io/en/latest/using.html#migrating-from-legacy for migration advice.\n",
      "  with resources.path(\"pygris.internals\", \"fips_codes.csv\") as path:\n"
     ]
    },
    {
     "name": "stdout",
     "output_type": "stream",
     "text": [
      "Using FIPS code '039' for input 'Brazoria County'\n",
      "Using the default year of 2021\n",
      "Using FIPS code '48' for input 'TX'\n"
     ]
    },
    {
     "name": "stderr",
     "output_type": "stream",
     "text": [
      "/home/caden/anaconda3/envs/ai/lib/python3.11/site-packages/pygris/internal_data.py:4: DeprecationWarning: path is deprecated. Use files() instead. Refer to https://importlib-resources.readthedocs.io/en/latest/using.html#migrating-from-legacy for migration advice.\n",
      "  with resources.path(\"pygris.internals\", \"fips_codes.csv\") as path:\n",
      "/home/caden/anaconda3/envs/ai/lib/python3.11/site-packages/pygris/internal_data.py:4: DeprecationWarning: path is deprecated. Use files() instead. Refer to https://importlib-resources.readthedocs.io/en/latest/using.html#migrating-from-legacy for migration advice.\n",
      "  with resources.path(\"pygris.internals\", \"fips_codes.csv\") as path:\n"
     ]
    },
    {
     "name": "stdout",
     "output_type": "stream",
     "text": [
      "Using FIPS code '291' for input 'Liberty County'\n",
      "Using the default year of 2021\n",
      "Using FIPS code '48' for input 'TX'\n",
      "Using FIPS code '473' for input 'Waller County'\n"
     ]
    },
    {
     "name": "stderr",
     "output_type": "stream",
     "text": [
      "/home/caden/anaconda3/envs/ai/lib/python3.11/site-packages/pygris/internal_data.py:4: DeprecationWarning: path is deprecated. Use files() instead. Refer to https://importlib-resources.readthedocs.io/en/latest/using.html#migrating-from-legacy for migration advice.\n",
      "  with resources.path(\"pygris.internals\", \"fips_codes.csv\") as path:\n"
     ]
    }
   ],
   "source": [
    "county_names = ['Montgomery County', 'Harris County', 'Austin County', 'Galveston County', 'Fort Bend County', 'Chambers County', 'Brazoria County', 'Liberty County', 'Waller County']\n",
    "\n",
    "\n",
    "bg_df = []\n",
    "for county in county_names:\n",
    "    bg_df.append(block_groups(state=\"TX\", county=county, cb=True))\n",
    "\n",
    "bg_df = pd.concat(bg_df)"
   ]
  },
  {
   "cell_type": "code",
   "execution_count": 44,
   "metadata": {},
   "outputs": [],
   "source": [
    "bg_df.to_csv('../data/processed/bg_shapefile.csv', index=False)"
   ]
  }
 ],
 "metadata": {
  "kernelspec": {
   "display_name": "ai",
   "language": "python",
   "name": "python3"
  },
  "language_info": {
   "codemirror_mode": {
    "name": "ipython",
    "version": 3
   },
   "file_extension": ".py",
   "mimetype": "text/x-python",
   "name": "python",
   "nbconvert_exporter": "python",
   "pygments_lexer": "ipython3",
   "version": "3.11.0"
  },
  "orig_nbformat": 4
 },
 "nbformat": 4,
 "nbformat_minor": 2
}
