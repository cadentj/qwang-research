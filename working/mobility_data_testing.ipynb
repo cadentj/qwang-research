{
 "cells": [
  {
   "cell_type": "code",
   "execution_count": 31,
   "metadata": {},
   "outputs": [],
   "source": [
    "import pandas as pd\n",
    "import json\n",
    "import geopandas\n",
    "from sklearn.cluster import OPTICS \n",
    "import matplotlib.pyplot as plt"
   ]
  },
  {
   "cell_type": "code",
   "execution_count": null,
   "metadata": {},
   "outputs": [],
   "source": [
    "df = pd.read_pickle('../data/mobility_census_data.pkl')\n",
    "header_df = pd.read_csv('../data/home_cbg_at_least_5_nights_0701_0820.csv')\n",
    "header_df.columns"
   ]
  },
  {
   "cell_type": "code",
   "execution_count": 2,
   "metadata": {},
   "outputs": [],
   "source": [
    "frame_array = []\n",
    "for data in df:\n",
    "    j = data.json()\n",
    "    frame = pd.DataFrame(j[1:], columns=j[0])\n",
    "    frame_array.append(frame)\n",
    "\n",
    "df = pd.concat(frame_array)"
   ]
  },
  {
   "cell_type": "code",
   "execution_count": 3,
   "metadata": {},
   "outputs": [
    {
     "name": "stdout",
     "output_type": "stream",
     "text": [
      "Block Group: 3017\n",
      "Tract: 1068\n"
     ]
    }
   ],
   "source": [
    "# Deciding between using block group or tract level data\n",
    "# Need to find which one has more unique values\n",
    "\n",
    "# Block group\n",
    "print(f\"Block Group: {len(header_df.AFFGEOID_2.unique())}\")\n",
    "\n",
    "# Tract\n",
    "print(f\"Tract: {len(header_df.TRACTCE.unique())}\")"
   ]
  },
  {
   "cell_type": "code",
   "execution_count": 30,
   "metadata": {},
   "outputs": [],
   "source": [
    "converted_column = pd.to_datetime(stay_07['timecome'], format='%Y-%m-%d %H:%M:%S')"
   ]
  },
  {
   "cell_type": "code",
   "execution_count": 33,
   "metadata": {},
   "outputs": [
    {
     "data": {
      "text/plain": [
       "0     4\n",
       "1     6\n",
       "2    12\n",
       "3    10\n",
       "4    11\n",
       "Name: timecome, dtype: int64"
      ]
     },
     "execution_count": 33,
     "metadata": {},
     "output_type": "execute_result"
    }
   ],
   "source": [
    "# extract hours\n",
    "hours = converted_column.dt.hour\n",
    "hours.head()"
   ]
  },
  {
   "cell_type": "code",
   "execution_count": 27,
   "metadata": {},
   "outputs": [],
   "source": [
    "test_date = datetime.strptime(stay_07.iloc[0].timecome, '%Y-%m-%d %H:%M:%S')"
   ]
  },
  {
   "cell_type": "code",
   "execution_count": 29,
   "metadata": {},
   "outputs": [
    {
     "data": {
      "text/plain": [
       "4"
      ]
     },
     "execution_count": 29,
     "metadata": {},
     "output_type": "execute_result"
    }
   ],
   "source": [
    "test_date.hour"
   ]
  },
  {
   "cell_type": "code",
   "execution_count": null,
   "metadata": {},
   "outputs": [],
   "source": [
    "# verifying that the header user ids correspond to device ids\n",
    "\n",
    "counter = 0\n",
    "for i in range(50):\n",
    "    t = stay_07.loc[stay_07['userid'] == header_df.iloc[i].device_id]\n",
    "    if t.shape[0] > 0:\n",
    "        print(header_df.iloc[i].device_id)\n",
    "        counter += 1\n",
    "\n",
    "print(counter)"
   ]
  }
 ],
 "metadata": {
  "kernelspec": {
   "display_name": "ai",
   "language": "python",
   "name": "python3"
  },
  "language_info": {
   "codemirror_mode": {
    "name": "ipython",
    "version": 3
   },
   "file_extension": ".py",
   "mimetype": "text/x-python",
   "name": "python",
   "nbconvert_exporter": "python",
   "pygments_lexer": "ipython3",
   "version": "3.11.0"
  },
  "orig_nbformat": 4
 },
 "nbformat": 4,
 "nbformat_minor": 2
}
