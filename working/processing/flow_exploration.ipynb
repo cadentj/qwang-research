{
 "cells": [
  {
   "cell_type": "code",
   "execution_count": 1,
   "metadata": {},
   "outputs": [],
   "source": [
    "import pandas as pd\n",
    "import geopandas as gpd\n",
    "import skmob\n",
    "from skmob.tessellation import tilers\n",
    "from shapely import wkt, MultiPolygon\n",
    "from torch_geometric.data import Data\n",
    "import torch\n",
    "\n",
    "from sklearn.experimental import enable_iterative_imputer\n",
    "from sklearn.impute import IterativeImputer\n",
    "\n",
    "\n",
    "from sklearn.preprocessing import StandardScaler"
   ]
  },
  {
   "cell_type": "code",
   "execution_count": 2,
   "metadata": {},
   "outputs": [
    {
     "data": {
      "text/plain": [
       "GEOID           0\n",
       "MedAge          0\n",
       "MedHouIncome    0\n",
       "PerCapIncome    0\n",
       "TotPop          0\n",
       "White           0\n",
       "BlackAA         0\n",
       "AIAN            0\n",
       "Asian           0\n",
       "NHOPI           0\n",
       "OtherRace       0\n",
       "dtype: int64"
      ]
     },
     "execution_count": 2,
     "metadata": {},
     "output_type": "execute_result"
    }
   ],
   "source": [
    "# Create block group features\n",
    "\n",
    "# Load block group data\n",
    "bg = pd.read_csv('../../data/processed/census_data.csv')\n",
    "feature_columns = ['GEOID', 'MedAge', 'MedHouIncome', 'PerCapIncome', 'TotPop', 'White', 'BlackAA', 'AIAN', 'Asian', 'NHOPI', 'OtherRace']\n",
    "bg = bg[feature_columns]\n",
    "\n",
    "# Removed first two digits of GEOID bc same for all rows (48 = Texas)\n",
    "bg.GEOID = bg.GEOID.astype(str)\n",
    "bg.GEOID = bg.GEOID.str[3:]\n",
    "bg.GEOID = bg.GEOID.astype(int)\n",
    "bg.isna().sum()"
   ]
  },
  {
   "cell_type": "code",
   "execution_count": 3,
   "metadata": {},
   "outputs": [],
   "source": [
    "edges = pd.read_csv('../../data/processed/aggregated_fdf.csv')"
   ]
  },
  {
   "cell_type": "code",
   "execution_count": 4,
   "metadata": {},
   "outputs": [],
   "source": [
    "# Drop first two digits of GEOID\n",
    "edges.origin = edges.origin.astype(str)\n",
    "edges.origin = edges.origin.str[3:]  \n",
    "edges.origin = edges.origin.astype(int)\n",
    "\n",
    "edges.destination = edges.destination.astype(str)\n",
    "edges.destination = edges.destination.str[3:]  \n",
    "edges.destination = edges.destination.astype(int)\n",
    "\n",
    "# Get unique geoids from edges\n",
    "concat_edges = pd.concat([edges['origin'], edges['destination']])\n",
    "unique_geoids = concat_edges.unique()\n",
    "\n",
    "# filter bg to have only those geoids\n",
    "filtered_bg = bg.loc[bg['GEOID'].isin(unique_geoids)]\n",
    "filtered_bg.reset_index(inplace=True, drop=True)"
   ]
  },
  {
   "cell_type": "code",
   "execution_count": 8,
   "metadata": {},
   "outputs": [
    {
     "name": "stdout",
     "output_type": "stream",
     "text": [
      "Column with errors: MedAge | 8 errors\n",
      "Column with errors: MedHouIncome | 375 errors\n",
      "Column with errors: PerCapIncome | 7 errors\n"
     ]
    }
   ],
   "source": [
    "for c in filtered_bg.columns:\n",
    "    temp = filtered_bg[c].loc[filtered_bg[c].astype(int) < 0]\n",
    "    if len(temp) > 0:\n",
    "        print(f\"Column with errors: {c} | {len(temp)} errors\")"
   ]
  },
  {
   "cell_type": "code",
   "execution_count": 16,
   "metadata": {},
   "outputs": [
    {
     "data": {
      "text/html": [
       "<div>\n",
       "<style scoped>\n",
       "    .dataframe tbody tr th:only-of-type {\n",
       "        vertical-align: middle;\n",
       "    }\n",
       "\n",
       "    .dataframe tbody tr th {\n",
       "        vertical-align: top;\n",
       "    }\n",
       "\n",
       "    .dataframe thead th {\n",
       "        text-align: right;\n",
       "    }\n",
       "</style>\n",
       "<table border=\"1\" class=\"dataframe\">\n",
       "  <thead>\n",
       "    <tr style=\"text-align: right;\">\n",
       "      <th></th>\n",
       "      <th>GEOID</th>\n",
       "      <th>MedAge</th>\n",
       "      <th>MedHouIncome</th>\n",
       "      <th>PerCapIncome</th>\n",
       "      <th>TotPop</th>\n",
       "      <th>White</th>\n",
       "      <th>BlackAA</th>\n",
       "      <th>AIAN</th>\n",
       "      <th>Asian</th>\n",
       "      <th>NHOPI</th>\n",
       "      <th>OtherRace</th>\n",
       "    </tr>\n",
       "  </thead>\n",
       "  <tbody>\n",
       "    <tr>\n",
       "      <th>0</th>\n",
       "      <td>157601001</td>\n",
       "      <td>33.7</td>\n",
       "      <td>35066</td>\n",
       "      <td>19239</td>\n",
       "      <td>1308</td>\n",
       "      <td>731</td>\n",
       "      <td>257</td>\n",
       "      <td>7</td>\n",
       "      <td>0</td>\n",
       "      <td>0</td>\n",
       "      <td>185</td>\n",
       "    </tr>\n",
       "    <tr>\n",
       "      <th>1</th>\n",
       "      <td>157601002</td>\n",
       "      <td>38.7</td>\n",
       "      <td>51477</td>\n",
       "      <td>25688</td>\n",
       "      <td>1158</td>\n",
       "      <td>782</td>\n",
       "      <td>95</td>\n",
       "      <td>0</td>\n",
       "      <td>0</td>\n",
       "      <td>0</td>\n",
       "      <td>228</td>\n",
       "    </tr>\n",
       "    <tr>\n",
       "      <th>2</th>\n",
       "      <td>157602011</td>\n",
       "      <td>49.2</td>\n",
       "      <td>63879</td>\n",
       "      <td>31392</td>\n",
       "      <td>913</td>\n",
       "      <td>802</td>\n",
       "      <td>111</td>\n",
       "      <td>0</td>\n",
       "      <td>0</td>\n",
       "      <td>0</td>\n",
       "      <td>0</td>\n",
       "    </tr>\n",
       "    <tr>\n",
       "      <th>3</th>\n",
       "      <td>157602012</td>\n",
       "      <td>33.5</td>\n",
       "      <td>48452</td>\n",
       "      <td>23740</td>\n",
       "      <td>1145</td>\n",
       "      <td>586</td>\n",
       "      <td>369</td>\n",
       "      <td>0</td>\n",
       "      <td>0</td>\n",
       "      <td>0</td>\n",
       "      <td>78</td>\n",
       "    </tr>\n",
       "    <tr>\n",
       "      <th>4</th>\n",
       "      <td>157602021</td>\n",
       "      <td>41.7</td>\n",
       "      <td>90056</td>\n",
       "      <td>42052</td>\n",
       "      <td>2351</td>\n",
       "      <td>1837</td>\n",
       "      <td>120</td>\n",
       "      <td>0</td>\n",
       "      <td>0</td>\n",
       "      <td>0</td>\n",
       "      <td>352</td>\n",
       "    </tr>\n",
       "  </tbody>\n",
       "</table>\n",
       "</div>"
      ],
      "text/plain": [
       "       GEOID  MedAge  MedHouIncome  PerCapIncome  TotPop  White  BlackAA  \\\n",
       "0  157601001    33.7         35066         19239    1308    731      257   \n",
       "1  157601002    38.7         51477         25688    1158    782       95   \n",
       "2  157602011    49.2         63879         31392     913    802      111   \n",
       "3  157602012    33.5         48452         23740    1145    586      369   \n",
       "4  157602021    41.7         90056         42052    2351   1837      120   \n",
       "\n",
       "   AIAN  Asian  NHOPI  OtherRace  \n",
       "0     7      0      0        185  \n",
       "1     0      0      0        228  \n",
       "2     0      0      0          0  \n",
       "3     0      0      0         78  \n",
       "4     0      0      0        352  "
      ]
     },
     "execution_count": 16,
     "metadata": {},
     "output_type": "execute_result"
    }
   ],
   "source": [
    "filtered_bg.head()"
   ]
  },
  {
   "cell_type": "code",
   "execution_count": 17,
   "metadata": {},
   "outputs": [],
   "source": [
    "geoid2number = {}\n",
    "number2geoid = {}\n",
    "\n",
    "# Create two dictionaries to map geoids to indexes and vice versa\n",
    "for i in range(len(filtered_bg)):\n",
    "    geoid2number[filtered_bg.GEOID[i]] = i\n",
    "    number2geoid[i] = filtered_bg.GEOID[i]\n",
    "\n",
    "\n",
    "# Map edges to indexes\n",
    "edges['origin'] = edges['origin'].map(geoid2number)\n",
    "edges['destination'] = edges['destination'].map(geoid2number)\n",
    "\n",
    "\n",
    "bg_features = filtered_bg.drop(columns=['GEOID'])"
   ]
  },
  {
   "cell_type": "code",
   "execution_count": 25,
   "metadata": {},
   "outputs": [],
   "source": [
    "imputer = IterativeImputer(random_state=0, missing_values=-666666666)\n",
    "bg_test = imputer.fit_transform(bg_features)\n",
    "bg_test = pd.DataFrame(bg_test, columns=bg_features.columns)\n",
    "for c in bg_test.columns:\n",
    "    bg_test[c] = bg_test[c].astype(int)\n",
    "bg_features = bg_test"
   ]
  },
  {
   "cell_type": "code",
   "execution_count": 29,
   "metadata": {},
   "outputs": [],
   "source": [
    "scaler = StandardScaler()\n",
    "bg_test = scaler.fit_transform(bg_features)\n",
    "bg_test = pd.DataFrame(bg_test, columns=bg_features.columns)\n",
    "bg_test.head()\n",
    "\n",
    "edge_flows = scaler.fit_transform(edges[['flow']])\n",
    "edges.flow = pd.DataFrame(edge_flows, columns=['flow'])"
   ]
  },
  {
   "cell_type": "code",
   "execution_count": 34,
   "metadata": {},
   "outputs": [],
   "source": [
    "feature_columns = ['MedAge', 'TotPop', 'White', 'BlackAA', 'AIAN', 'Asian', 'NHOPI', 'OtherRace']\n",
    "predictor_columns = ['PerCapIncome']\n",
    "\n",
    "x = bg_test[feature_columns]\n",
    "y = bg_test[predictor_columns]"
   ]
  },
  {
   "cell_type": "code",
   "execution_count": 35,
   "metadata": {},
   "outputs": [],
   "source": [
    "data = Data(\n",
    "    x=torch.tensor(x.values, dtype=torch.float),\n",
    "    y=torch.tensor(y.values, dtype=torch.float),\n",
    "    edge_index=torch.tensor(edges[['origin', 'destination']].values, dtype=torch.long).T,\n",
    "    edge_attr=torch.tensor(edges[['flow']].values, dtype=torch.float).squeeze()\n",
    "    )"
   ]
  },
  {
   "cell_type": "code",
   "execution_count": 36,
   "metadata": {},
   "outputs": [
    {
     "data": {
      "text/plain": [
       "Data(x=[4142, 8], edge_index=[2, 2927820], edge_attr=[2927820], y=[4142, 1])"
      ]
     },
     "execution_count": 36,
     "metadata": {},
     "output_type": "execute_result"
    }
   ],
   "source": [
    "data"
   ]
  }
 ],
 "metadata": {
  "kernelspec": {
   "display_name": "ai",
   "language": "python",
   "name": "python3"
  },
  "language_info": {
   "codemirror_mode": {
    "name": "ipython",
    "version": 3
   },
   "file_extension": ".py",
   "mimetype": "text/x-python",
   "name": "python",
   "nbconvert_exporter": "python",
   "pygments_lexer": "ipython3",
   "version": "3.11.0"
  },
  "orig_nbformat": 4
 },
 "nbformat": 4,
 "nbformat_minor": 2
}
