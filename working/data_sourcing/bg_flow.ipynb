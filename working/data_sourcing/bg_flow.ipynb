{
 "cells": [
  {
   "cell_type": "code",
   "execution_count": 1,
   "metadata": {},
   "outputs": [],
   "source": [
    "import pandas as pd\n",
    "import geopandas as gpd\n",
    "import skmob\n",
    "from skmob.preprocessing import filtering, compression\n",
    "from skmob.tessellation import tilers\n",
    "from shapely import wkt, MultiPolygon"
   ]
  },
  {
   "cell_type": "code",
   "execution_count": 2,
   "metadata": {},
   "outputs": [],
   "source": [
    "column_names = ['userid', 'timecome','date','lat','long','count','timeleave','duration']\n",
    "data = pd.read_csv('../../data/raw/stay_points_07/2017-07-02.txt', names=column_names)"
   ]
  },
  {
   "cell_type": "code",
   "execution_count": 4,
   "metadata": {},
   "outputs": [
    {
     "name": "stdout",
     "output_type": "stream",
     "text": [
      "{'init': 'epsg:4326'}\n"
     ]
    },
    {
     "data": {
      "text/html": [
       "<div>\n",
       "<style scoped>\n",
       "    .dataframe tbody tr th:only-of-type {\n",
       "        vertical-align: middle;\n",
       "    }\n",
       "\n",
       "    .dataframe tbody tr th {\n",
       "        vertical-align: top;\n",
       "    }\n",
       "\n",
       "    .dataframe thead th {\n",
       "        text-align: right;\n",
       "    }\n",
       "</style>\n",
       "<table border=\"1\" class=\"dataframe\">\n",
       "  <thead>\n",
       "    <tr style=\"text-align: right;\">\n",
       "      <th></th>\n",
       "      <th>uid</th>\n",
       "      <th>lat</th>\n",
       "      <th>lng</th>\n",
       "      <th>datetime</th>\n",
       "    </tr>\n",
       "  </thead>\n",
       "  <tbody>\n",
       "    <tr>\n",
       "      <th>0</th>\n",
       "      <td>000070ec83acc05efcd9216ef9cf8725e2bbd41c7a9d2c...</td>\n",
       "      <td>29.137871</td>\n",
       "      <td>-95.063447</td>\n",
       "      <td>2017-07-02 04:11:10</td>\n",
       "    </tr>\n",
       "    <tr>\n",
       "      <th>1</th>\n",
       "      <td>00009827ea7c3bd4007e921ac8816407955a54deb76482...</td>\n",
       "      <td>29.787984</td>\n",
       "      <td>-95.592063</td>\n",
       "      <td>2017-07-02 06:28:41</td>\n",
       "    </tr>\n",
       "    <tr>\n",
       "      <th>2</th>\n",
       "      <td>00009827ea7c3bd4007e921ac8816407955a54deb76482...</td>\n",
       "      <td>29.788166</td>\n",
       "      <td>-95.592103</td>\n",
       "      <td>2017-07-02 12:34:14</td>\n",
       "    </tr>\n",
       "    <tr>\n",
       "      <th>3</th>\n",
       "      <td>0000bd2c0530443b29fee5a4a9adc2fcc5afc891821320...</td>\n",
       "      <td>30.058383</td>\n",
       "      <td>-95.390059</td>\n",
       "      <td>2017-07-02 10:36:48</td>\n",
       "    </tr>\n",
       "    <tr>\n",
       "      <th>4</th>\n",
       "      <td>0000bd2c0530443b29fee5a4a9adc2fcc5afc891821320...</td>\n",
       "      <td>30.065311</td>\n",
       "      <td>-95.430054</td>\n",
       "      <td>2017-07-02 11:56:01</td>\n",
       "    </tr>\n",
       "  </tbody>\n",
       "</table>\n",
       "</div>"
      ],
      "text/plain": [
       "                                                 uid        lat        lng  \\\n",
       "0  000070ec83acc05efcd9216ef9cf8725e2bbd41c7a9d2c...  29.137871 -95.063447   \n",
       "1  00009827ea7c3bd4007e921ac8816407955a54deb76482...  29.787984 -95.592063   \n",
       "2  00009827ea7c3bd4007e921ac8816407955a54deb76482...  29.788166 -95.592103   \n",
       "3  0000bd2c0530443b29fee5a4a9adc2fcc5afc891821320...  30.058383 -95.390059   \n",
       "4  0000bd2c0530443b29fee5a4a9adc2fcc5afc891821320...  30.065311 -95.430054   \n",
       "\n",
       "             datetime  \n",
       "0 2017-07-02 04:11:10  \n",
       "1 2017-07-02 06:28:41  \n",
       "2 2017-07-02 12:34:14  \n",
       "3 2017-07-02 10:36:48  \n",
       "4 2017-07-02 11:56:01  "
      ]
     },
     "execution_count": 4,
     "metadata": {},
     "output_type": "execute_result"
    }
   ],
   "source": [
    "to_tdf = data[['userid', 'lat', 'long', 'timecome']]\n",
    "tdf = skmob.TrajDataFrame(to_tdf, latitude='lat', longitude='long', datetime='timecome', user_id='userid')\n",
    "print(tdf.crs)\n",
    "tdf.head()"
   ]
  },
  {
   "cell_type": "code",
   "execution_count": 27,
   "metadata": {},
   "outputs": [
    {
     "data": {
      "text/plain": [
       "<Geographic 2D CRS: EPSG:4326>\n",
       "Name: WGS 84\n",
       "Axis Info [ellipsoidal]:\n",
       "- Lat[north]: Geodetic latitude (degree)\n",
       "- Lon[east]: Geodetic longitude (degree)\n",
       "Area of Use:\n",
       "- name: World.\n",
       "- bounds: (-180.0, -90.0, 180.0, 90.0)\n",
       "Datum: World Geodetic System 1984 ensemble\n",
       "- Ellipsoid: WGS 84\n",
       "- Prime Meridian: Greenwich"
      ]
     },
     "execution_count": 27,
     "metadata": {},
     "output_type": "execute_result"
    }
   ],
   "source": [
    "tdf_test = tdf[0:10000]\n",
    "tessellation_test = tilers.tiler.get(\"squared\", base_shape='Houston, Texas', meters=5000)\n",
    "tessellation_test.crs"
   ]
  },
  {
   "cell_type": "code",
   "execution_count": 43,
   "metadata": {},
   "outputs": [],
   "source": [
    "gdf = gpd.GeoDataFrame(tdf_test, geometry=gpd.points_from_xy(tdf_test.lat, tdf_test.lng))\n",
    "gdf = gdf.set_crs('epsg:4326')"
   ]
  },
  {
   "cell_type": "code",
   "execution_count": 47,
   "metadata": {},
   "outputs": [
    {
     "data": {
      "text/html": [
       "<div>\n",
       "<style scoped>\n",
       "    .dataframe tbody tr th:only-of-type {\n",
       "        vertical-align: middle;\n",
       "    }\n",
       "\n",
       "    .dataframe tbody tr th {\n",
       "        vertical-align: top;\n",
       "    }\n",
       "\n",
       "    .dataframe thead th {\n",
       "        text-align: right;\n",
       "    }\n",
       "</style>\n",
       "<table border=\"1\" class=\"dataframe\">\n",
       "  <thead>\n",
       "    <tr style=\"text-align: right;\">\n",
       "      <th></th>\n",
       "      <th>tile_ID</th>\n",
       "      <th>geometry</th>\n",
       "    </tr>\n",
       "  </thead>\n",
       "  <tbody>\n",
       "    <tr>\n",
       "      <th>0</th>\n",
       "      <td>0</td>\n",
       "      <td>POLYGON ((-95.90974 30.00492, -95.90974 30.043...</td>\n",
       "    </tr>\n",
       "    <tr>\n",
       "      <th>1</th>\n",
       "      <td>1</td>\n",
       "      <td>POLYGON ((-95.90974 30.04381, -95.90974 30.082...</td>\n",
       "    </tr>\n",
       "    <tr>\n",
       "      <th>2</th>\n",
       "      <td>2</td>\n",
       "      <td>POLYGON ((-95.90974 30.08268, -95.90974 30.121...</td>\n",
       "    </tr>\n",
       "    <tr>\n",
       "      <th>3</th>\n",
       "      <td>3</td>\n",
       "      <td>POLYGON ((-95.86483 30.00492, -95.86483 30.043...</td>\n",
       "    </tr>\n",
       "    <tr>\n",
       "      <th>4</th>\n",
       "      <td>4</td>\n",
       "      <td>POLYGON ((-95.81991 29.81025, -95.81991 29.849...</td>\n",
       "    </tr>\n",
       "  </tbody>\n",
       "</table>\n",
       "</div>"
      ],
      "text/plain": [
       "  tile_ID                                           geometry\n",
       "0       0  POLYGON ((-95.90974 30.00492, -95.90974 30.043...\n",
       "1       1  POLYGON ((-95.90974 30.04381, -95.90974 30.082...\n",
       "2       2  POLYGON ((-95.90974 30.08268, -95.90974 30.121...\n",
       "3       3  POLYGON ((-95.86483 30.00492, -95.86483 30.043...\n",
       "4       4  POLYGON ((-95.81991 29.81025, -95.81991 29.849..."
      ]
     },
     "execution_count": 47,
     "metadata": {},
     "output_type": "execute_result"
    }
   ],
   "source": [
    "tessellation_test.head()"
   ]
  },
  {
   "cell_type": "code",
   "execution_count": 49,
   "metadata": {},
   "outputs": [
    {
     "data": {
      "text/html": [
       "<div>\n",
       "<style scoped>\n",
       "    .dataframe tbody tr th:only-of-type {\n",
       "        vertical-align: middle;\n",
       "    }\n",
       "\n",
       "    .dataframe tbody tr th {\n",
       "        vertical-align: top;\n",
       "    }\n",
       "\n",
       "    .dataframe thead th {\n",
       "        text-align: right;\n",
       "    }\n",
       "</style>\n",
       "<table border=\"1\" class=\"dataframe\">\n",
       "  <thead>\n",
       "    <tr style=\"text-align: right;\">\n",
       "      <th></th>\n",
       "      <th>uid</th>\n",
       "      <th>lat</th>\n",
       "      <th>lng</th>\n",
       "      <th>datetime</th>\n",
       "      <th>geometry</th>\n",
       "    </tr>\n",
       "  </thead>\n",
       "  <tbody>\n",
       "    <tr>\n",
       "      <th>0</th>\n",
       "      <td>000070ec83acc05efcd9216ef9cf8725e2bbd41c7a9d2c...</td>\n",
       "      <td>29.137871</td>\n",
       "      <td>-95.063447</td>\n",
       "      <td>2017-07-02 04:11:10</td>\n",
       "      <td>POINT (29.13787 -95.06345)</td>\n",
       "    </tr>\n",
       "    <tr>\n",
       "      <th>1</th>\n",
       "      <td>00009827ea7c3bd4007e921ac8816407955a54deb76482...</td>\n",
       "      <td>29.787984</td>\n",
       "      <td>-95.592063</td>\n",
       "      <td>2017-07-02 06:28:41</td>\n",
       "      <td>POINT (29.78798 -95.59206)</td>\n",
       "    </tr>\n",
       "    <tr>\n",
       "      <th>2</th>\n",
       "      <td>00009827ea7c3bd4007e921ac8816407955a54deb76482...</td>\n",
       "      <td>29.788166</td>\n",
       "      <td>-95.592103</td>\n",
       "      <td>2017-07-02 12:34:14</td>\n",
       "      <td>POINT (29.78817 -95.59210)</td>\n",
       "    </tr>\n",
       "    <tr>\n",
       "      <th>3</th>\n",
       "      <td>0000bd2c0530443b29fee5a4a9adc2fcc5afc891821320...</td>\n",
       "      <td>30.058383</td>\n",
       "      <td>-95.390059</td>\n",
       "      <td>2017-07-02 10:36:48</td>\n",
       "      <td>POINT (30.05838 -95.39006)</td>\n",
       "    </tr>\n",
       "    <tr>\n",
       "      <th>4</th>\n",
       "      <td>0000bd2c0530443b29fee5a4a9adc2fcc5afc891821320...</td>\n",
       "      <td>30.065311</td>\n",
       "      <td>-95.430054</td>\n",
       "      <td>2017-07-02 11:56:01</td>\n",
       "      <td>POINT (30.06531 -95.43005)</td>\n",
       "    </tr>\n",
       "  </tbody>\n",
       "</table>\n",
       "</div>"
      ],
      "text/plain": [
       "                                                 uid        lat        lng  \\\n",
       "0  000070ec83acc05efcd9216ef9cf8725e2bbd41c7a9d2c...  29.137871 -95.063447   \n",
       "1  00009827ea7c3bd4007e921ac8816407955a54deb76482...  29.787984 -95.592063   \n",
       "2  00009827ea7c3bd4007e921ac8816407955a54deb76482...  29.788166 -95.592103   \n",
       "3  0000bd2c0530443b29fee5a4a9adc2fcc5afc891821320...  30.058383 -95.390059   \n",
       "4  0000bd2c0530443b29fee5a4a9adc2fcc5afc891821320...  30.065311 -95.430054   \n",
       "\n",
       "             datetime                    geometry  \n",
       "0 2017-07-02 04:11:10  POINT (29.13787 -95.06345)  \n",
       "1 2017-07-02 06:28:41  POINT (29.78798 -95.59206)  \n",
       "2 2017-07-02 12:34:14  POINT (29.78817 -95.59210)  \n",
       "3 2017-07-02 10:36:48  POINT (30.05838 -95.39006)  \n",
       "4 2017-07-02 11:56:01  POINT (30.06531 -95.43005)  "
      ]
     },
     "execution_count": 49,
     "metadata": {},
     "output_type": "execute_result"
    }
   ],
   "source": [
    "gdf.head()"
   ]
  },
  {
   "cell_type": "code",
   "execution_count": 50,
   "metadata": {},
   "outputs": [
    {
     "name": "stderr",
     "output_type": "stream",
     "text": [
      "/home/caden/anaconda3/envs/ai/lib/python3.11/site-packages/IPython/core/interactiveshell.py:3400: FutureWarning: The `op` parameter is deprecated and will be removed in a future release. Please use the `predicate` parameter instead.\n",
      "  if await self.run_code(code, result, async_=asy):\n"
     ]
    }
   ],
   "source": [
    "test = gpd.sjoin(gdf, tessellation_test, how='left', op='within')"
   ]
  },
  {
   "cell_type": "code",
   "execution_count": 51,
   "metadata": {},
   "outputs": [
    {
     "data": {
      "text/html": [
       "<div>\n",
       "<style scoped>\n",
       "    .dataframe tbody tr th:only-of-type {\n",
       "        vertical-align: middle;\n",
       "    }\n",
       "\n",
       "    .dataframe tbody tr th {\n",
       "        vertical-align: top;\n",
       "    }\n",
       "\n",
       "    .dataframe thead th {\n",
       "        text-align: right;\n",
       "    }\n",
       "</style>\n",
       "<table border=\"1\" class=\"dataframe\">\n",
       "  <thead>\n",
       "    <tr style=\"text-align: right;\">\n",
       "      <th></th>\n",
       "      <th>uid</th>\n",
       "      <th>lat</th>\n",
       "      <th>lng</th>\n",
       "      <th>datetime</th>\n",
       "      <th>geometry</th>\n",
       "      <th>index_right</th>\n",
       "      <th>tile_ID</th>\n",
       "    </tr>\n",
       "  </thead>\n",
       "  <tbody>\n",
       "    <tr>\n",
       "      <th>0</th>\n",
       "      <td>000070ec83acc05efcd9216ef9cf8725e2bbd41c7a9d2c...</td>\n",
       "      <td>29.137871</td>\n",
       "      <td>-95.063447</td>\n",
       "      <td>2017-07-02 04:11:10</td>\n",
       "      <td>POINT (29.13787 -95.06345)</td>\n",
       "      <td>NaN</td>\n",
       "      <td>NaN</td>\n",
       "    </tr>\n",
       "    <tr>\n",
       "      <th>1</th>\n",
       "      <td>00009827ea7c3bd4007e921ac8816407955a54deb76482...</td>\n",
       "      <td>29.787984</td>\n",
       "      <td>-95.592063</td>\n",
       "      <td>2017-07-02 06:28:41</td>\n",
       "      <td>POINT (29.78798 -95.59206)</td>\n",
       "      <td>NaN</td>\n",
       "      <td>NaN</td>\n",
       "    </tr>\n",
       "    <tr>\n",
       "      <th>2</th>\n",
       "      <td>00009827ea7c3bd4007e921ac8816407955a54deb76482...</td>\n",
       "      <td>29.788166</td>\n",
       "      <td>-95.592103</td>\n",
       "      <td>2017-07-02 12:34:14</td>\n",
       "      <td>POINT (29.78817 -95.59210)</td>\n",
       "      <td>NaN</td>\n",
       "      <td>NaN</td>\n",
       "    </tr>\n",
       "    <tr>\n",
       "      <th>3</th>\n",
       "      <td>0000bd2c0530443b29fee5a4a9adc2fcc5afc891821320...</td>\n",
       "      <td>30.058383</td>\n",
       "      <td>-95.390059</td>\n",
       "      <td>2017-07-02 10:36:48</td>\n",
       "      <td>POINT (30.05838 -95.39006)</td>\n",
       "      <td>NaN</td>\n",
       "      <td>NaN</td>\n",
       "    </tr>\n",
       "    <tr>\n",
       "      <th>4</th>\n",
       "      <td>0000bd2c0530443b29fee5a4a9adc2fcc5afc891821320...</td>\n",
       "      <td>30.065311</td>\n",
       "      <td>-95.430054</td>\n",
       "      <td>2017-07-02 11:56:01</td>\n",
       "      <td>POINT (30.06531 -95.43005)</td>\n",
       "      <td>NaN</td>\n",
       "      <td>NaN</td>\n",
       "    </tr>\n",
       "    <tr>\n",
       "      <th>...</th>\n",
       "      <td>...</td>\n",
       "      <td>...</td>\n",
       "      <td>...</td>\n",
       "      <td>...</td>\n",
       "      <td>...</td>\n",
       "      <td>...</td>\n",
       "      <td>...</td>\n",
       "    </tr>\n",
       "    <tr>\n",
       "      <th>9995</th>\n",
       "      <td>021c7c985e7b3627b7b5ef683d12d082655cb35fcb8546...</td>\n",
       "      <td>29.636211</td>\n",
       "      <td>-95.805768</td>\n",
       "      <td>2017-07-02 06:20:07</td>\n",
       "      <td>POINT (29.63621 -95.80577)</td>\n",
       "      <td>NaN</td>\n",
       "      <td>NaN</td>\n",
       "    </tr>\n",
       "    <tr>\n",
       "      <th>9996</th>\n",
       "      <td>021c7c985e7b3627b7b5ef683d12d082655cb35fcb8546...</td>\n",
       "      <td>29.671327</td>\n",
       "      <td>-95.749123</td>\n",
       "      <td>2017-07-02 09:35:10</td>\n",
       "      <td>POINT (29.67133 -95.74912)</td>\n",
       "      <td>NaN</td>\n",
       "      <td>NaN</td>\n",
       "    </tr>\n",
       "    <tr>\n",
       "      <th>9997</th>\n",
       "      <td>021c7c985e7b3627b7b5ef683d12d082655cb35fcb8546...</td>\n",
       "      <td>29.636183</td>\n",
       "      <td>-95.805904</td>\n",
       "      <td>2017-07-02 11:36:31</td>\n",
       "      <td>POINT (29.63618 -95.80590)</td>\n",
       "      <td>NaN</td>\n",
       "      <td>NaN</td>\n",
       "    </tr>\n",
       "    <tr>\n",
       "      <th>9998</th>\n",
       "      <td>021c7c985e7b3627b7b5ef683d12d082655cb35fcb8546...</td>\n",
       "      <td>29.636202</td>\n",
       "      <td>-95.804921</td>\n",
       "      <td>2017-07-02 18:00:03</td>\n",
       "      <td>POINT (29.63620 -95.80492)</td>\n",
       "      <td>NaN</td>\n",
       "      <td>NaN</td>\n",
       "    </tr>\n",
       "    <tr>\n",
       "      <th>9999</th>\n",
       "      <td>021cad29d4e8aa5c255d7f049efaa2f99641373fff8cc6...</td>\n",
       "      <td>29.737705</td>\n",
       "      <td>-95.463805</td>\n",
       "      <td>2017-07-02 01:11:38</td>\n",
       "      <td>POINT (29.73770 -95.46381)</td>\n",
       "      <td>NaN</td>\n",
       "      <td>NaN</td>\n",
       "    </tr>\n",
       "  </tbody>\n",
       "</table>\n",
       "<p>10000 rows × 7 columns</p>\n",
       "</div>"
      ],
      "text/plain": [
       "                                                    uid        lat        lng  \\\n",
       "0     000070ec83acc05efcd9216ef9cf8725e2bbd41c7a9d2c...  29.137871 -95.063447   \n",
       "1     00009827ea7c3bd4007e921ac8816407955a54deb76482...  29.787984 -95.592063   \n",
       "2     00009827ea7c3bd4007e921ac8816407955a54deb76482...  29.788166 -95.592103   \n",
       "3     0000bd2c0530443b29fee5a4a9adc2fcc5afc891821320...  30.058383 -95.390059   \n",
       "4     0000bd2c0530443b29fee5a4a9adc2fcc5afc891821320...  30.065311 -95.430054   \n",
       "...                                                 ...        ...        ...   \n",
       "9995  021c7c985e7b3627b7b5ef683d12d082655cb35fcb8546...  29.636211 -95.805768   \n",
       "9996  021c7c985e7b3627b7b5ef683d12d082655cb35fcb8546...  29.671327 -95.749123   \n",
       "9997  021c7c985e7b3627b7b5ef683d12d082655cb35fcb8546...  29.636183 -95.805904   \n",
       "9998  021c7c985e7b3627b7b5ef683d12d082655cb35fcb8546...  29.636202 -95.804921   \n",
       "9999  021cad29d4e8aa5c255d7f049efaa2f99641373fff8cc6...  29.737705 -95.463805   \n",
       "\n",
       "                datetime                    geometry  index_right tile_ID  \n",
       "0    2017-07-02 04:11:10  POINT (29.13787 -95.06345)          NaN     NaN  \n",
       "1    2017-07-02 06:28:41  POINT (29.78798 -95.59206)          NaN     NaN  \n",
       "2    2017-07-02 12:34:14  POINT (29.78817 -95.59210)          NaN     NaN  \n",
       "3    2017-07-02 10:36:48  POINT (30.05838 -95.39006)          NaN     NaN  \n",
       "4    2017-07-02 11:56:01  POINT (30.06531 -95.43005)          NaN     NaN  \n",
       "...                  ...                         ...          ...     ...  \n",
       "9995 2017-07-02 06:20:07  POINT (29.63621 -95.80577)          NaN     NaN  \n",
       "9996 2017-07-02 09:35:10  POINT (29.67133 -95.74912)          NaN     NaN  \n",
       "9997 2017-07-02 11:36:31  POINT (29.63618 -95.80590)          NaN     NaN  \n",
       "9998 2017-07-02 18:00:03  POINT (29.63620 -95.80492)          NaN     NaN  \n",
       "9999 2017-07-02 01:11:38  POINT (29.73770 -95.46381)          NaN     NaN  \n",
       "\n",
       "[10000 rows x 7 columns]"
      ]
     },
     "execution_count": 51,
     "metadata": {},
     "output_type": "execute_result"
    }
   ],
   "source": [
    "test"
   ]
  },
  {
   "cell_type": "code",
   "execution_count": 28,
   "metadata": {},
   "outputs": [
    {
     "name": "stderr",
     "output_type": "stream",
     "text": [
      "/home/caden/anaconda3/envs/ai/lib/python3.11/site-packages/skmob/core/trajectorydataframe.py:241: SettingWithCopyWarning: \n",
      "A value is trying to be set on a copy of a slice from a DataFrame\n",
      "\n",
      "See the caveats in the documentation: https://pandas.pydata.org/pandas-docs/stable/user_guide/indexing.html#returning-a-view-versus-a-copy\n",
      "  self.sort_values(by=self.__operate_on(), ascending=True, inplace=True)\n",
      "/home/caden/anaconda3/envs/ai/lib/python3.11/site-packages/pyproj/crs/crs.py:141: FutureWarning: '+init=<authority>:<code>' syntax is deprecated. '<authority>:<code>' is the preferred initialization method. When making the change, be mindful of axis order changes: https://pyproj4.github.io/pyproj/stable/gotchas.html#axis-order-changes-in-proj-6\n",
      "  in_crs_string = _prepare_from_proj_string(in_crs_string)\n",
      "/tmp/ipykernel_2753/3325290520.py:1: FutureWarning: The `op` parameter is deprecated and will be removed in a future release. Please use the `predicate` parameter instead.\n",
      "  fdf = tdf_test.to_flowdataframe(tessellation=tessellation_test, self_loops=True)\n",
      "/home/caden/anaconda3/envs/ai/lib/python3.11/site-packages/skmob/core/trajectorydataframe.py:322: UserWarning: CRS mismatch between the CRS of left geometries and the CRS of right geometries.\n",
      "Use `to_crs()` to reproject one of the input geometries to match the CRS of the other.\n",
      "\n",
      "Left CRS: +init=epsg:4326 +type=crs\n",
      "Right CRS: EPSG:4326\n",
      "\n",
      "  tile_ids = gpd.sjoin(gdf, tessellation, how=how, op='within')[[constants.TILE_ID]]\n"
     ]
    }
   ],
   "source": [
    "fdf = tdf_test.to_flowdataframe(tessellation=tessellation_test, self_loops=True)"
   ]
  },
  {
   "cell_type": "code",
   "execution_count": 6,
   "metadata": {},
   "outputs": [
    {
     "name": "stdout",
     "output_type": "stream",
     "text": [
      "(4152, 12)\n",
      "(4143, 12)\n"
     ]
    }
   ],
   "source": [
    "bg_shapes = pd.read_csv('../../data/processed/bg_shapefile.csv')\n",
    "bg_shapes = gpd.GeoDataFrame(bg_shapes, geometry=bg_shapes['geometry'].apply(wkt.loads))\n",
    "\n",
    "print(bg_shapes.shape)\n",
    "bg_shapes = bg_shapes.drop(bg_shapes[bg_shapes['geometry'].apply(lambda geom: isinstance(geom, MultiPolygon))].index)\n",
    "print(bg_shapes.shape)"
   ]
  },
  {
   "cell_type": "code",
   "execution_count": 23,
   "metadata": {},
   "outputs": [
    {
     "name": "stdout",
     "output_type": "stream",
     "text": [
      "(4152, 12)\n",
      "(4143, 12)\n"
     ]
    },
    {
     "data": {
      "text/html": [
       "<div>\n",
       "<style scoped>\n",
       "    .dataframe tbody tr th:only-of-type {\n",
       "        vertical-align: middle;\n",
       "    }\n",
       "\n",
       "    .dataframe tbody tr th {\n",
       "        vertical-align: top;\n",
       "    }\n",
       "\n",
       "    .dataframe thead th {\n",
       "        text-align: right;\n",
       "    }\n",
       "</style>\n",
       "<table border=\"1\" class=\"dataframe\">\n",
       "  <thead>\n",
       "    <tr style=\"text-align: right;\">\n",
       "      <th></th>\n",
       "      <th>tile_ID</th>\n",
       "      <th>geometry</th>\n",
       "    </tr>\n",
       "  </thead>\n",
       "  <tbody>\n",
       "    <tr>\n",
       "      <th>0</th>\n",
       "      <td>0</td>\n",
       "      <td>POLYGON ((-95.56428 30.18810, -95.56368 30.192...</td>\n",
       "    </tr>\n",
       "    <tr>\n",
       "      <th>1</th>\n",
       "      <td>1</td>\n",
       "      <td>POLYGON ((-95.48293 30.28567, -95.48143 30.288...</td>\n",
       "    </tr>\n",
       "    <tr>\n",
       "      <th>2</th>\n",
       "      <td>2</td>\n",
       "      <td>POLYGON ((-95.51639 30.17621, -95.51416 30.178...</td>\n",
       "    </tr>\n",
       "    <tr>\n",
       "      <th>3</th>\n",
       "      <td>3</td>\n",
       "      <td>POLYGON ((-95.45590 30.29504, -95.45300 30.295...</td>\n",
       "    </tr>\n",
       "    <tr>\n",
       "      <th>4</th>\n",
       "      <td>4</td>\n",
       "      <td>POLYGON ((-95.39666 30.10288, -95.39003 30.108...</td>\n",
       "    </tr>\n",
       "  </tbody>\n",
       "</table>\n",
       "</div>"
      ],
      "text/plain": [
       "   tile_ID                                           geometry\n",
       "0        0  POLYGON ((-95.56428 30.18810, -95.56368 30.192...\n",
       "1        1  POLYGON ((-95.48293 30.28567, -95.48143 30.288...\n",
       "2        2  POLYGON ((-95.51639 30.17621, -95.51416 30.178...\n",
       "3        3  POLYGON ((-95.45590 30.29504, -95.45300 30.295...\n",
       "4        4  POLYGON ((-95.39666 30.10288, -95.39003 30.108..."
      ]
     },
     "execution_count": 23,
     "metadata": {},
     "output_type": "execute_result"
    }
   ],
   "source": [
    "bg_shapes = pd.read_csv('../../data/processed/bg_shapefile.csv')\n",
    "bg_shapes = gpd.GeoDataFrame(bg_shapes, geometry=bg_shapes['geometry'].apply(wkt.loads))\n",
    "\n",
    "print(bg_shapes.shape)\n",
    "bg_shapes = bg_shapes.drop(bg_shapes[bg_shapes['geometry'].apply(lambda geom: isinstance(geom, MultiPolygon))].index)\n",
    "print(bg_shapes.shape)\n",
    "\n",
    "bg_shapes.reset_index(inplace=True, drop=True)\n",
    "bg_shapes.reset_index(inplace=True)\n",
    "\n",
    "bg_shapes.rename(columns={'index':'tile_ID'}, inplace=True)\n",
    "tessellation_columns = ['tile_ID', 'geometry']\n",
    "bg_tessellation = bg_shapes[tessellation_columns]\n",
    "\n",
    "\n",
    "bg_tessellation = bg_tessellation.set_crs('epsg:4326')\n",
    "bg_tessellation.head()"
   ]
  },
  {
   "cell_type": "code",
   "execution_count": 25,
   "metadata": {},
   "outputs": [
    {
     "name": "stderr",
     "output_type": "stream",
     "text": [
      "/home/caden/anaconda3/envs/ai/lib/python3.11/site-packages/skmob/core/trajectorydataframe.py:241: SettingWithCopyWarning: \n",
      "A value is trying to be set on a copy of a slice from a DataFrame\n",
      "\n",
      "See the caveats in the documentation: https://pandas.pydata.org/pandas-docs/stable/user_guide/indexing.html#returning-a-view-versus-a-copy\n",
      "  self.sort_values(by=self.__operate_on(), ascending=True, inplace=True)\n",
      "/home/caden/anaconda3/envs/ai/lib/python3.11/site-packages/pyproj/crs/crs.py:141: FutureWarning: '+init=<authority>:<code>' syntax is deprecated. '<authority>:<code>' is the preferred initialization method. When making the change, be mindful of axis order changes: https://pyproj4.github.io/pyproj/stable/gotchas.html#axis-order-changes-in-proj-6\n",
      "  in_crs_string = _prepare_from_proj_string(in_crs_string)\n",
      "/tmp/ipykernel_2753/3840619877.py:1: FutureWarning: The `op` parameter is deprecated and will be removed in a future release. Please use the `predicate` parameter instead.\n",
      "  fdf = tdf_test.to_flowdataframe(tessellation=bg_tessellation, self_loops=True)\n",
      "/home/caden/anaconda3/envs/ai/lib/python3.11/site-packages/skmob/core/trajectorydataframe.py:322: UserWarning: CRS mismatch between the CRS of left geometries and the CRS of right geometries.\n",
      "Use `to_crs()` to reproject one of the input geometries to match the CRS of the other.\n",
      "\n",
      "Left CRS: +init=epsg:4326 +type=crs\n",
      "Right CRS: EPSG:4326\n",
      "\n",
      "  tile_ids = gpd.sjoin(gdf, tessellation, how=how, op='within')[[constants.TILE_ID]]\n"
     ]
    },
    {
     "ename": "ValueError",
     "evalue": "Inconsistency - origin and destination IDs must be present in the tessellation.",
     "output_type": "error",
     "traceback": [
      "\u001b[0;31m---------------------------------------------------------------------------\u001b[0m",
      "\u001b[0;31mValueError\u001b[0m                                Traceback (most recent call last)",
      "Cell \u001b[0;32mIn[25], line 1\u001b[0m\n\u001b[0;32m----> 1\u001b[0m fdf \u001b[39m=\u001b[39m tdf_test\u001b[39m.\u001b[39;49mto_flowdataframe(tessellation\u001b[39m=\u001b[39;49mbg_tessellation, self_loops\u001b[39m=\u001b[39;49m\u001b[39mTrue\u001b[39;49;00m)\n",
      "File \u001b[0;32m~/anaconda3/envs/ai/lib/python3.11/site-packages/skmob/core/trajectorydataframe.py:258\u001b[0m, in \u001b[0;36mTrajDataFrame.to_flowdataframe\u001b[0;34m(self, tessellation, self_loops)\u001b[0m\n\u001b[1;32m    255\u001b[0m \u001b[39mif\u001b[39;00m \u001b[39mnot\u001b[39;00m self_loops:\n\u001b[1;32m    256\u001b[0m     flow \u001b[39m=\u001b[39m flow[flow[constants\u001b[39m.\u001b[39mORIGIN] \u001b[39m!=\u001b[39m flow[constants\u001b[39m.\u001b[39mDESTINATION]]\n\u001b[0;32m--> 258\u001b[0m \u001b[39mreturn\u001b[39;00m FlowDataFrame(flow, tessellation\u001b[39m=\u001b[39;49mtessellation)\n",
      "File \u001b[0;32m~/anaconda3/envs/ai/lib/python3.11/site-packages/skmob/core/flowdataframe.py:153\u001b[0m, in \u001b[0;36mFlowDataFrame.__init__\u001b[0;34m(self, data, origin, destination, flow, datetime, tile_id, timestamp, tessellation, parameters)\u001b[0m\n\u001b[1;32m    149\u001b[0m destination \u001b[39m=\u001b[39m \u001b[39mself\u001b[39m[constants\u001b[39m.\u001b[39mDESTINATION]\n\u001b[1;32m    151\u001b[0m \u001b[39mif\u001b[39;00m \u001b[39mnot\u001b[39;00m \u001b[39mall\u001b[39m(origin\u001b[39m.\u001b[39misin(\u001b[39mself\u001b[39m\u001b[39m.\u001b[39m_tessellation[constants\u001b[39m.\u001b[39mTILE_ID])) \u001b[39mor\u001b[39;00m \\\n\u001b[1;32m    152\u001b[0m         \u001b[39mnot\u001b[39;00m \u001b[39mall\u001b[39m(destination\u001b[39m.\u001b[39misin(\u001b[39mself\u001b[39m\u001b[39m.\u001b[39m_tessellation[constants\u001b[39m.\u001b[39mTILE_ID])):\n\u001b[0;32m--> 153\u001b[0m     \u001b[39mraise\u001b[39;00m \u001b[39mValueError\u001b[39;00m(\u001b[39m\"\u001b[39m\u001b[39mInconsistency - origin and destination IDs must be present in the tessellation.\u001b[39m\u001b[39m\"\u001b[39m)\n\u001b[1;32m    155\u001b[0m \u001b[39m# Cleaning the index to make sure it is incremental\u001b[39;00m\n\u001b[1;32m    156\u001b[0m \u001b[39mself\u001b[39m\u001b[39m.\u001b[39m_tessellation\u001b[39m.\u001b[39mreset_index(inplace\u001b[39m=\u001b[39m\u001b[39mTrue\u001b[39;00m, drop\u001b[39m=\u001b[39m\u001b[39mTrue\u001b[39;00m)\n",
      "\u001b[0;31mValueError\u001b[0m: Inconsistency - origin and destination IDs must be present in the tessellation."
     ]
    }
   ],
   "source": [
    "fdf = tdf_test.to_flowdataframe(tessellation=bg_tessellation, self_loops=True)"
   ]
  },
  {
   "cell_type": "code",
   "execution_count": null,
   "metadata": {},
   "outputs": [],
   "source": [
    "bg_tessellation.crs"
   ]
  },
  {
   "cell_type": "code",
   "execution_count": null,
   "metadata": {},
   "outputs": [],
   "source": [
    "fdf = tdf.to_flowdataframe(tessellation=bg_tessellation, self_loops=True)"
   ]
  }
 ],
 "metadata": {
  "kernelspec": {
   "display_name": "ai",
   "language": "python",
   "name": "python3"
  },
  "language_info": {
   "codemirror_mode": {
    "name": "ipython",
    "version": 3
   },
   "file_extension": ".py",
   "mimetype": "text/x-python",
   "name": "python",
   "nbconvert_exporter": "python",
   "pygments_lexer": "ipython3",
   "version": "3.11.0"
  },
  "orig_nbformat": 4
 },
 "nbformat": 4,
 "nbformat_minor": 2
}
