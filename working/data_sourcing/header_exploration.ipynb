{
 "cells": [
  {
   "cell_type": "code",
   "execution_count": 1,
   "metadata": {},
   "outputs": [],
   "source": [
    "import pandas as pd\n",
    "import json\n",
    "import geopandas\n",
    "import matplotlib.pyplot as plt"
   ]
  },
  {
   "cell_type": "code",
   "execution_count": 3,
   "metadata": {},
   "outputs": [
    {
     "data": {
      "text/plain": [
       "Index(['device_id', 'days_n', 'n', 'lon', 'lat', 'geometry', 'index_right',\n",
       "       'CSAFP', 'CBSAFP', 'AFFGEOID_1', 'GEOID_1', 'NAME_1', 'LSAD_1',\n",
       "       'ALAND_1', 'AWATER_1', 'STATEFP', 'COUNTYFP', 'TRACTCE', 'BLKGRPCE',\n",
       "       'AFFGEOID_2', 'GEOID_2', 'NAME_2', 'LSAD_2', 'ALAND_2', 'AWATER_2'],\n",
       "      dtype='object')"
      ]
     },
     "execution_count": 3,
     "metadata": {},
     "output_type": "execute_result"
    }
   ],
   "source": [
    "header_df = pd.read_csv('../../data/raw/home_cbg_at_least_5_nights_0701_0820.csv')\n",
    "header_df.columns"
   ]
  },
  {
   "cell_type": "code",
   "execution_count": 6,
   "metadata": {},
   "outputs": [
    {
     "data": {
      "text/html": [
       "<div>\n",
       "<style scoped>\n",
       "    .dataframe tbody tr th:only-of-type {\n",
       "        vertical-align: middle;\n",
       "    }\n",
       "\n",
       "    .dataframe tbody tr th {\n",
       "        vertical-align: top;\n",
       "    }\n",
       "\n",
       "    .dataframe thead th {\n",
       "        text-align: right;\n",
       "    }\n",
       "</style>\n",
       "<table border=\"1\" class=\"dataframe\">\n",
       "  <thead>\n",
       "    <tr style=\"text-align: right;\">\n",
       "      <th></th>\n",
       "      <th>device_id</th>\n",
       "      <th>lon</th>\n",
       "      <th>lat</th>\n",
       "      <th>STATEFP</th>\n",
       "      <th>COUNTYFP</th>\n",
       "      <th>TRACTCE</th>\n",
       "      <th>BLKGRPCE</th>\n",
       "      <th>GEOID_2</th>\n",
       "    </tr>\n",
       "  </thead>\n",
       "  <tbody>\n",
       "    <tr>\n",
       "      <th>0</th>\n",
       "      <td>00003478e4620de94b73136f76d2683d3451c1758493eb...</td>\n",
       "      <td>-95.578226</td>\n",
       "      <td>30.209056</td>\n",
       "      <td>48</td>\n",
       "      <td>339</td>\n",
       "      <td>690402</td>\n",
       "      <td>4</td>\n",
       "      <td>483396904024</td>\n",
       "    </tr>\n",
       "    <tr>\n",
       "      <th>1</th>\n",
       "      <td>000f0e2cce6bc47d2205eed7d9055bbf3a51fc6f688a5e...</td>\n",
       "      <td>-95.644478</td>\n",
       "      <td>30.209734</td>\n",
       "      <td>48</td>\n",
       "      <td>339</td>\n",
       "      <td>690402</td>\n",
       "      <td>4</td>\n",
       "      <td>483396904024</td>\n",
       "    </tr>\n",
       "    <tr>\n",
       "      <th>2</th>\n",
       "      <td>013bf5eb811209f74c66a2e56b39e88ed55868981b16ce...</td>\n",
       "      <td>-95.634361</td>\n",
       "      <td>30.210126</td>\n",
       "      <td>48</td>\n",
       "      <td>339</td>\n",
       "      <td>690402</td>\n",
       "      <td>4</td>\n",
       "      <td>483396904024</td>\n",
       "    </tr>\n",
       "    <tr>\n",
       "      <th>3</th>\n",
       "      <td>018187f1e65f38dee845d95b0a9bdd780a5dea6c5c7336...</td>\n",
       "      <td>-95.571939</td>\n",
       "      <td>30.214197</td>\n",
       "      <td>48</td>\n",
       "      <td>339</td>\n",
       "      <td>690402</td>\n",
       "      <td>4</td>\n",
       "      <td>483396904024</td>\n",
       "    </tr>\n",
       "    <tr>\n",
       "      <th>4</th>\n",
       "      <td>01c96ef72e4c219d07eeeff32c728aedd5cbf0443e72b0...</td>\n",
       "      <td>-95.662512</td>\n",
       "      <td>30.218735</td>\n",
       "      <td>48</td>\n",
       "      <td>339</td>\n",
       "      <td>690402</td>\n",
       "      <td>4</td>\n",
       "      <td>483396904024</td>\n",
       "    </tr>\n",
       "  </tbody>\n",
       "</table>\n",
       "</div>"
      ],
      "text/plain": [
       "                                           device_id        lon        lat  \\\n",
       "0  00003478e4620de94b73136f76d2683d3451c1758493eb... -95.578226  30.209056   \n",
       "1  000f0e2cce6bc47d2205eed7d9055bbf3a51fc6f688a5e... -95.644478  30.209734   \n",
       "2  013bf5eb811209f74c66a2e56b39e88ed55868981b16ce... -95.634361  30.210126   \n",
       "3  018187f1e65f38dee845d95b0a9bdd780a5dea6c5c7336... -95.571939  30.214197   \n",
       "4  01c96ef72e4c219d07eeeff32c728aedd5cbf0443e72b0... -95.662512  30.218735   \n",
       "\n",
       "   STATEFP  COUNTYFP  TRACTCE  BLKGRPCE       GEOID_2  \n",
       "0       48       339   690402         4  483396904024  \n",
       "1       48       339   690402         4  483396904024  \n",
       "2       48       339   690402         4  483396904024  \n",
       "3       48       339   690402         4  483396904024  \n",
       "4       48       339   690402         4  483396904024  "
      ]
     },
     "execution_count": 6,
     "metadata": {},
     "output_type": "execute_result"
    }
   ],
   "source": [
    "selected_col = ['device_id', 'lon', 'lat', 'STATEFP', 'COUNTYFP', 'TRACTCE', 'BLKGRPCE', 'GEOID_2']\n",
    "header = header_df[selected_col]\n",
    "header.head()"
   ]
  },
  {
   "cell_type": "code",
   "execution_count": 9,
   "metadata": {},
   "outputs": [],
   "source": [
    "header.to_csv('../../data/intermediate/header_data.csv', index=False)"
   ]
  }
 ],
 "metadata": {
  "kernelspec": {
   "display_name": "ai",
   "language": "python",
   "name": "python3"
  },
  "language_info": {
   "codemirror_mode": {
    "name": "ipython",
    "version": 3
   },
   "file_extension": ".py",
   "mimetype": "text/x-python",
   "name": "python",
   "nbconvert_exporter": "python",
   "pygments_lexer": "ipython3",
   "version": "3.11.0"
  },
  "orig_nbformat": 4
 },
 "nbformat": 4,
 "nbformat_minor": 2
}
