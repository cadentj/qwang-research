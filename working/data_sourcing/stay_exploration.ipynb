{
 "cells": [
  {
   "cell_type": "code",
   "execution_count": 1,
   "metadata": {},
   "outputs": [],
   "source": [
    "import pandas as pd"
   ]
  },
  {
   "cell_type": "code",
   "execution_count": 37,
   "metadata": {},
   "outputs": [],
   "source": [
    "headers = ['userid', 'timecome','date','lat','long','count','timeleave','duration']\n",
    "stay_07 = pd.read_csv('../../data/raw/stay_points_07/2017-07-02.txt', names=headers)"
   ]
  },
  {
   "cell_type": "code",
   "execution_count": 4,
   "metadata": {},
   "outputs": [],
   "source": [
    "stay_07['lat'] = stay_07['lat'].apply(lambda x: round(x, 3))\n",
    "stay_07['long'] = stay_07['long'].apply(lambda x: round(x, 3))\n"
   ]
  },
  {
   "cell_type": "code",
   "execution_count": 5,
   "metadata": {},
   "outputs": [],
   "source": [
    "combined_stay_07 = stay_07.groupby(['userid', 'lat', 'long']).agg({'duration': 'sum', 'count': 'sum'}).reset_index()\n",
    "\n",
    "# Drop stay points with duration less than 10\n",
    "combined_stay_07 = combined_stay_07[combined_stay_07['duration'] >= 10]"
   ]
  },
  {
   "cell_type": "code",
   "execution_count": null,
   "metadata": {},
   "outputs": [],
   "source": [
    "combined_stay_07.to_csv('../../data/processed/combined_stay_07.csv', index=False)"
   ]
  }
 ],
 "metadata": {
  "kernelspec": {
   "display_name": "ai",
   "language": "python",
   "name": "python3"
  },
  "language_info": {
   "codemirror_mode": {
    "name": "ipython",
    "version": 3
   },
   "file_extension": ".py",
   "mimetype": "text/x-python",
   "name": "python",
   "nbconvert_exporter": "python",
   "pygments_lexer": "ipython3",
   "version": "3.11.0"
  },
  "orig_nbformat": 4
 },
 "nbformat": 4,
 "nbformat_minor": 2
}
