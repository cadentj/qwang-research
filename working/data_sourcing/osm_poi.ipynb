{
 "cells": [
  {
   "cell_type": "code",
   "execution_count": 1,
   "metadata": {},
   "outputs": [],
   "source": [
    "import osmnx as ox\n",
    "import pandas as pd"
   ]
  },
  {
   "cell_type": "code",
   "execution_count": 3,
   "metadata": {},
   "outputs": [],
   "source": [
    "PLACE_NAME = \"Houston, Texas, United States\"\n",
    "houston_geo = ox.features_from_address(PLACE_NAME, tags={'amenity':True, \n",
    "                                                      'office':True,\n",
    "                                                      'shop':True,\n",
    "                                                      'leisure':True,\n",
    "                                                      })\n",
    "\n",
    "# Some areas have no office buildings"
   ]
  },
  {
   "cell_type": "code",
   "execution_count": 7,
   "metadata": {},
   "outputs": [],
   "source": [
    "selected_amenities = ['school', 'place_of_worship', 'courthouse', 'police', \n",
    "       'restaurant', 'theatre', 'cinema',\n",
    "       'pub', 'shelter', 'bar',\n",
    "       'fast_food', 'cafe',\n",
    "       'nightclub', 'fountain', 'library',\n",
    "       'clinic', 'post_office', 'food_court',\n",
    "        'pharmacy', 'bank', \n",
    "       'car_rental',  'prison', 'university',\n",
    "       'townhall', 'bus_station', 'fire_station',\n",
    "        'community_centre']"
   ]
  },
  {
   "cell_type": "code",
   "execution_count": 10,
   "metadata": {},
   "outputs": [],
   "source": [
    "selected_shops = ['supermarket', 'beauty',\n",
    "       'mobile_phone', 'sports', 'gift', 'convenience',\n",
    "       'appliance', 'copyshop', 'optician', 'deli',\n",
    "       'mall', 'books', 'rental', 'car_repair', 'bakery', 'trade', 'car']"
   ]
  },
  {
   "cell_type": "code",
   "execution_count": 13,
   "metadata": {},
   "outputs": [],
   "source": [
    "selected_leisure = ['slipway', 'pitch', 'dog_park',\n",
    "       'bowling_alley', 'stadium', 'park', 'garden', 'playground',\n",
    "       'ice_rink', 'golf_course', 'sports_centre', 'swimming_pool',]"
   ]
  },
  {
   "cell_type": "code",
   "execution_count": 34,
   "metadata": {},
   "outputs": [],
   "source": [
    "selected_office = ['government', 'lawyer', 'therapist', 'company', 'it',\n",
    "       'association', 'advertising_agency', 'estate_agent',\n",
    "       'financial_advisor']"
   ]
  },
  {
   "cell_type": "code",
   "execution_count": 35,
   "metadata": {},
   "outputs": [
    {
     "name": "stderr",
     "output_type": "stream",
     "text": [
      "/home/caden/anaconda3/envs/ai/lib/python3.11/site-packages/geopandas/geodataframe.py:1538: SettingWithCopyWarning: \n",
      "A value is trying to be set on a copy of a slice from a DataFrame.\n",
      "Try using .loc[row_indexer,col_indexer] = value instead\n",
      "\n",
      "See the caveats in the documentation: https://pandas.pydata.org/pandas-docs/stable/user_guide/indexing.html#returning-a-view-versus-a-copy\n",
      "  super().__setitem__(key, value)\n",
      "/home/caden/anaconda3/envs/ai/lib/python3.11/site-packages/geopandas/geodataframe.py:1538: SettingWithCopyWarning: \n",
      "A value is trying to be set on a copy of a slice from a DataFrame.\n",
      "Try using .loc[row_indexer,col_indexer] = value instead\n",
      "\n",
      "See the caveats in the documentation: https://pandas.pydata.org/pandas-docs/stable/user_guide/indexing.html#returning-a-view-versus-a-copy\n",
      "  super().__setitem__(key, value)\n",
      "/home/caden/anaconda3/envs/ai/lib/python3.11/site-packages/geopandas/geodataframe.py:1538: SettingWithCopyWarning: \n",
      "A value is trying to be set on a copy of a slice from a DataFrame.\n",
      "Try using .loc[row_indexer,col_indexer] = value instead\n",
      "\n",
      "See the caveats in the documentation: https://pandas.pydata.org/pandas-docs/stable/user_guide/indexing.html#returning-a-view-versus-a-copy\n",
      "  super().__setitem__(key, value)\n",
      "/home/caden/anaconda3/envs/ai/lib/python3.11/site-packages/geopandas/geodataframe.py:1538: SettingWithCopyWarning: \n",
      "A value is trying to be set on a copy of a slice from a DataFrame.\n",
      "Try using .loc[row_indexer,col_indexer] = value instead\n",
      "\n",
      "See the caveats in the documentation: https://pandas.pydata.org/pandas-docs/stable/user_guide/indexing.html#returning-a-view-versus-a-copy\n",
      "  super().__setitem__(key, value)\n"
     ]
    }
   ],
   "source": [
    "# Dropping buffalo bayou because it's size will probably absorb a bunch of nodes\n",
    "houston_geo = houston_geo.loc[houston_geo['name'] != 'Buffalo Bayou Park']\n",
    "\n",
    "houston_amenity = houston_geo.loc[houston_geo['amenity'].isin(selected_amenities)]\n",
    "houston_shop = houston_geo.loc[houston_geo['shop'].isin(selected_shops)]\n",
    "houston_leisure = houston_geo.loc[houston_geo['leisure'].isin(selected_leisure)]\n",
    "houston_office = houston_geo.loc[houston_geo['office'].isin(selected_office)]\n",
    "\n",
    "houston_amenity['category'] = houston_amenity['amenity']\n",
    "houston_shop['category'] = houston_shop['shop']\n",
    "houston_leisure['category'] = houston_leisure['leisure']\n",
    "houston_office['category'] = houston_office['office']\n",
    "\n",
    "houston_combined = pd.concat([houston_amenity, houston_shop, houston_leisure, houston_office])"
   ]
  },
  {
   "cell_type": "code",
   "execution_count": 42,
   "metadata": {},
   "outputs": [],
   "source": [
    "houston_combined = houston_combined[['name', 'geometry', 'category']]\n",
    "hou_poi = houston_combined.reset_index(drop=True)"
   ]
  },
  {
   "cell_type": "code",
   "execution_count": 47,
   "metadata": {},
   "outputs": [
    {
     "name": "stderr",
     "output_type": "stream",
     "text": [
      "/tmp/ipykernel_31154/2637257832.py:2: UserWarning: Geometry is in a geographic CRS. Results from 'centroid' are likely incorrect. Use 'GeoSeries.to_crs()' to re-project geometries to a projected CRS before this operation.\n",
      "\n",
      "  hou_poi['lon'] = hou_poi.centroid.x\n",
      "/tmp/ipykernel_31154/2637257832.py:3: UserWarning: Geometry is in a geographic CRS. Results from 'centroid' are likely incorrect. Use 'GeoSeries.to_crs()' to re-project geometries to a projected CRS before this operation.\n",
      "\n",
      "  hou_poi['lat'] = hou_poi.centroid.y\n"
     ]
    }
   ],
   "source": [
    "hou_poi = hou_poi.to_crs(epsg=4326)\n",
    "hou_poi['lon'] = hou_poi.centroid.x\n",
    "hou_poi['lat'] = hou_poi.centroid.y"
   ]
  },
  {
   "cell_type": "code",
   "execution_count": 49,
   "metadata": {},
   "outputs": [],
   "source": [
    "hou_poi.to_csv('./houston_poi.csv')"
   ]
  }
 ],
 "metadata": {
  "kernelspec": {
   "display_name": "ai",
   "language": "python",
   "name": "python3"
  },
  "language_info": {
   "codemirror_mode": {
    "name": "ipython",
    "version": 3
   },
   "file_extension": ".py",
   "mimetype": "text/x-python",
   "name": "python",
   "nbconvert_exporter": "python",
   "pygments_lexer": "ipython3",
   "version": "3.11.0"
  },
  "orig_nbformat": 4
 },
 "nbformat": 4,
 "nbformat_minor": 2
}
