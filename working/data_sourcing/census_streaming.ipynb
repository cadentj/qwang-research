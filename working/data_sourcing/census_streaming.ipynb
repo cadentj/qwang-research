{
 "cells": [
  {
   "cell_type": "code",
   "execution_count": 1,
   "metadata": {},
   "outputs": [],
   "source": [
    "import pandas as pd\n",
    "import numpy as np\n",
    "\n",
    "import requests\n",
    "import json\n",
    "\n",
    "import sys\n",
    "sys.path.insert(0,'/home/caden/Programming/info')\n",
    "from Keys import Keys"
   ]
  },
  {
   "cell_type": "code",
   "execution_count": 27,
   "metadata": {},
   "outputs": [
    {
     "data": {
      "text/plain": [
       "Index(['device_id', 'lon', 'lat', 'STATEFP', 'COUNTYFP', 'TRACTCE',\n",
       "       'BLKGRPCE'],\n",
       "      dtype='object')"
      ]
     },
     "execution_count": 27,
     "metadata": {},
     "output_type": "execute_result"
    }
   ],
   "source": [
    "header_df = pd.read_csv('../../data/header.csv')\n",
    "header_df.columns"
   ]
  },
  {
   "cell_type": "code",
   "execution_count": 29,
   "metadata": {},
   "outputs": [
    {
     "data": {
      "text/plain": [
       "['339', '201', '15', '167', '157', '71', '39', '291', '473']"
      ]
     },
     "execution_count": 29,
     "metadata": {},
     "output_type": "execute_result"
    }
   ],
   "source": [
    "[str(county) for county in header_df.COUNTYFP.unique()]"
   ]
  },
  {
   "cell_type": "code",
   "execution_count": 109,
   "metadata": {},
   "outputs": [],
   "source": [
    "host = 'https://api.census.gov/data'\n",
    "years = ['2019','2020','2021']\n",
    "dataset_acronym = 'acs/acs5'\n",
    "api_key = str(Keys.CensusAPI())\n",
    "\n",
    "# B19083_001E - Gini Index (removed bc probably too colinear w per capita income)\n",
    "# B19301_001E - Per Capita Income\n",
    "# B19013_001E - Median Household Income\n",
    "\n",
    "var_list = \"NAME\"\n",
    "income = ['B19013_001E', 'B19301_001E']\n",
    "race = [f'B02001_00{i}E' for i in range(1,8)]\n",
    "age = 'B01002_001E'\n",
    "\n",
    "var_list = [var_list,age] + income + race\n",
    "var_list = ','.join(var_list)\n",
    "\n",
    "state = '48'\n",
    "counties = [str(county) for county in header_df.COUNTYFP.unique()]"
   ]
  },
  {
   "cell_type": "code",
   "execution_count": 61,
   "metadata": {},
   "outputs": [
    {
     "data": {
      "text/plain": [
       "'NAME,B01002_001E,B19013_001E,B19301_001E,B02001_001E,B02001_002E,B02001_003E,B02001_004E,B02001_005E,B02001_006E,B02001_007E'"
      ]
     },
     "execution_count": 61,
     "metadata": {},
     "output_type": "execute_result"
    }
   ],
   "source": [
    "var_list"
   ]
  },
  {
   "cell_type": "code",
   "execution_count": 116,
   "metadata": {},
   "outputs": [
    {
     "data": {
      "text/plain": [
       "['339', '201', '015', '167', '157', '071', '039', '291', '473']"
      ]
     },
     "execution_count": 116,
     "metadata": {},
     "output_type": "execute_result"
    }
   ],
   "source": [
    "county_strings = []\n",
    "\n",
    "for county in counties:\n",
    "    l = 3 - len(county)\n",
    "    county = (l * '0') + county\n",
    "    county_strings.append(county)\n",
    "\n",
    "data = []\n",
    "county_strings"
   ]
  },
  {
   "cell_type": "code",
   "execution_count": 117,
   "metadata": {},
   "outputs": [
    {
     "name": "stdout",
     "output_type": "stream",
     "text": [
      "2019 48 339\n",
      "2019 48 201\n",
      "2019 48 015\n",
      "2019 48 167\n",
      "2019 48 157\n",
      "2019 48 071\n",
      "2019 48 039\n",
      "2019 48 291\n",
      "2019 48 473\n",
      "2020 48 339\n",
      "2020 48 201\n",
      "2020 48 015\n",
      "2020 48 167\n",
      "2020 48 157\n",
      "2020 48 071\n",
      "2020 48 039\n",
      "2020 48 291\n",
      "2020 48 473\n",
      "2021 48 339\n",
      "2021 48 201\n",
      "2021 48 015\n",
      "2021 48 167\n",
      "2021 48 157\n",
      "2021 48 071\n",
      "2021 48 039\n",
      "2021 48 291\n",
      "2021 48 473\n"
     ]
    }
   ],
   "source": [
    "for year in years: \n",
    "    for county in county_strings:\n",
    "        print(year, state, county)\n",
    "        query_url = f'https://api.census.gov/data/{year}/acs/acs5?get={var_list}&for=block+group:*&in=state:48%20county:{county}%20tract:*&key={api_key}'\n",
    "        response = requests.get(query_url)\n",
    "        data.append((response, year))"
   ]
  },
  {
   "cell_type": "code",
   "execution_count": 84,
   "metadata": {},
   "outputs": [],
   "source": [
    "# # Pickling data \n",
    "# pd.to_pickle(data, 'mobility_census_data.pkl')"
   ]
  },
  {
   "cell_type": "code",
   "execution_count": 120,
   "metadata": {},
   "outputs": [],
   "source": [
    "frame_array = []\n",
    "for county,year in data:\n",
    "    j = county.json()\n",
    "    frame = pd.DataFrame(j[1:], columns=j[0])\n",
    "    frame['year'] = year\n",
    "    frame_array.append(frame)\n",
    "\n",
    "df = pd.concat(frame_array)"
   ]
  },
  {
   "cell_type": "code",
   "execution_count": 121,
   "metadata": {},
   "outputs": [
    {
     "data": {
      "text/html": [
       "<div>\n",
       "<style scoped>\n",
       "    .dataframe tbody tr th:only-of-type {\n",
       "        vertical-align: middle;\n",
       "    }\n",
       "\n",
       "    .dataframe tbody tr th {\n",
       "        vertical-align: top;\n",
       "    }\n",
       "\n",
       "    .dataframe thead th {\n",
       "        text-align: right;\n",
       "    }\n",
       "</style>\n",
       "<table border=\"1\" class=\"dataframe\">\n",
       "  <thead>\n",
       "    <tr style=\"text-align: right;\">\n",
       "      <th></th>\n",
       "      <th>NAME</th>\n",
       "      <th>B01002_001E</th>\n",
       "      <th>B19013_001E</th>\n",
       "      <th>B19301_001E</th>\n",
       "      <th>B02001_001E</th>\n",
       "      <th>B02001_002E</th>\n",
       "      <th>B02001_003E</th>\n",
       "      <th>B02001_004E</th>\n",
       "      <th>B02001_005E</th>\n",
       "      <th>B02001_006E</th>\n",
       "      <th>B02001_007E</th>\n",
       "      <th>state</th>\n",
       "      <th>county</th>\n",
       "      <th>tract</th>\n",
       "      <th>block group</th>\n",
       "      <th>year</th>\n",
       "    </tr>\n",
       "  </thead>\n",
       "  <tbody>\n",
       "    <tr>\n",
       "      <th>0</th>\n",
       "      <td>Block Group 1, Census Tract 6919, Montgomery C...</td>\n",
       "      <td>36.0</td>\n",
       "      <td>105100</td>\n",
       "      <td>40952</td>\n",
       "      <td>2657</td>\n",
       "      <td>2530</td>\n",
       "      <td>85</td>\n",
       "      <td>0</td>\n",
       "      <td>9</td>\n",
       "      <td>0</td>\n",
       "      <td>0</td>\n",
       "      <td>48</td>\n",
       "      <td>339</td>\n",
       "      <td>691900</td>\n",
       "      <td>1</td>\n",
       "      <td>2019</td>\n",
       "    </tr>\n",
       "    <tr>\n",
       "      <th>1</th>\n",
       "      <td>Block Group 3, Census Tract 6933, Montgomery C...</td>\n",
       "      <td>31.1</td>\n",
       "      <td>54517</td>\n",
       "      <td>34372</td>\n",
       "      <td>3425</td>\n",
       "      <td>3023</td>\n",
       "      <td>220</td>\n",
       "      <td>0</td>\n",
       "      <td>160</td>\n",
       "      <td>0</td>\n",
       "      <td>0</td>\n",
       "      <td>48</td>\n",
       "      <td>339</td>\n",
       "      <td>693300</td>\n",
       "      <td>3</td>\n",
       "      <td>2019</td>\n",
       "    </tr>\n",
       "    <tr>\n",
       "      <th>2</th>\n",
       "      <td>Block Group 1, Census Tract 6933, Montgomery C...</td>\n",
       "      <td>27.6</td>\n",
       "      <td>32863</td>\n",
       "      <td>24291</td>\n",
       "      <td>1619</td>\n",
       "      <td>1409</td>\n",
       "      <td>47</td>\n",
       "      <td>0</td>\n",
       "      <td>46</td>\n",
       "      <td>0</td>\n",
       "      <td>13</td>\n",
       "      <td>48</td>\n",
       "      <td>339</td>\n",
       "      <td>693300</td>\n",
       "      <td>1</td>\n",
       "      <td>2019</td>\n",
       "    </tr>\n",
       "    <tr>\n",
       "      <th>3</th>\n",
       "      <td>Block Group 1, Census Tract 6938, Montgomery C...</td>\n",
       "      <td>32.3</td>\n",
       "      <td>43763</td>\n",
       "      <td>19419</td>\n",
       "      <td>4732</td>\n",
       "      <td>3506</td>\n",
       "      <td>665</td>\n",
       "      <td>0</td>\n",
       "      <td>163</td>\n",
       "      <td>0</td>\n",
       "      <td>308</td>\n",
       "      <td>48</td>\n",
       "      <td>339</td>\n",
       "      <td>693800</td>\n",
       "      <td>1</td>\n",
       "      <td>2019</td>\n",
       "    </tr>\n",
       "    <tr>\n",
       "      <th>4</th>\n",
       "      <td>Block Group 1, Census Tract 6947, Montgomery C...</td>\n",
       "      <td>49.6</td>\n",
       "      <td>85478</td>\n",
       "      <td>51829</td>\n",
       "      <td>1872</td>\n",
       "      <td>1636</td>\n",
       "      <td>185</td>\n",
       "      <td>12</td>\n",
       "      <td>0</td>\n",
       "      <td>0</td>\n",
       "      <td>18</td>\n",
       "      <td>48</td>\n",
       "      <td>339</td>\n",
       "      <td>694700</td>\n",
       "      <td>1</td>\n",
       "      <td>2019</td>\n",
       "    </tr>\n",
       "  </tbody>\n",
       "</table>\n",
       "</div>"
      ],
      "text/plain": [
       "                                                NAME B01002_001E B19013_001E  \\\n",
       "0  Block Group 1, Census Tract 6919, Montgomery C...        36.0      105100   \n",
       "1  Block Group 3, Census Tract 6933, Montgomery C...        31.1       54517   \n",
       "2  Block Group 1, Census Tract 6933, Montgomery C...        27.6       32863   \n",
       "3  Block Group 1, Census Tract 6938, Montgomery C...        32.3       43763   \n",
       "4  Block Group 1, Census Tract 6947, Montgomery C...        49.6       85478   \n",
       "\n",
       "  B19301_001E B02001_001E B02001_002E B02001_003E B02001_004E B02001_005E  \\\n",
       "0       40952        2657        2530          85           0           9   \n",
       "1       34372        3425        3023         220           0         160   \n",
       "2       24291        1619        1409          47           0          46   \n",
       "3       19419        4732        3506         665           0         163   \n",
       "4       51829        1872        1636         185          12           0   \n",
       "\n",
       "  B02001_006E B02001_007E state county   tract block group  year  \n",
       "0           0           0    48    339  691900           1  2019  \n",
       "1           0           0    48    339  693300           3  2019  \n",
       "2           0          13    48    339  693300           1  2019  \n",
       "3           0         308    48    339  693800           1  2019  \n",
       "4           0          18    48    339  694700           1  2019  "
      ]
     },
     "execution_count": 121,
     "metadata": {},
     "output_type": "execute_result"
    }
   ],
   "source": []
  },
  {
   "cell_type": "code",
   "execution_count": 122,
   "metadata": {},
   "outputs": [],
   "source": [
    "variable_names = {\n",
    "    'B01002_001E': 'MedAge',\n",
    "    'B19013_001E': 'MedHouIncome',\n",
    "    'B19301_001E': 'PerCapIncome',\n",
    "    'B02001_001E': 'TotPop',\n",
    "    'B02001_002E': 'White',\n",
    "    'B02001_003E': 'BlackAA',\n",
    "    'B02001_004E': 'AIAN',\n",
    "    'B02001_005E': 'Asian',\n",
    "    'B02001_006E': 'NHOPI',\n",
    "    'B02001_007E': 'OtherRace'\n",
    "}\n",
    "\n",
    "df.rename(columns=variable_names, inplace=True)"
   ]
  },
  {
   "cell_type": "code",
   "execution_count": 123,
   "metadata": {},
   "outputs": [
    {
     "data": {
      "text/html": [
       "<div>\n",
       "<style scoped>\n",
       "    .dataframe tbody tr th:only-of-type {\n",
       "        vertical-align: middle;\n",
       "    }\n",
       "\n",
       "    .dataframe tbody tr th {\n",
       "        vertical-align: top;\n",
       "    }\n",
       "\n",
       "    .dataframe thead th {\n",
       "        text-align: right;\n",
       "    }\n",
       "</style>\n",
       "<table border=\"1\" class=\"dataframe\">\n",
       "  <thead>\n",
       "    <tr style=\"text-align: right;\">\n",
       "      <th></th>\n",
       "      <th>NAME</th>\n",
       "      <th>MedAge</th>\n",
       "      <th>MedHouIncome</th>\n",
       "      <th>PerCapIncome</th>\n",
       "      <th>TotPop</th>\n",
       "      <th>White</th>\n",
       "      <th>BlackAA</th>\n",
       "      <th>AIAN</th>\n",
       "      <th>Asian</th>\n",
       "      <th>NHOPI</th>\n",
       "      <th>OtherRace</th>\n",
       "      <th>state</th>\n",
       "      <th>county</th>\n",
       "      <th>tract</th>\n",
       "      <th>block group</th>\n",
       "      <th>year</th>\n",
       "      <th>GEOID</th>\n",
       "    </tr>\n",
       "  </thead>\n",
       "  <tbody>\n",
       "    <tr>\n",
       "      <th>0</th>\n",
       "      <td>Block Group 1, Census Tract 6919, Montgomery C...</td>\n",
       "      <td>36.0</td>\n",
       "      <td>105100</td>\n",
       "      <td>40952</td>\n",
       "      <td>2657</td>\n",
       "      <td>2530</td>\n",
       "      <td>85</td>\n",
       "      <td>0</td>\n",
       "      <td>9</td>\n",
       "      <td>0</td>\n",
       "      <td>0</td>\n",
       "      <td>48</td>\n",
       "      <td>339</td>\n",
       "      <td>691900</td>\n",
       "      <td>1</td>\n",
       "      <td>2019</td>\n",
       "      <td>483396919001</td>\n",
       "    </tr>\n",
       "    <tr>\n",
       "      <th>1</th>\n",
       "      <td>Block Group 3, Census Tract 6933, Montgomery C...</td>\n",
       "      <td>31.1</td>\n",
       "      <td>54517</td>\n",
       "      <td>34372</td>\n",
       "      <td>3425</td>\n",
       "      <td>3023</td>\n",
       "      <td>220</td>\n",
       "      <td>0</td>\n",
       "      <td>160</td>\n",
       "      <td>0</td>\n",
       "      <td>0</td>\n",
       "      <td>48</td>\n",
       "      <td>339</td>\n",
       "      <td>693300</td>\n",
       "      <td>3</td>\n",
       "      <td>2019</td>\n",
       "      <td>483396933003</td>\n",
       "    </tr>\n",
       "    <tr>\n",
       "      <th>2</th>\n",
       "      <td>Block Group 1, Census Tract 6933, Montgomery C...</td>\n",
       "      <td>27.6</td>\n",
       "      <td>32863</td>\n",
       "      <td>24291</td>\n",
       "      <td>1619</td>\n",
       "      <td>1409</td>\n",
       "      <td>47</td>\n",
       "      <td>0</td>\n",
       "      <td>46</td>\n",
       "      <td>0</td>\n",
       "      <td>13</td>\n",
       "      <td>48</td>\n",
       "      <td>339</td>\n",
       "      <td>693300</td>\n",
       "      <td>1</td>\n",
       "      <td>2019</td>\n",
       "      <td>483396933001</td>\n",
       "    </tr>\n",
       "    <tr>\n",
       "      <th>3</th>\n",
       "      <td>Block Group 1, Census Tract 6938, Montgomery C...</td>\n",
       "      <td>32.3</td>\n",
       "      <td>43763</td>\n",
       "      <td>19419</td>\n",
       "      <td>4732</td>\n",
       "      <td>3506</td>\n",
       "      <td>665</td>\n",
       "      <td>0</td>\n",
       "      <td>163</td>\n",
       "      <td>0</td>\n",
       "      <td>308</td>\n",
       "      <td>48</td>\n",
       "      <td>339</td>\n",
       "      <td>693800</td>\n",
       "      <td>1</td>\n",
       "      <td>2019</td>\n",
       "      <td>483396938001</td>\n",
       "    </tr>\n",
       "    <tr>\n",
       "      <th>4</th>\n",
       "      <td>Block Group 1, Census Tract 6947, Montgomery C...</td>\n",
       "      <td>49.6</td>\n",
       "      <td>85478</td>\n",
       "      <td>51829</td>\n",
       "      <td>1872</td>\n",
       "      <td>1636</td>\n",
       "      <td>185</td>\n",
       "      <td>12</td>\n",
       "      <td>0</td>\n",
       "      <td>0</td>\n",
       "      <td>18</td>\n",
       "      <td>48</td>\n",
       "      <td>339</td>\n",
       "      <td>694700</td>\n",
       "      <td>1</td>\n",
       "      <td>2019</td>\n",
       "      <td>483396947001</td>\n",
       "    </tr>\n",
       "  </tbody>\n",
       "</table>\n",
       "</div>"
      ],
      "text/plain": [
       "                                                NAME MedAge MedHouIncome  \\\n",
       "0  Block Group 1, Census Tract 6919, Montgomery C...   36.0       105100   \n",
       "1  Block Group 3, Census Tract 6933, Montgomery C...   31.1        54517   \n",
       "2  Block Group 1, Census Tract 6933, Montgomery C...   27.6        32863   \n",
       "3  Block Group 1, Census Tract 6938, Montgomery C...   32.3        43763   \n",
       "4  Block Group 1, Census Tract 6947, Montgomery C...   49.6        85478   \n",
       "\n",
       "  PerCapIncome TotPop White BlackAA AIAN Asian NHOPI OtherRace state county  \\\n",
       "0        40952   2657  2530      85    0     9     0         0    48    339   \n",
       "1        34372   3425  3023     220    0   160     0         0    48    339   \n",
       "2        24291   1619  1409      47    0    46     0        13    48    339   \n",
       "3        19419   4732  3506     665    0   163     0       308    48    339   \n",
       "4        51829   1872  1636     185   12     0     0        18    48    339   \n",
       "\n",
       "    tract block group  year         GEOID  \n",
       "0  691900           1  2019  483396919001  \n",
       "1  693300           3  2019  483396933003  \n",
       "2  693300           1  2019  483396933001  \n",
       "3  693800           1  2019  483396938001  \n",
       "4  694700           1  2019  483396947001  "
      ]
     },
     "execution_count": 123,
     "metadata": {},
     "output_type": "execute_result"
    }
   ],
   "source": [
    "df['GEOID'] = df['state'] + df['county'] + df['tract'] + df['block group']\n",
    "header_df.STATEFP = header_df.STATEFP.astype(str)\n",
    "header_df.COUNTYFP = header_df.COUNTYFP.astype(str)\n",
    "header_df.TRACTCE = header_df.TRACTCE.astype(str)\n",
    "header_df.BLKGRPCE = header_df.BLKGRPCE.astype(str)\n",
    "header_df['GEOID'] = header_df['STATEFP'] + header_df['COUNTYFP'] + header_df['TRACTCE'] + header_df['BLKGRPCE']\n",
    "df.head()"
   ]
  },
  {
   "cell_type": "code",
   "execution_count": 124,
   "metadata": {},
   "outputs": [],
   "source": [
    "# Sort dataframe by year in descending order\n",
    "df_sorted = df.sort_values(by='year', ascending=False)\n",
    "\n",
    "# Group by block group identifier\n",
    "grouped_df = df_sorted.groupby(['state', 'county', 'tract', 'block group'])\n",
    "\n",
    "# Select the first row from each group (most recent year)\n",
    "most_recent_df = grouped_df.first().reset_index()\n",
    "\n",
    "# The resulting dataframe (most_recent_df) will contain the combined data\n",
    "# with only the most recent year for each block group."
   ]
  },
  {
   "cell_type": "code",
   "execution_count": 126,
   "metadata": {},
   "outputs": [
    {
     "name": "stdout",
     "output_type": "stream",
     "text": [
      "11329\n",
      "5523\n",
      "(5523, 17)\n"
     ]
    }
   ],
   "source": [
    "# Verify only the most recent info is preserved\n",
    "print(len(df))\n",
    "print(df.NAME.nunique())\n",
    "print(most_recent_df.shape)"
   ]
  },
  {
   "cell_type": "code",
   "execution_count": 128,
   "metadata": {},
   "outputs": [],
   "source": [
    "merged_df = header_df.merge(df, left_on='GEOID', right_on='GEOID')"
   ]
  },
  {
   "cell_type": "code",
   "execution_count": 130,
   "metadata": {},
   "outputs": [],
   "source": [
    "merged_df.to_csv('../../data/processed_header.csv', index=False)"
   ]
  }
 ],
 "metadata": {
  "kernelspec": {
   "display_name": "m3",
   "language": "python",
   "name": "python3"
  },
  "language_info": {
   "codemirror_mode": {
    "name": "ipython",
    "version": 3
   },
   "file_extension": ".py",
   "mimetype": "text/x-python",
   "name": "python",
   "nbconvert_exporter": "python",
   "pygments_lexer": "ipython3",
   "version": "3.11.0"
  },
  "orig_nbformat": 4
 },
 "nbformat": 4,
 "nbformat_minor": 2
}
