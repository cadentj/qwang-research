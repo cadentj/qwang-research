{
 "cells": [
  {
   "cell_type": "code",
   "execution_count": 1,
   "metadata": {},
   "outputs": [],
   "source": [
    "import pandas as pd\n",
    "import geopandas as gpd\n",
    "import skmob\n",
    "from skmob.preprocessing import filtering, compression\n",
    "from skmob.tessellation import tilers"
   ]
  },
  {
   "cell_type": "code",
   "execution_count": 4,
   "metadata": {},
   "outputs": [],
   "source": [
    "column_names = ['userid', 'timecome','date','lat','long','count','timeleave','duration']\n",
    "data = pd.read_csv('../../data/raw/stay_points_07/2017-07-02.txt', names=column_names)"
   ]
  },
  {
   "cell_type": "code",
   "execution_count": 5,
   "metadata": {},
   "outputs": [
    {
     "data": {
      "text/html": [
       "<div>\n",
       "<style scoped>\n",
       "    .dataframe tbody tr th:only-of-type {\n",
       "        vertical-align: middle;\n",
       "    }\n",
       "\n",
       "    .dataframe tbody tr th {\n",
       "        vertical-align: top;\n",
       "    }\n",
       "\n",
       "    .dataframe thead th {\n",
       "        text-align: right;\n",
       "    }\n",
       "</style>\n",
       "<table border=\"1\" class=\"dataframe\">\n",
       "  <thead>\n",
       "    <tr style=\"text-align: right;\">\n",
       "      <th></th>\n",
       "      <th>uid</th>\n",
       "      <th>lat</th>\n",
       "      <th>lng</th>\n",
       "      <th>datetime</th>\n",
       "    </tr>\n",
       "  </thead>\n",
       "  <tbody>\n",
       "    <tr>\n",
       "      <th>0</th>\n",
       "      <td>000070ec83acc05efcd9216ef9cf8725e2bbd41c7a9d2c...</td>\n",
       "      <td>29.137871</td>\n",
       "      <td>-95.063447</td>\n",
       "      <td>2017-07-02 04:11:10</td>\n",
       "    </tr>\n",
       "    <tr>\n",
       "      <th>1</th>\n",
       "      <td>00009827ea7c3bd4007e921ac8816407955a54deb76482...</td>\n",
       "      <td>29.787984</td>\n",
       "      <td>-95.592063</td>\n",
       "      <td>2017-07-02 06:28:41</td>\n",
       "    </tr>\n",
       "    <tr>\n",
       "      <th>2</th>\n",
       "      <td>00009827ea7c3bd4007e921ac8816407955a54deb76482...</td>\n",
       "      <td>29.788166</td>\n",
       "      <td>-95.592103</td>\n",
       "      <td>2017-07-02 12:34:14</td>\n",
       "    </tr>\n",
       "    <tr>\n",
       "      <th>3</th>\n",
       "      <td>0000bd2c0530443b29fee5a4a9adc2fcc5afc891821320...</td>\n",
       "      <td>30.058383</td>\n",
       "      <td>-95.390059</td>\n",
       "      <td>2017-07-02 10:36:48</td>\n",
       "    </tr>\n",
       "    <tr>\n",
       "      <th>4</th>\n",
       "      <td>0000bd2c0530443b29fee5a4a9adc2fcc5afc891821320...</td>\n",
       "      <td>30.065311</td>\n",
       "      <td>-95.430054</td>\n",
       "      <td>2017-07-02 11:56:01</td>\n",
       "    </tr>\n",
       "  </tbody>\n",
       "</table>\n",
       "</div>"
      ],
      "text/plain": [
       "                                                 uid        lat        lng  \\\n",
       "0  000070ec83acc05efcd9216ef9cf8725e2bbd41c7a9d2c...  29.137871 -95.063447   \n",
       "1  00009827ea7c3bd4007e921ac8816407955a54deb76482...  29.787984 -95.592063   \n",
       "2  00009827ea7c3bd4007e921ac8816407955a54deb76482...  29.788166 -95.592103   \n",
       "3  0000bd2c0530443b29fee5a4a9adc2fcc5afc891821320...  30.058383 -95.390059   \n",
       "4  0000bd2c0530443b29fee5a4a9adc2fcc5afc891821320...  30.065311 -95.430054   \n",
       "\n",
       "             datetime  \n",
       "0 2017-07-02 04:11:10  \n",
       "1 2017-07-02 06:28:41  \n",
       "2 2017-07-02 12:34:14  \n",
       "3 2017-07-02 10:36:48  \n",
       "4 2017-07-02 11:56:01  "
      ]
     },
     "execution_count": 5,
     "metadata": {},
     "output_type": "execute_result"
    }
   ],
   "source": [
    "to_tdf = data[['userid', 'lat', 'long', 'timecome']]\n",
    "tdf = skmob.TrajDataFrame(to_tdf, latitude='lat', longitude='long', datetime='timecome', user_id='userid')\n",
    "tdf.head()"
   ]
  },
  {
   "cell_type": "code",
   "execution_count": 30,
   "metadata": {},
   "outputs": [],
   "source": [
    "bg_shapes = pd.read_csv('../../data/processed/bg_shapefile.csv')"
   ]
  },
  {
   "cell_type": "code",
   "execution_count": 16,
   "metadata": {},
   "outputs": [],
   "source": [
    "from shapely import wkt"
   ]
  },
  {
   "cell_type": "code",
   "execution_count": 31,
   "metadata": {},
   "outputs": [],
   "source": [
    "bg_shapes = gpd.GeoDataFrame(bg_shapes, geometry=bg_shapes['geometry'].apply(wkt.loads))"
   ]
  },
  {
   "cell_type": "code",
   "execution_count": 33,
   "metadata": {},
   "outputs": [],
   "source": [
    "bg_shapes.reset_index(inplace=True)"
   ]
  },
  {
   "cell_type": "code",
   "execution_count": 36,
   "metadata": {},
   "outputs": [
    {
     "data": {
      "text/html": [
       "<div>\n",
       "<style scoped>\n",
       "    .dataframe tbody tr th:only-of-type {\n",
       "        vertical-align: middle;\n",
       "    }\n",
       "\n",
       "    .dataframe tbody tr th {\n",
       "        vertical-align: top;\n",
       "    }\n",
       "\n",
       "    .dataframe thead th {\n",
       "        text-align: right;\n",
       "    }\n",
       "</style>\n",
       "<table border=\"1\" class=\"dataframe\">\n",
       "  <thead>\n",
       "    <tr style=\"text-align: right;\">\n",
       "      <th></th>\n",
       "      <th>tile_ID</th>\n",
       "      <th>geometry</th>\n",
       "    </tr>\n",
       "  </thead>\n",
       "  <tbody>\n",
       "    <tr>\n",
       "      <th>0</th>\n",
       "      <td>0</td>\n",
       "      <td>POLYGON ((-95.56428 30.18810, -95.56368 30.192...</td>\n",
       "    </tr>\n",
       "    <tr>\n",
       "      <th>1</th>\n",
       "      <td>1</td>\n",
       "      <td>POLYGON ((-95.48293 30.28567, -95.48143 30.288...</td>\n",
       "    </tr>\n",
       "    <tr>\n",
       "      <th>2</th>\n",
       "      <td>2</td>\n",
       "      <td>POLYGON ((-95.51639 30.17621, -95.51416 30.178...</td>\n",
       "    </tr>\n",
       "    <tr>\n",
       "      <th>3</th>\n",
       "      <td>3</td>\n",
       "      <td>POLYGON ((-95.45590 30.29504, -95.45300 30.295...</td>\n",
       "    </tr>\n",
       "    <tr>\n",
       "      <th>4</th>\n",
       "      <td>4</td>\n",
       "      <td>POLYGON ((-95.39666 30.10288, -95.39003 30.108...</td>\n",
       "    </tr>\n",
       "  </tbody>\n",
       "</table>\n",
       "</div>"
      ],
      "text/plain": [
       "   tile_ID                                           geometry\n",
       "0        0  POLYGON ((-95.56428 30.18810, -95.56368 30.192...\n",
       "1        1  POLYGON ((-95.48293 30.28567, -95.48143 30.288...\n",
       "2        2  POLYGON ((-95.51639 30.17621, -95.51416 30.178...\n",
       "3        3  POLYGON ((-95.45590 30.29504, -95.45300 30.295...\n",
       "4        4  POLYGON ((-95.39666 30.10288, -95.39003 30.108..."
      ]
     },
     "execution_count": 36,
     "metadata": {},
     "output_type": "execute_result"
    }
   ],
   "source": [
    "bg_shapes.rename(columns={'index':'tile_ID'}, inplace=True)\n",
    "tessellation_columns = ['tile_ID', 'geometry']\n",
    "bg_tessellation = bg_shapes[tessellation_columns]\n",
    "bg_tessellation.head()"
   ]
  },
  {
   "cell_type": "code",
   "execution_count": 72,
   "metadata": {},
   "outputs": [],
   "source": [
    "tessellation_lg = tilers.tiler.get(\"squared\", base_shape=\"Houston, Texas\", meters=300)"
   ]
  },
  {
   "cell_type": "code",
   "execution_count": 73,
   "metadata": {},
   "outputs": [
    {
     "data": {
      "text/plain": [
       "(25777, 2)"
      ]
     },
     "execution_count": 73,
     "metadata": {},
     "output_type": "execute_result"
    }
   ],
   "source": [
    "tessellation_lg.shape"
   ]
  },
  {
   "cell_type": "code",
   "execution_count": 74,
   "metadata": {},
   "outputs": [
    {
     "data": {
      "text/html": [
       "<div>\n",
       "<style scoped>\n",
       "    .dataframe tbody tr th:only-of-type {\n",
       "        vertical-align: middle;\n",
       "    }\n",
       "\n",
       "    .dataframe tbody tr th {\n",
       "        vertical-align: top;\n",
       "    }\n",
       "\n",
       "    .dataframe thead th {\n",
       "        text-align: right;\n",
       "    }\n",
       "</style>\n",
       "<table border=\"1\" class=\"dataframe\">\n",
       "  <thead>\n",
       "    <tr style=\"text-align: right;\">\n",
       "      <th></th>\n",
       "      <th>tile_ID</th>\n",
       "      <th>geometry</th>\n",
       "    </tr>\n",
       "  </thead>\n",
       "  <tbody>\n",
       "    <tr>\n",
       "      <th>0</th>\n",
       "      <td>0</td>\n",
       "      <td>POLYGON ((-95.90974 30.09356, -95.90974 30.095...</td>\n",
       "    </tr>\n",
       "    <tr>\n",
       "      <th>1</th>\n",
       "      <td>1</td>\n",
       "      <td>POLYGON ((-95.90974 30.09590, -95.90974 30.098...</td>\n",
       "    </tr>\n",
       "    <tr>\n",
       "      <th>2</th>\n",
       "      <td>2</td>\n",
       "      <td>POLYGON ((-95.90974 30.09823, -95.90974 30.100...</td>\n",
       "    </tr>\n",
       "    <tr>\n",
       "      <th>3</th>\n",
       "      <td>3</td>\n",
       "      <td>POLYGON ((-95.90974 30.10056, -95.90974 30.102...</td>\n",
       "    </tr>\n",
       "    <tr>\n",
       "      <th>4</th>\n",
       "      <td>4</td>\n",
       "      <td>POLYGON ((-95.90974 30.10289, -95.90974 30.105...</td>\n",
       "    </tr>\n",
       "  </tbody>\n",
       "</table>\n",
       "</div>"
      ],
      "text/plain": [
       "  tile_ID                                           geometry\n",
       "0       0  POLYGON ((-95.90974 30.09356, -95.90974 30.095...\n",
       "1       1  POLYGON ((-95.90974 30.09590, -95.90974 30.098...\n",
       "2       2  POLYGON ((-95.90974 30.09823, -95.90974 30.100...\n",
       "3       3  POLYGON ((-95.90974 30.10056, -95.90974 30.102...\n",
       "4       4  POLYGON ((-95.90974 30.10289, -95.90974 30.105..."
      ]
     },
     "execution_count": 74,
     "metadata": {},
     "output_type": "execute_result"
    }
   ],
   "source": [
    "tessellation_lg.head()"
   ]
  },
  {
   "cell_type": "code",
   "execution_count": 77,
   "metadata": {},
   "outputs": [
    {
     "data": {
      "text/plain": [
       "(4152, 2)"
      ]
     },
     "execution_count": 77,
     "metadata": {},
     "output_type": "execute_result"
    }
   ],
   "source": [
    "bg_tessellation.shape"
   ]
  },
  {
   "cell_type": "code",
   "execution_count": 45,
   "metadata": {},
   "outputs": [
    {
     "data": {
      "text/plain": [
       "str"
      ]
     },
     "execution_count": 45,
     "metadata": {},
     "output_type": "execute_result"
    }
   ],
   "source": [
    "type(tessellation_lg.tile_ID[0])"
   ]
  },
  {
   "cell_type": "code",
   "execution_count": 78,
   "metadata": {},
   "outputs": [],
   "source": [
    "tessellation_lg.drop(\"geometry\", axis=1, inplace=True)\n",
    "\n",
    "tessellation_lg = tessellation_lg.merge(bg_tessellation[[\"tile_ID\", \"geometry\"]], on=\"tile_ID\")\n",
    "\n",
    "# Remove excess rows in TILES\n",
    "tessellation_lg = tessellation_lg.iloc[:bg_tessellation.shape[0]]\n"
   ]
  },
  {
   "cell_type": "code",
   "execution_count": 81,
   "metadata": {},
   "outputs": [
    {
     "data": {
      "text/html": [
       "<div>\n",
       "<style scoped>\n",
       "    .dataframe tbody tr th:only-of-type {\n",
       "        vertical-align: middle;\n",
       "    }\n",
       "\n",
       "    .dataframe tbody tr th {\n",
       "        vertical-align: top;\n",
       "    }\n",
       "\n",
       "    .dataframe thead th {\n",
       "        text-align: right;\n",
       "    }\n",
       "</style>\n",
       "<table border=\"1\" class=\"dataframe\">\n",
       "  <thead>\n",
       "    <tr style=\"text-align: right;\">\n",
       "      <th></th>\n",
       "      <th>tile_ID</th>\n",
       "      <th>geometry</th>\n",
       "    </tr>\n",
       "  </thead>\n",
       "  <tbody>\n",
       "    <tr>\n",
       "      <th>0</th>\n",
       "      <td>0</td>\n",
       "      <td>POLYGON ((-95.56428 30.18810, -95.56368 30.192...</td>\n",
       "    </tr>\n",
       "    <tr>\n",
       "      <th>1</th>\n",
       "      <td>1</td>\n",
       "      <td>POLYGON ((-95.48293 30.28567, -95.48143 30.288...</td>\n",
       "    </tr>\n",
       "    <tr>\n",
       "      <th>2</th>\n",
       "      <td>2</td>\n",
       "      <td>POLYGON ((-95.51639 30.17621, -95.51416 30.178...</td>\n",
       "    </tr>\n",
       "    <tr>\n",
       "      <th>3</th>\n",
       "      <td>3</td>\n",
       "      <td>POLYGON ((-95.45590 30.29504, -95.45300 30.295...</td>\n",
       "    </tr>\n",
       "    <tr>\n",
       "      <th>4</th>\n",
       "      <td>4</td>\n",
       "      <td>POLYGON ((-95.39666 30.10288, -95.39003 30.108...</td>\n",
       "    </tr>\n",
       "  </tbody>\n",
       "</table>\n",
       "</div>"
      ],
      "text/plain": [
       "  tile_ID                                           geometry\n",
       "0       0  POLYGON ((-95.56428 30.18810, -95.56368 30.192...\n",
       "1       1  POLYGON ((-95.48293 30.28567, -95.48143 30.288...\n",
       "2       2  POLYGON ((-95.51639 30.17621, -95.51416 30.178...\n",
       "3       3  POLYGON ((-95.45590 30.29504, -95.45300 30.295...\n",
       "4       4  POLYGON ((-95.39666 30.10288, -95.39003 30.108..."
      ]
     },
     "execution_count": 81,
     "metadata": {},
     "output_type": "execute_result"
    }
   ],
   "source": [
    "tessellation_lg.head()"
   ]
  },
  {
   "cell_type": "code",
   "execution_count": 48,
   "metadata": {},
   "outputs": [
    {
     "name": "stderr",
     "output_type": "stream",
     "text": [
      "/home/caden/anaconda3/envs/ai/lib/python3.11/site-packages/geopandas/geodataframe.py:1351: SettingWithCopyWarning: \n",
      "A value is trying to be set on a copy of a slice from a DataFrame.\n",
      "Try using .loc[row_indexer,col_indexer] = value instead\n",
      "\n",
      "See the caveats in the documentation: https://pandas.pydata.org/pandas-docs/stable/user_guide/indexing.html#returning-a-view-versus-a-copy\n",
      "  super().__setitem__(key, value)\n"
     ]
    }
   ],
   "source": [
    "bg_tessellation.tile_ID = bg_tessellation.tile_ID.astype('str')"
   ]
  },
  {
   "cell_type": "code",
   "execution_count": 86,
   "metadata": {},
   "outputs": [],
   "source": [
    "from shapely.geometry import Polygon, Point"
   ]
  },
  {
   "cell_type": "code",
   "execution_count": 92,
   "metadata": {},
   "outputs": [
    {
     "data": {
      "text/html": [
       "<div>\n",
       "<style scoped>\n",
       "    .dataframe tbody tr th:only-of-type {\n",
       "        vertical-align: middle;\n",
       "    }\n",
       "\n",
       "    .dataframe tbody tr th {\n",
       "        vertical-align: top;\n",
       "    }\n",
       "\n",
       "    .dataframe thead th {\n",
       "        text-align: right;\n",
       "    }\n",
       "</style>\n",
       "<table border=\"1\" class=\"dataframe\">\n",
       "  <thead>\n",
       "    <tr style=\"text-align: right;\">\n",
       "      <th></th>\n",
       "      <th>uid</th>\n",
       "      <th>lat</th>\n",
       "      <th>lng</th>\n",
       "      <th>datetime</th>\n",
       "    </tr>\n",
       "  </thead>\n",
       "  <tbody>\n",
       "    <tr>\n",
       "      <th>0</th>\n",
       "      <td>000070ec83acc05efcd9216ef9cf8725e2bbd41c7a9d2c...</td>\n",
       "      <td>29.137871</td>\n",
       "      <td>-95.063447</td>\n",
       "      <td>2017-07-02 04:11:10</td>\n",
       "    </tr>\n",
       "    <tr>\n",
       "      <th>1354799</th>\n",
       "      <td>000070ec83acc05efcd9216ef9cf8725e2bbd41c7a9d2c...</td>\n",
       "      <td>29.137870</td>\n",
       "      <td>-95.063420</td>\n",
       "      <td>2017-07-02 04:11:10</td>\n",
       "    </tr>\n",
       "    <tr>\n",
       "      <th>1190331</th>\n",
       "      <td>000070ec83acc05efcd9216ef9cf8725e2bbd41c7a9d2c...</td>\n",
       "      <td>29.298177</td>\n",
       "      <td>-94.913601</td>\n",
       "      <td>2017-07-02 08:24:43</td>\n",
       "    </tr>\n",
       "    <tr>\n",
       "      <th>1478526</th>\n",
       "      <td>000070ec83acc05efcd9216ef9cf8725e2bbd41c7a9d2c...</td>\n",
       "      <td>29.298170</td>\n",
       "      <td>-94.913600</td>\n",
       "      <td>2017-07-02 08:24:43</td>\n",
       "    </tr>\n",
       "    <tr>\n",
       "      <th>1190332</th>\n",
       "      <td>000070ec83acc05efcd9216ef9cf8725e2bbd41c7a9d2c...</td>\n",
       "      <td>29.299064</td>\n",
       "      <td>-94.907767</td>\n",
       "      <td>2017-07-02 09:28:45</td>\n",
       "    </tr>\n",
       "  </tbody>\n",
       "</table>\n",
       "</div>"
      ],
      "text/plain": [
       "                                                       uid        lat  \\\n",
       "0        000070ec83acc05efcd9216ef9cf8725e2bbd41c7a9d2c...  29.137871   \n",
       "1354799  000070ec83acc05efcd9216ef9cf8725e2bbd41c7a9d2c...  29.137870   \n",
       "1190331  000070ec83acc05efcd9216ef9cf8725e2bbd41c7a9d2c...  29.298177   \n",
       "1478526  000070ec83acc05efcd9216ef9cf8725e2bbd41c7a9d2c...  29.298170   \n",
       "1190332  000070ec83acc05efcd9216ef9cf8725e2bbd41c7a9d2c...  29.299064   \n",
       "\n",
       "               lng            datetime  \n",
       "0       -95.063447 2017-07-02 04:11:10  \n",
       "1354799 -95.063420 2017-07-02 04:11:10  \n",
       "1190331 -94.913601 2017-07-02 08:24:43  \n",
       "1478526 -94.913600 2017-07-02 08:24:43  \n",
       "1190332 -94.907767 2017-07-02 09:28:45  "
      ]
     },
     "execution_count": 92,
     "metadata": {},
     "output_type": "execute_result"
    }
   ],
   "source": [
    "tdf.head()"
   ]
  },
  {
   "cell_type": "code",
   "execution_count": 93,
   "metadata": {},
   "outputs": [
    {
     "name": "stderr",
     "output_type": "stream",
     "text": [
      "/home/caden/anaconda3/envs/ai/lib/python3.11/site-packages/pyproj/crs/crs.py:141: FutureWarning: '+init=<authority>:<code>' syntax is deprecated. '<authority>:<code>' is the preferred initialization method. When making the change, be mindful of axis order changes: https://pyproj4.github.io/pyproj/stable/gotchas.html#axis-order-changes-in-proj-6\n",
      "  in_crs_string = _prepare_from_proj_string(in_crs_string)\n"
     ]
    }
   ],
   "source": [
    "gdf = gpd.GeoDataFrame(tdf, geometry=gpd.points_from_xy(tdf.lng, tdf.lat), crs=tdf._crs)\n"
   ]
  },
  {
   "cell_type": "code",
   "execution_count": 96,
   "metadata": {},
   "outputs": [
    {
     "data": {
      "text/html": [
       "<div>\n",
       "<style scoped>\n",
       "    .dataframe tbody tr th:only-of-type {\n",
       "        vertical-align: middle;\n",
       "    }\n",
       "\n",
       "    .dataframe tbody tr th {\n",
       "        vertical-align: top;\n",
       "    }\n",
       "\n",
       "    .dataframe thead th {\n",
       "        text-align: right;\n",
       "    }\n",
       "</style>\n",
       "<table border=\"1\" class=\"dataframe\">\n",
       "  <thead>\n",
       "    <tr style=\"text-align: right;\">\n",
       "      <th></th>\n",
       "      <th>uid</th>\n",
       "      <th>lat</th>\n",
       "      <th>lng</th>\n",
       "      <th>datetime</th>\n",
       "      <th>geometry</th>\n",
       "    </tr>\n",
       "  </thead>\n",
       "  <tbody>\n",
       "    <tr>\n",
       "      <th>0</th>\n",
       "      <td>000070ec83acc05efcd9216ef9cf8725e2bbd41c7a9d2c...</td>\n",
       "      <td>29.137871</td>\n",
       "      <td>-95.063447</td>\n",
       "      <td>2017-07-02 04:11:10</td>\n",
       "      <td>POINT (-95.06345 29.13787)</td>\n",
       "    </tr>\n",
       "    <tr>\n",
       "      <th>1354799</th>\n",
       "      <td>000070ec83acc05efcd9216ef9cf8725e2bbd41c7a9d2c...</td>\n",
       "      <td>29.137870</td>\n",
       "      <td>-95.063420</td>\n",
       "      <td>2017-07-02 04:11:10</td>\n",
       "      <td>POINT (-95.06342 29.13787)</td>\n",
       "    </tr>\n",
       "    <tr>\n",
       "      <th>1190331</th>\n",
       "      <td>000070ec83acc05efcd9216ef9cf8725e2bbd41c7a9d2c...</td>\n",
       "      <td>29.298177</td>\n",
       "      <td>-94.913601</td>\n",
       "      <td>2017-07-02 08:24:43</td>\n",
       "      <td>POINT (-94.91360 29.29818)</td>\n",
       "    </tr>\n",
       "    <tr>\n",
       "      <th>1478526</th>\n",
       "      <td>000070ec83acc05efcd9216ef9cf8725e2bbd41c7a9d2c...</td>\n",
       "      <td>29.298170</td>\n",
       "      <td>-94.913600</td>\n",
       "      <td>2017-07-02 08:24:43</td>\n",
       "      <td>POINT (-94.91360 29.29817)</td>\n",
       "    </tr>\n",
       "    <tr>\n",
       "      <th>1190332</th>\n",
       "      <td>000070ec83acc05efcd9216ef9cf8725e2bbd41c7a9d2c...</td>\n",
       "      <td>29.299064</td>\n",
       "      <td>-94.907767</td>\n",
       "      <td>2017-07-02 09:28:45</td>\n",
       "      <td>POINT (-94.90777 29.29906)</td>\n",
       "    </tr>\n",
       "  </tbody>\n",
       "</table>\n",
       "</div>"
      ],
      "text/plain": [
       "                                                       uid        lat  \\\n",
       "0        000070ec83acc05efcd9216ef9cf8725e2bbd41c7a9d2c...  29.137871   \n",
       "1354799  000070ec83acc05efcd9216ef9cf8725e2bbd41c7a9d2c...  29.137870   \n",
       "1190331  000070ec83acc05efcd9216ef9cf8725e2bbd41c7a9d2c...  29.298177   \n",
       "1478526  000070ec83acc05efcd9216ef9cf8725e2bbd41c7a9d2c...  29.298170   \n",
       "1190332  000070ec83acc05efcd9216ef9cf8725e2bbd41c7a9d2c...  29.299064   \n",
       "\n",
       "               lng            datetime                    geometry  \n",
       "0       -95.063447 2017-07-02 04:11:10  POINT (-95.06345 29.13787)  \n",
       "1354799 -95.063420 2017-07-02 04:11:10  POINT (-95.06342 29.13787)  \n",
       "1190331 -94.913601 2017-07-02 08:24:43  POINT (-94.91360 29.29818)  \n",
       "1478526 -94.913600 2017-07-02 08:24:43  POINT (-94.91360 29.29817)  \n",
       "1190332 -94.907767 2017-07-02 09:28:45  POINT (-94.90777 29.29906)  "
      ]
     },
     "execution_count": 96,
     "metadata": {},
     "output_type": "execute_result"
    }
   ],
   "source": [
    "gdf.head()"
   ]
  },
  {
   "cell_type": "code",
   "execution_count": 97,
   "metadata": {},
   "outputs": [
    {
     "name": "stderr",
     "output_type": "stream",
     "text": [
      "/home/caden/anaconda3/envs/ai/lib/python3.11/site-packages/IPython/core/interactiveshell.py:3400: FutureWarning: The `op` parameter is deprecated and will be removed in a future release. Please use the `predicate` parameter instead.\n",
      "  if await self.run_code(code, result, async_=asy):\n",
      "/tmp/ipykernel_39570/630104644.py:1: UserWarning: CRS mismatch between the CRS of left geometries and the CRS of right geometries.\n",
      "Use `to_crs()` to reproject one of the input geometries to match the CRS of the other.\n",
      "\n",
      "Left CRS: +init=epsg:4326 +type=crs\n",
      "Right CRS: None\n",
      "\n",
      "  tile_ids = gpd.sjoin(gdf, bg_tessellation, how='left', op='within')\n"
     ]
    }
   ],
   "source": [
    "tile_ids = gpd.sjoin(gdf, bg_tessellation, how='left', op='within')"
   ]
  },
  {
   "cell_type": "code",
   "execution_count": 111,
   "metadata": {},
   "outputs": [
    {
     "data": {
      "text/plain": [
       "[<MULTIPOLYGON (((-95.005 29.614, -94.997 29.615, -94.996 29.615, -95.004 29....>,\n",
       " <MULTIPOLYGON (((-94.978 29.684, -94.977 29.685, -94.976 29.685, -94.974 29....>,\n",
       " <MULTIPOLYGON (((-94.502 29.511, -94.501 29.512, -94.498 29.512, -94.493 29....>,\n",
       " <MULTIPOLYGON (((-94.915 29.273, -94.913 29.275, -94.909 29.274, -94.909 29....>,\n",
       " <MULTIPOLYGON (((-94.823 29.324, -94.823 29.325, -94.822 29.327, -94.822 29....>,\n",
       " <MULTIPOLYGON (((-94.643 29.474, -94.64 29.475, -94.64 29.473, -94.642 29.47...>,\n",
       " <MULTIPOLYGON (((-94.929 29.287, -94.923 29.288, -94.92 29.287, -94.921 29.2...>,\n",
       " <MULTIPOLYGON (((-94.786 29.551, -94.782 29.55, -94.785 29.549, -94.787 29.5...>,\n",
       " <MULTIPOLYGON (((-94.718 29.729, -94.717 29.732, -94.717 29.734, -94.714 29....>]"
      ]
     },
     "execution_count": 111,
     "metadata": {},
     "output_type": "execute_result"
    }
   ],
   "source": [
    "d = {'col1': ['name1', 'name2'], 'geometry': [Point(1, 2), Point(2, 1)]}\n"
   ]
  },
  {
   "cell_type": "code",
   "execution_count": 112,
   "metadata": {},
   "outputs": [
    {
     "data": {
      "text/plain": [
       "{'ind': [0, 1, 2, 3, 4, 5, 6, 7, 8],\n",
       " 'geometry': [<MULTIPOLYGON (((-95.005 29.614, -94.997 29.615, -94.996 29.615, -95.004 29....>,\n",
       "  <MULTIPOLYGON (((-94.978 29.684, -94.977 29.685, -94.976 29.685, -94.974 29....>,\n",
       "  <MULTIPOLYGON (((-94.502 29.511, -94.501 29.512, -94.498 29.512, -94.493 29....>,\n",
       "  <MULTIPOLYGON (((-94.915 29.273, -94.913 29.275, -94.909 29.274, -94.909 29....>,\n",
       "  <MULTIPOLYGON (((-94.823 29.324, -94.823 29.325, -94.822 29.327, -94.822 29....>,\n",
       "  <MULTIPOLYGON (((-94.643 29.474, -94.64 29.475, -94.64 29.473, -94.642 29.47...>,\n",
       "  <MULTIPOLYGON (((-94.929 29.287, -94.923 29.288, -94.92 29.287, -94.921 29.2...>,\n",
       "  <MULTIPOLYGON (((-94.786 29.551, -94.782 29.55, -94.785 29.549, -94.787 29.5...>,\n",
       "  <MULTIPOLYGON (((-94.718 29.729, -94.717 29.732, -94.717 29.734, -94.714 29....>]}"
      ]
     },
     "execution_count": 112,
     "metadata": {},
     "output_type": "execute_result"
    }
   ],
   "source": [
    "a = [i for i in range(len(multi))]\n",
    "d2 = {'ind' : a, 'geometry' : multi}\n",
    "d2"
   ]
  },
  {
   "cell_type": "code",
   "execution_count": 114,
   "metadata": {},
   "outputs": [],
   "source": [
    "gdf = gpd.GeoDataFrame(d2, crs=\"EPSG:4326\")"
   ]
  },
  {
   "cell_type": "code",
   "execution_count": 117,
   "metadata": {},
   "outputs": [
    {
     "name": "stderr",
     "output_type": "stream",
     "text": [
      "/home/caden/anaconda3/envs/ai/lib/python3.11/site-packages/pyproj/crs/crs.py:141: FutureWarning: '+init=<authority>:<code>' syntax is deprecated. '<authority>:<code>' is the preferred initialization method. When making the change, be mindful of axis order changes: https://pyproj4.github.io/pyproj/stable/gotchas.html#axis-order-changes-in-proj-6\n",
      "  in_crs_string = _prepare_from_proj_string(in_crs_string)\n"
     ]
    }
   ],
   "source": [
    "gdf_of_points = gpd.GeoDataFrame(tdf, geometry=gpd.points_from_xy(tdf.lng, tdf.lat), crs=tdf._crs)"
   ]
  },
  {
   "cell_type": "code",
   "execution_count": 118,
   "metadata": {},
   "outputs": [
    {
     "name": "stderr",
     "output_type": "stream",
     "text": [
      "/home/caden/anaconda3/envs/ai/lib/python3.11/site-packages/IPython/core/interactiveshell.py:3400: FutureWarning: The `op` parameter is deprecated and will be removed in a future release. Please use the `predicate` parameter instead.\n",
      "  if await self.run_code(code, result, async_=asy):\n",
      "/tmp/ipykernel_39570/3636317061.py:1: UserWarning: CRS mismatch between the CRS of left geometries and the CRS of right geometries.\n",
      "Use `to_crs()` to reproject one of the input geometries to match the CRS of the other.\n",
      "\n",
      "Left CRS: +init=epsg:4326 +type=crs\n",
      "Right CRS: EPSG:4326\n",
      "\n",
      "  the_culprits = gpd.sjoin(gdf_of_points, gdf, how='left', op='within')\n"
     ]
    }
   ],
   "source": [
    "the_culprits = gpd.sjoin(gdf_of_points, gdf, how='left', op='within')"
   ]
  },
  {
   "cell_type": "code",
   "execution_count": 120,
   "metadata": {},
   "outputs": [
    {
     "data": {
      "text/plain": [
       "8"
      ]
     },
     "execution_count": 120,
     "metadata": {},
     "output_type": "execute_result"
    }
   ],
   "source": [
    "the_culprits.ind.nunique()"
   ]
  },
  {
   "cell_type": "code",
   "execution_count": 100,
   "metadata": {},
   "outputs": [
    {
     "data": {
      "text/html": [
       "<div>\n",
       "<style scoped>\n",
       "    .dataframe tbody tr th:only-of-type {\n",
       "        vertical-align: middle;\n",
       "    }\n",
       "\n",
       "    .dataframe tbody tr th {\n",
       "        vertical-align: top;\n",
       "    }\n",
       "\n",
       "    .dataframe thead th {\n",
       "        text-align: right;\n",
       "    }\n",
       "</style>\n",
       "<table border=\"1\" class=\"dataframe\">\n",
       "  <thead>\n",
       "    <tr style=\"text-align: right;\">\n",
       "      <th></th>\n",
       "      <th>uid</th>\n",
       "      <th>lat</th>\n",
       "      <th>lng</th>\n",
       "      <th>datetime</th>\n",
       "      <th>geometry</th>\n",
       "    </tr>\n",
       "  </thead>\n",
       "  <tbody>\n",
       "    <tr>\n",
       "      <th>0</th>\n",
       "      <td>000070ec83acc05efcd9216ef9cf8725e2bbd41c7a9d2c...</td>\n",
       "      <td>29.137871</td>\n",
       "      <td>-95.063447</td>\n",
       "      <td>2017-07-02 04:11:10</td>\n",
       "      <td>POINT (-95.06345 29.13787)</td>\n",
       "    </tr>\n",
       "    <tr>\n",
       "      <th>1354799</th>\n",
       "      <td>000070ec83acc05efcd9216ef9cf8725e2bbd41c7a9d2c...</td>\n",
       "      <td>29.137870</td>\n",
       "      <td>-95.063420</td>\n",
       "      <td>2017-07-02 04:11:10</td>\n",
       "      <td>POINT (-95.06342 29.13787)</td>\n",
       "    </tr>\n",
       "    <tr>\n",
       "      <th>1190331</th>\n",
       "      <td>000070ec83acc05efcd9216ef9cf8725e2bbd41c7a9d2c...</td>\n",
       "      <td>29.298177</td>\n",
       "      <td>-94.913601</td>\n",
       "      <td>2017-07-02 08:24:43</td>\n",
       "      <td>POINT (-94.91360 29.29818)</td>\n",
       "    </tr>\n",
       "    <tr>\n",
       "      <th>1478526</th>\n",
       "      <td>000070ec83acc05efcd9216ef9cf8725e2bbd41c7a9d2c...</td>\n",
       "      <td>29.298170</td>\n",
       "      <td>-94.913600</td>\n",
       "      <td>2017-07-02 08:24:43</td>\n",
       "      <td>POINT (-94.91360 29.29817)</td>\n",
       "    </tr>\n",
       "    <tr>\n",
       "      <th>1190332</th>\n",
       "      <td>000070ec83acc05efcd9216ef9cf8725e2bbd41c7a9d2c...</td>\n",
       "      <td>29.299064</td>\n",
       "      <td>-94.907767</td>\n",
       "      <td>2017-07-02 09:28:45</td>\n",
       "      <td>POINT (-94.90777 29.29906)</td>\n",
       "    </tr>\n",
       "  </tbody>\n",
       "</table>\n",
       "</div>"
      ],
      "text/plain": [
       "                                                       uid        lat  \\\n",
       "0        000070ec83acc05efcd9216ef9cf8725e2bbd41c7a9d2c...  29.137871   \n",
       "1354799  000070ec83acc05efcd9216ef9cf8725e2bbd41c7a9d2c...  29.137870   \n",
       "1190331  000070ec83acc05efcd9216ef9cf8725e2bbd41c7a9d2c...  29.298177   \n",
       "1478526  000070ec83acc05efcd9216ef9cf8725e2bbd41c7a9d2c...  29.298170   \n",
       "1190332  000070ec83acc05efcd9216ef9cf8725e2bbd41c7a9d2c...  29.299064   \n",
       "\n",
       "               lng            datetime                    geometry  \n",
       "0       -95.063447 2017-07-02 04:11:10  POINT (-95.06345 29.13787)  \n",
       "1354799 -95.063420 2017-07-02 04:11:10  POINT (-95.06342 29.13787)  \n",
       "1190331 -94.913601 2017-07-02 08:24:43  POINT (-94.91360 29.29818)  \n",
       "1478526 -94.913600 2017-07-02 08:24:43  POINT (-94.91360 29.29817)  \n",
       "1190332 -94.907767 2017-07-02 09:28:45  POINT (-94.90777 29.29906)  "
      ]
     },
     "execution_count": 100,
     "metadata": {},
     "output_type": "execute_result"
    }
   ],
   "source": [
    "new_data = tdf.merge(tile_ids, right_index=True, left_index=True)"
   ]
  },
  {
   "cell_type": "code",
   "execution_count": 83,
   "metadata": {},
   "outputs": [
    {
     "name": "stderr",
     "output_type": "stream",
     "text": [
      "/home/caden/anaconda3/envs/ai/lib/python3.11/site-packages/pyproj/crs/crs.py:141: FutureWarning: '+init=<authority>:<code>' syntax is deprecated. '<authority>:<code>' is the preferred initialization method. When making the change, be mindful of axis order changes: https://pyproj4.github.io/pyproj/stable/gotchas.html#axis-order-changes-in-proj-6\n",
      "  in_crs_string = _prepare_from_proj_string(in_crs_string)\n"
     ]
    },
    {
     "ename": "UnboundLocalError",
     "evalue": "cannot access local variable 'tile_ids' where it is not associated with a value",
     "output_type": "error",
     "traceback": [
      "\u001b[0;31m---------------------------------------------------------------------------\u001b[0m",
      "\u001b[0;31mUnboundLocalError\u001b[0m                         Traceback (most recent call last)",
      "Cell \u001b[0;32mIn[83], line 1\u001b[0m\n\u001b[0;32m----> 1\u001b[0m tdf\u001b[39m.\u001b[39;49mmapping(tessellation_lg)\n",
      "File \u001b[0;32m~/anaconda3/envs/ai/lib/python3.11/site-packages/skmob/core/trajectorydataframe.py:329\u001b[0m, in \u001b[0;36mTrajDataFrame.mapping\u001b[0;34m(self, tessellation, remove_na)\u001b[0m\n\u001b[1;32m    326\u001b[0m     tile_ids \u001b[39m=\u001b[39m utils\u001b[39m.\u001b[39mnearest(gdf, tessellation, constants\u001b[39m.\u001b[39mTILE_ID)\n\u001b[1;32m    328\u001b[0m new_data \u001b[39m=\u001b[39m \u001b[39mself\u001b[39m\u001b[39m.\u001b[39m_constructor(\u001b[39mself\u001b[39m)\u001b[39m.\u001b[39m__finalize__(\u001b[39mself\u001b[39m)\n\u001b[0;32m--> 329\u001b[0m new_data \u001b[39m=\u001b[39m new_data\u001b[39m.\u001b[39mmerge(tile_ids, right_index\u001b[39m=\u001b[39m\u001b[39mTrue\u001b[39;00m, left_index\u001b[39m=\u001b[39m\u001b[39mTrue\u001b[39;00m)\n\u001b[1;32m    331\u001b[0m \u001b[39mreturn\u001b[39;00m new_data\n",
      "\u001b[0;31mUnboundLocalError\u001b[0m: cannot access local variable 'tile_ids' where it is not associated with a value"
     ]
    }
   ],
   "source": [
    "tdf.mapping(tessellation_lg)"
   ]
  },
  {
   "cell_type": "code",
   "execution_count": 82,
   "metadata": {},
   "outputs": [
    {
     "name": "stderr",
     "output_type": "stream",
     "text": [
      "/home/caden/anaconda3/envs/ai/lib/python3.11/site-packages/pyproj/crs/crs.py:141: FutureWarning: '+init=<authority>:<code>' syntax is deprecated. '<authority>:<code>' is the preferred initialization method. When making the change, be mindful of axis order changes: https://pyproj4.github.io/pyproj/stable/gotchas.html#axis-order-changes-in-proj-6\n",
      "  in_crs_string = _prepare_from_proj_string(in_crs_string)\n"
     ]
    },
    {
     "ename": "UnboundLocalError",
     "evalue": "cannot access local variable 'tile_ids' where it is not associated with a value",
     "output_type": "error",
     "traceback": [
      "\u001b[0;31m---------------------------------------------------------------------------\u001b[0m",
      "\u001b[0;31mUnboundLocalError\u001b[0m                         Traceback (most recent call last)",
      "Cell \u001b[0;32mIn[82], line 1\u001b[0m\n\u001b[0;32m----> 1\u001b[0m fdf \u001b[39m=\u001b[39m tdf\u001b[39m.\u001b[39;49mto_flowdataframe(tessellation\u001b[39m=\u001b[39;49mtessellation_lg, self_loops\u001b[39m=\u001b[39;49m\u001b[39mTrue\u001b[39;49;00m)\n",
      "File \u001b[0;32m~/anaconda3/envs/ai/lib/python3.11/site-packages/skmob/core/trajectorydataframe.py:244\u001b[0m, in \u001b[0;36mTrajDataFrame.to_flowdataframe\u001b[0;34m(self, tessellation, self_loops)\u001b[0m\n\u001b[1;32m    241\u001b[0m \u001b[39mself\u001b[39m\u001b[39m.\u001b[39msort_values(by\u001b[39m=\u001b[39m\u001b[39mself\u001b[39m\u001b[39m.\u001b[39m__operate_on(), ascending\u001b[39m=\u001b[39m\u001b[39mTrue\u001b[39;00m, inplace\u001b[39m=\u001b[39m\u001b[39mTrue\u001b[39;00m)\n\u001b[1;32m    243\u001b[0m \u001b[39m# Step 2: map the trajectory onto the tessellation\u001b[39;00m\n\u001b[0;32m--> 244\u001b[0m flow \u001b[39m=\u001b[39m \u001b[39mself\u001b[39;49m\u001b[39m.\u001b[39;49mmapping(tessellation, remove_na\u001b[39m=\u001b[39;49m\u001b[39mFalse\u001b[39;49;00m)\n\u001b[1;32m    246\u001b[0m \u001b[39m# Step 3: groupby tile_id and sum to obtain the flow\u001b[39;00m\n\u001b[1;32m    247\u001b[0m flow\u001b[39m.\u001b[39mloc[:, constants\u001b[39m.\u001b[39mDESTINATION] \u001b[39m=\u001b[39m flow[constants\u001b[39m.\u001b[39mTILE_ID]\u001b[39m.\u001b[39mshift(\u001b[39m-\u001b[39m\u001b[39m1\u001b[39m)\n",
      "File \u001b[0;32m~/anaconda3/envs/ai/lib/python3.11/site-packages/skmob/core/trajectorydataframe.py:329\u001b[0m, in \u001b[0;36mTrajDataFrame.mapping\u001b[0;34m(self, tessellation, remove_na)\u001b[0m\n\u001b[1;32m    326\u001b[0m     tile_ids \u001b[39m=\u001b[39m utils\u001b[39m.\u001b[39mnearest(gdf, tessellation, constants\u001b[39m.\u001b[39mTILE_ID)\n\u001b[1;32m    328\u001b[0m new_data \u001b[39m=\u001b[39m \u001b[39mself\u001b[39m\u001b[39m.\u001b[39m_constructor(\u001b[39mself\u001b[39m)\u001b[39m.\u001b[39m__finalize__(\u001b[39mself\u001b[39m)\n\u001b[0;32m--> 329\u001b[0m new_data \u001b[39m=\u001b[39m new_data\u001b[39m.\u001b[39mmerge(tile_ids, right_index\u001b[39m=\u001b[39m\u001b[39mTrue\u001b[39;00m, left_index\u001b[39m=\u001b[39m\u001b[39mTrue\u001b[39;00m)\n\u001b[1;32m    331\u001b[0m \u001b[39mreturn\u001b[39;00m new_data\n",
      "\u001b[0;31mUnboundLocalError\u001b[0m: cannot access local variable 'tile_ids' where it is not associated with a value"
     ]
    }
   ],
   "source": [
    "fdf = tdf.to_flowdataframe(tessellation=tessellation_lg, self_loops=True)"
   ]
  },
  {
   "cell_type": "code",
   "execution_count": 102,
   "metadata": {},
   "outputs": [],
   "source": [
    "tessellation_lg = tilers.tiler.get(\"squared\", base_shape=\"Houston, Texas\", meters=15000)"
   ]
  },
  {
   "cell_type": "code",
   "execution_count": 109,
   "metadata": {},
   "outputs": [
    {
     "name": "stdout",
     "output_type": "stream",
     "text": [
      "4143 9\n"
     ]
    }
   ],
   "source": [
    "poly = 0\n",
    "non_poly = 0\n",
    "multi = []\n",
    "for x in bg_tessellation.geometry:\n",
    "    if isinstance(x, Polygon):\n",
    "        poly += 1\n",
    "    else :\n",
    "        non_poly+= 1\n",
    "        multi.append(x)\n",
    "\n",
    "print(poly, non_poly)"
   ]
  },
  {
   "cell_type": "code",
   "execution_count": 110,
   "metadata": {},
   "outputs": [
    {
     "ename": "AttributeError",
     "evalue": "'list' object has no attribute 'plot'",
     "output_type": "error",
     "traceback": [
      "\u001b[0;31m---------------------------------------------------------------------------\u001b[0m",
      "\u001b[0;31mAttributeError\u001b[0m                            Traceback (most recent call last)",
      "Cell \u001b[0;32mIn[110], line 1\u001b[0m\n\u001b[0;32m----> 1\u001b[0m multi\u001b[39m.\u001b[39;49mplot()\n",
      "\u001b[0;31mAttributeError\u001b[0m: 'list' object has no attribute 'plot'"
     ]
    }
   ],
   "source": [
    "multi.plot()"
   ]
  },
  {
   "cell_type": "code",
   "execution_count": 104,
   "metadata": {},
   "outputs": [],
   "source": [
    "if all(isinstance(x, Polygon) for x in bg_tessellation.geometry):\n",
    "    print(\"YAY\")"
   ]
  },
  {
   "cell_type": "code",
   "execution_count": 101,
   "metadata": {},
   "outputs": [
    {
     "name": "stderr",
     "output_type": "stream",
     "text": [
      "/home/caden/anaconda3/envs/ai/lib/python3.11/site-packages/pyproj/crs/crs.py:141: FutureWarning: '+init=<authority>:<code>' syntax is deprecated. '<authority>:<code>' is the preferred initialization method. When making the change, be mindful of axis order changes: https://pyproj4.github.io/pyproj/stable/gotchas.html#axis-order-changes-in-proj-6\n",
      "  in_crs_string = _prepare_from_proj_string(in_crs_string)\n"
     ]
    },
    {
     "ename": "UnboundLocalError",
     "evalue": "cannot access local variable 'tile_ids' where it is not associated with a value",
     "output_type": "error",
     "traceback": [
      "\u001b[0;31m---------------------------------------------------------------------------\u001b[0m",
      "\u001b[0;31mUnboundLocalError\u001b[0m                         Traceback (most recent call last)",
      "Cell \u001b[0;32mIn[101], line 1\u001b[0m\n\u001b[0;32m----> 1\u001b[0m fdf \u001b[39m=\u001b[39m tdf\u001b[39m.\u001b[39;49mto_flowdataframe(tessellation\u001b[39m=\u001b[39;49mbg_tessellation, self_loops\u001b[39m=\u001b[39;49m\u001b[39mTrue\u001b[39;49;00m)\n",
      "File \u001b[0;32m~/anaconda3/envs/ai/lib/python3.11/site-packages/skmob/core/trajectorydataframe.py:244\u001b[0m, in \u001b[0;36mTrajDataFrame.to_flowdataframe\u001b[0;34m(self, tessellation, self_loops)\u001b[0m\n\u001b[1;32m    241\u001b[0m \u001b[39mself\u001b[39m\u001b[39m.\u001b[39msort_values(by\u001b[39m=\u001b[39m\u001b[39mself\u001b[39m\u001b[39m.\u001b[39m__operate_on(), ascending\u001b[39m=\u001b[39m\u001b[39mTrue\u001b[39;00m, inplace\u001b[39m=\u001b[39m\u001b[39mTrue\u001b[39;00m)\n\u001b[1;32m    243\u001b[0m \u001b[39m# Step 2: map the trajectory onto the tessellation\u001b[39;00m\n\u001b[0;32m--> 244\u001b[0m flow \u001b[39m=\u001b[39m \u001b[39mself\u001b[39;49m\u001b[39m.\u001b[39;49mmapping(tessellation, remove_na\u001b[39m=\u001b[39;49m\u001b[39mFalse\u001b[39;49;00m)\n\u001b[1;32m    246\u001b[0m \u001b[39m# Step 3: groupby tile_id and sum to obtain the flow\u001b[39;00m\n\u001b[1;32m    247\u001b[0m flow\u001b[39m.\u001b[39mloc[:, constants\u001b[39m.\u001b[39mDESTINATION] \u001b[39m=\u001b[39m flow[constants\u001b[39m.\u001b[39mTILE_ID]\u001b[39m.\u001b[39mshift(\u001b[39m-\u001b[39m\u001b[39m1\u001b[39m)\n",
      "File \u001b[0;32m~/anaconda3/envs/ai/lib/python3.11/site-packages/skmob/core/trajectorydataframe.py:329\u001b[0m, in \u001b[0;36mTrajDataFrame.mapping\u001b[0;34m(self, tessellation, remove_na)\u001b[0m\n\u001b[1;32m    326\u001b[0m     tile_ids \u001b[39m=\u001b[39m utils\u001b[39m.\u001b[39mnearest(gdf, tessellation, constants\u001b[39m.\u001b[39mTILE_ID)\n\u001b[1;32m    328\u001b[0m new_data \u001b[39m=\u001b[39m \u001b[39mself\u001b[39m\u001b[39m.\u001b[39m_constructor(\u001b[39mself\u001b[39m)\u001b[39m.\u001b[39m__finalize__(\u001b[39mself\u001b[39m)\n\u001b[0;32m--> 329\u001b[0m new_data \u001b[39m=\u001b[39m new_data\u001b[39m.\u001b[39mmerge(tile_ids, right_index\u001b[39m=\u001b[39m\u001b[39mTrue\u001b[39;00m, left_index\u001b[39m=\u001b[39m\u001b[39mTrue\u001b[39;00m)\n\u001b[1;32m    331\u001b[0m \u001b[39mreturn\u001b[39;00m new_data\n",
      "\u001b[0;31mUnboundLocalError\u001b[0m: cannot access local variable 'tile_ids' where it is not associated with a value"
     ]
    }
   ],
   "source": [
    "fdf = tdf.to_flowdataframe(tessellation=bg_tessellation, self_loops=True)"
   ]
  },
  {
   "cell_type": "code",
   "execution_count": null,
   "metadata": {},
   "outputs": [],
   "source": [
    "fdf = skmob.FlowDataFrame.from_file(\"NY_commuting_flows_2011.csv\",  \n",
    "                                        tessellation=bg_tessellation,\n",
    "                                        tile_id='tile_ID',\n",
    "                                        sep=\",\")"
   ]
  }
 ],
 "metadata": {
  "kernelspec": {
   "display_name": "ai",
   "language": "python",
   "name": "python3"
  },
  "language_info": {
   "codemirror_mode": {
    "name": "ipython",
    "version": 3
   },
   "file_extension": ".py",
   "mimetype": "text/x-python",
   "name": "python",
   "nbconvert_exporter": "python",
   "pygments_lexer": "ipython3",
   "version": "3.11.0"
  },
  "orig_nbformat": 4
 },
 "nbformat": 4,
 "nbformat_minor": 2
}
