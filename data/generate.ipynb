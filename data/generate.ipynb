{
 "cells": [
  {
   "cell_type": "code",
   "execution_count": 1,
   "metadata": {},
   "outputs": [],
   "source": [
    "import numpy as np\n",
    "import pandas as pd\n",
    "import random\n",
    "from datetime import datetime, timedelta"
   ]
  },
  {
   "cell_type": "code",
   "execution_count": 18,
   "metadata": {},
   "outputs": [],
   "source": [
    "expensive_sensor_interval = timedelta(hours=1)\n",
    "expensive_sensor_accuracy = 0.1  # Assuming accuracy within 0.1 units\n",
    "inexpensive_sensor_interval = timedelta(minutes=1)\n",
    "inexpensive_sensor_accuracy = 1.0  # Assuming accuracy within 1.0 units\n",
    "\n",
    "expensive_sensor_count = 10\n",
    "inexpensive_sensor_count = 90\n"
   ]
  },
  {
   "cell_type": "code",
   "execution_count": 19,
   "metadata": {},
   "outputs": [],
   "source": [
    "start_time = datetime(2023, 1, 1)  # Specify the start time\n",
    "end_time = datetime(2023, 1, 31)  # Specify the end time\n",
    "\n",
    "timestamps = pd.date_range(start=start_time, end=end_time, freq=inexpensive_sensor_interval)"
   ]
  },
  {
   "cell_type": "code",
   "execution_count": 21,
   "metadata": {},
   "outputs": [],
   "source": [
    "expensive_sensor_data = [[] for i in range(expensive_sensor_count)]\n",
    "inexpensive_sensor_data = [[] for i in range(inexpensive_sensor_count)]\n",
    "\n",
    "for timestamp in timestamps:\n",
    "    # Expensive sensor data\n",
    "    if timestamp.minute == 0:  # Only take measurements every hour\n",
    "        for i in range(expensive_sensor_count):\n",
    "            expensive_measurement = random.uniform(25.0, 30.0)  # Assuming a temperature range between 25.0 and 30.0 units\n",
    "            expensive_sensor_data[i].append(expensive_measurement)\n",
    "\n",
    "    # Inexpensive sensor data\n",
    "    for i in range(inexpensive_sensor_count):\n",
    "        inexpensive_measurement = random.uniform(20.0, 35.0)  # Assuming a temperature range between 20.0 and 35.0 units\n",
    "        inexpensive_measurement += random.uniform(-inexpensive_sensor_accuracy, inexpensive_sensor_accuracy)\n",
    "        inexpensive_sensor_data[i].append(inexpensive_measurement)"
   ]
  },
  {
   "cell_type": "code",
   "execution_count": 53,
   "metadata": {},
   "outputs": [
    {
     "data": {
      "text/plain": [
       "(3895300,)"
      ]
     },
     "execution_count": 53,
     "metadata": {},
     "output_type": "execute_result"
    }
   ],
   "source": [
    "sensor_data = np.concatenate((np.array(expensive_sensor_data).flatten(), np.array(inexpensive_sensor_data).flatten()), axis=0)\n",
    "sensor_data.shape"
   ]
  },
  {
   "cell_type": "code",
   "execution_count": 41,
   "metadata": {},
   "outputs": [],
   "source": [
    "sensor_names = np.array([])\n",
    "for i in range (expensive_sensor_count + inexpensive_sensor_count):\n",
    "    name = 'sensor_' + str(i)\n",
    "    if i < expensive_sensor_count:\n",
    "        sensor_names = np.append(sensor_names, ([name] * len(expensive_sensor_data[0])))\n",
    "    else:\n",
    "        sensor_names = np.append(sensor_names, ([name] * len(inexpensive_sensor_data[0])))"
   ]
  },
  {
   "cell_type": "code",
   "execution_count": 54,
   "metadata": {},
   "outputs": [],
   "source": [
    "data = list(zip(sensor_names, sensor_data))\n",
    "df = pd.DataFrame(data, columns=['Sensor','Temperature'])\n"
   ]
  },
  {
   "cell_type": "code",
   "execution_count": 59,
   "metadata": {},
   "outputs": [
    {
     "ename": "KeyboardInterrupt",
     "evalue": "",
     "output_type": "error",
     "traceback": [
      "\u001b[0;31m---------------------------------------------------------------------------\u001b[0m",
      "\u001b[0;31mKeyboardInterrupt\u001b[0m                         Traceback (most recent call last)",
      "Cell \u001b[0;32mIn[59], line 8\u001b[0m\n\u001b[1;32m      5\u001b[0m max_longitude \u001b[39m=\u001b[39m \u001b[39m-\u001b[39m\u001b[39m73.0\u001b[39m  \u001b[39m# Maximum longitude value\u001b[39;00m\n\u001b[1;32m      7\u001b[0m \u001b[39mfor\u001b[39;00m i \u001b[39min\u001b[39;00m \u001b[39mrange\u001b[39m(inexpensive_sensor_count \u001b[39m+\u001b[39m expensive_sensor_count):\n\u001b[0;32m----> 8\u001b[0m     df\u001b[39m.\u001b[39;49mloc[df[\u001b[39m'\u001b[39;49m\u001b[39mSensor\u001b[39;49m\u001b[39m'\u001b[39;49m] \u001b[39m==\u001b[39;49m \u001b[39m'\u001b[39;49m\u001b[39msensor_\u001b[39;49m\u001b[39m'\u001b[39;49m \u001b[39m+\u001b[39;49m \u001b[39mstr\u001b[39;49m(i), \u001b[39m'\u001b[39;49m\u001b[39mLatitude\u001b[39;49m\u001b[39m'\u001b[39;49m] \u001b[39m=\u001b[39m random\u001b[39m.\u001b[39muniform(min_latitude, max_latitude)\n\u001b[1;32m      9\u001b[0m     df\u001b[39m.\u001b[39mloc[df[\u001b[39m'\u001b[39m\u001b[39mSensor\u001b[39m\u001b[39m'\u001b[39m] \u001b[39m==\u001b[39m \u001b[39m'\u001b[39m\u001b[39msensor_\u001b[39m\u001b[39m'\u001b[39m \u001b[39m+\u001b[39m \u001b[39mstr\u001b[39m(i), \u001b[39m'\u001b[39m\u001b[39mLongitude\u001b[39m\u001b[39m'\u001b[39m] \u001b[39m=\u001b[39m random\u001b[39m.\u001b[39muniform(min_longitude, max_longitude)\n",
      "File \u001b[0;32m~/anaconda3/envs/m3/lib/python3.10/site-packages/pandas/core/indexing.py:818\u001b[0m, in \u001b[0;36m_LocationIndexer.__setitem__\u001b[0;34m(self, key, value)\u001b[0m\n\u001b[1;32m    815\u001b[0m \u001b[39mself\u001b[39m\u001b[39m.\u001b[39m_has_valid_setitem_indexer(key)\n\u001b[1;32m    817\u001b[0m iloc \u001b[39m=\u001b[39m \u001b[39mself\u001b[39m \u001b[39mif\u001b[39;00m \u001b[39mself\u001b[39m\u001b[39m.\u001b[39mname \u001b[39m==\u001b[39m \u001b[39m\"\u001b[39m\u001b[39miloc\u001b[39m\u001b[39m\"\u001b[39m \u001b[39melse\u001b[39;00m \u001b[39mself\u001b[39m\u001b[39m.\u001b[39mobj\u001b[39m.\u001b[39miloc\n\u001b[0;32m--> 818\u001b[0m iloc\u001b[39m.\u001b[39;49m_setitem_with_indexer(indexer, value, \u001b[39mself\u001b[39;49m\u001b[39m.\u001b[39;49mname)\n",
      "File \u001b[0;32m~/anaconda3/envs/m3/lib/python3.10/site-packages/pandas/core/indexing.py:1795\u001b[0m, in \u001b[0;36m_iLocIndexer._setitem_with_indexer\u001b[0;34m(self, indexer, value, name)\u001b[0m\n\u001b[1;32m   1792\u001b[0m \u001b[39m# align and set the values\u001b[39;00m\n\u001b[1;32m   1793\u001b[0m \u001b[39mif\u001b[39;00m take_split_path:\n\u001b[1;32m   1794\u001b[0m     \u001b[39m# We have to operate column-wise\u001b[39;00m\n\u001b[0;32m-> 1795\u001b[0m     \u001b[39mself\u001b[39;49m\u001b[39m.\u001b[39;49m_setitem_with_indexer_split_path(indexer, value, name)\n\u001b[1;32m   1796\u001b[0m \u001b[39melse\u001b[39;00m:\n\u001b[1;32m   1797\u001b[0m     \u001b[39mself\u001b[39m\u001b[39m.\u001b[39m_setitem_single_block(indexer, value, name)\n",
      "File \u001b[0;32m~/anaconda3/envs/m3/lib/python3.10/site-packages/pandas/core/indexing.py:1823\u001b[0m, in \u001b[0;36m_iLocIndexer._setitem_with_indexer_split_path\u001b[0;34m(self, indexer, value, name)\u001b[0m\n\u001b[1;32m   1820\u001b[0m ilocs \u001b[39m=\u001b[39m \u001b[39mself\u001b[39m\u001b[39m.\u001b[39m_ensure_iterable_column_indexer(info_axis)\n\u001b[1;32m   1822\u001b[0m pi \u001b[39m=\u001b[39m indexer[\u001b[39m0\u001b[39m]\n\u001b[0;32m-> 1823\u001b[0m lplane_indexer \u001b[39m=\u001b[39m length_of_indexer(pi, \u001b[39mself\u001b[39;49m\u001b[39m.\u001b[39;49mobj\u001b[39m.\u001b[39;49mindex)\n\u001b[1;32m   1824\u001b[0m \u001b[39m# lplane_indexer gives the expected length of obj[indexer[0]]\u001b[39;00m\n\u001b[1;32m   1825\u001b[0m \n\u001b[1;32m   1826\u001b[0m \u001b[39m# we need an iterable, with a ndim of at least 1\u001b[39;00m\n\u001b[1;32m   1827\u001b[0m \u001b[39m# eg. don't pass through np.array(0)\u001b[39;00m\n\u001b[1;32m   1828\u001b[0m \u001b[39mif\u001b[39;00m is_list_like_indexer(value) \u001b[39mand\u001b[39;00m \u001b[39mgetattr\u001b[39m(value, \u001b[39m\"\u001b[39m\u001b[39mndim\u001b[39m\u001b[39m\"\u001b[39m, \u001b[39m1\u001b[39m) \u001b[39m>\u001b[39m \u001b[39m0\u001b[39m:\n",
      "File \u001b[0;32m~/anaconda3/envs/m3/lib/python3.10/site-packages/pandas/core/indexers/utils.py:327\u001b[0m, in \u001b[0;36mlength_of_indexer\u001b[0;34m(indexer, target)\u001b[0m\n\u001b[1;32m    323\u001b[0m         indexer \u001b[39m=\u001b[39m np\u001b[39m.\u001b[39marray(indexer)\n\u001b[1;32m    325\u001b[0m     \u001b[39mif\u001b[39;00m indexer\u001b[39m.\u001b[39mdtype \u001b[39m==\u001b[39m \u001b[39mbool\u001b[39m:\n\u001b[1;32m    326\u001b[0m         \u001b[39m# GH#25774\u001b[39;00m\n\u001b[0;32m--> 327\u001b[0m         \u001b[39mreturn\u001b[39;00m indexer\u001b[39m.\u001b[39;49msum()\n\u001b[1;32m    328\u001b[0m     \u001b[39mreturn\u001b[39;00m \u001b[39mlen\u001b[39m(indexer)\n\u001b[1;32m    329\u001b[0m \u001b[39melif\u001b[39;00m \u001b[39misinstance\u001b[39m(indexer, \u001b[39mrange\u001b[39m):\n",
      "File \u001b[0;32m~/.local/lib/python3.10/site-packages/numpy/core/_methods.py:49\u001b[0m, in \u001b[0;36m_sum\u001b[0;34m(a, axis, dtype, out, keepdims, initial, where)\u001b[0m\n\u001b[1;32m     47\u001b[0m \u001b[39mdef\u001b[39;00m \u001b[39m_sum\u001b[39m(a, axis\u001b[39m=\u001b[39m\u001b[39mNone\u001b[39;00m, dtype\u001b[39m=\u001b[39m\u001b[39mNone\u001b[39;00m, out\u001b[39m=\u001b[39m\u001b[39mNone\u001b[39;00m, keepdims\u001b[39m=\u001b[39m\u001b[39mFalse\u001b[39;00m,\n\u001b[1;32m     48\u001b[0m          initial\u001b[39m=\u001b[39m_NoValue, where\u001b[39m=\u001b[39m\u001b[39mTrue\u001b[39;00m):\n\u001b[0;32m---> 49\u001b[0m     \u001b[39mreturn\u001b[39;00m umr_sum(a, axis, dtype, out, keepdims, initial, where)\n",
      "\u001b[0;31mKeyboardInterrupt\u001b[0m: "
     ]
    }
   ],
   "source": [
    "# Define the range for latitude and longitude\n",
    "min_latitude = 40.0  # Minimum latitude value\n",
    "max_latitude = 42.0  # Maximum latitude value\n",
    "min_longitude = -75.0  # Minimum longitude value\n",
    "max_longitude = -73.0  # Maximum longitude value\n",
    "\n",
    "for i in range(inexpensive_sensor_count + expensive_sensor_count):\n",
    "    df.loc[df['Sensor'] == 'sensor_' + str(i), 'Latitude'] = random.uniform(min_latitude, max_latitude)\n",
    "    df.loc[df['Sensor'] == 'sensor_' + str(i), 'Longitude'] = random.uniform(min_longitude, max_longitude)"
   ]
  }
 ],
 "metadata": {
  "kernelspec": {
   "display_name": "m3",
   "language": "python",
   "name": "python3"
  },
  "language_info": {
   "codemirror_mode": {
    "name": "ipython",
    "version": 3
   },
   "file_extension": ".py",
   "mimetype": "text/x-python",
   "name": "python",
   "nbconvert_exporter": "python",
   "pygments_lexer": "ipython3",
   "version": "3.10.9"
  },
  "orig_nbformat": 4
 },
 "nbformat": 4,
 "nbformat_minor": 2
}
